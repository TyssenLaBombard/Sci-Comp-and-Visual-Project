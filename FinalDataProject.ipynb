{
 "cells": [
  {
   "cell_type": "markdown",
   "id": "0b66cebb-d62b-44a5-bbee-45052f884234",
   "metadata": {},
   "source": [
    "#### STAGE1 Project\n",
    "#### Alex Phoummalayvane, Tyssen Labombard, Ben Wiita\n",
    "#### Fitting Curves to Data Project"
   ]
  },
  {
   "cell_type": "markdown",
   "id": "e1c49b66-efe1-415e-b05a-3ccec1b1c5c4",
   "metadata": {},
   "source": [
    "1. Copy the Point2D struct from your homework and Chapter 17a into your module. This should be parametric\n",
    "like was discussed in Chapter 17a. That is it should have a single type and if the two points that are passed in\n",
    "are different types, you need to convert."
   ]
  },
  {
   "cell_type": "code",
   "execution_count": 2,
   "id": "6ac36f05-aa6e-4cc6-beaa-70d0c586aa2a",
   "metadata": {},
   "outputs": [],
   "source": [
    "using Revise"
   ]
  },
  {
   "cell_type": "code",
   "execution_count": 3,
   "id": "2979a501-d3d9-4d39-b23e-915b3b5fbcbf",
   "metadata": {},
   "outputs": [],
   "source": [
    "includet(\"DataFit.jl\")"
   ]
  },
  {
   "cell_type": "code",
   "execution_count": 4,
   "id": "03fb264f-340f-4cda-9813-f89d4a1f0458",
   "metadata": {},
   "outputs": [],
   "source": [
    "using .DataFit"
   ]
  },
  {
   "cell_type": "code",
   "execution_count": 5,
   "id": "e2e9c328-2b1d-4047-937a-bee949ac5414",
   "metadata": {},
   "outputs": [
    {
     "data": {
      "text/plain": [
       "(1,4)"
      ]
     },
     "execution_count": 5,
     "metadata": {},
     "output_type": "execute_result"
    }
   ],
   "source": [
    "#test to make Point2D object when passing in ints \n",
    "point2D_test = Point2D(1, 4)"
   ]
  },
  {
   "cell_type": "code",
   "execution_count": 6,
   "id": "1291eae4-46b5-4714-9356-7f4c080be293",
   "metadata": {},
   "outputs": [
    {
     "data": {
      "text/plain": [
       "(1.0,4.0)"
      ]
     },
     "execution_count": 6,
     "metadata": {},
     "output_type": "execute_result"
    }
   ],
   "source": [
    "# test to see if it changes types inside Point2D object to both be floats \n",
    "point2D_test = Point2D(1, 4.0)"
   ]
  },
  {
   "cell_type": "code",
   "execution_count": 7,
   "id": "409de866-c2aa-4dc2-896b-29ff087a7044",
   "metadata": {},
   "outputs": [
    {
     "data": {
      "text/plain": [
       "(1.4,4.0)"
      ]
     },
     "execution_count": 7,
     "metadata": {},
     "output_type": "execute_result"
    }
   ],
   "source": [
    "# test to see if Point2D object can be made when passing in floats \n",
    "point2D_test = Point2D(1.4, 4.0)"
   ]
  },
  {
   "cell_type": "markdown",
   "id": "a464c192-c706-4e92-ab5a-49b07dc54099",
   "metadata": {},
   "source": [
    "2. Create a new data type called XYData that stores a vector Point2D objects from your homework. You should\n",
    "do this parametrically and the types of data for x and y should be the same and a subset of Real.\n"
   ]
  },
  {
   "cell_type": "code",
   "execution_count": 8,
   "id": "a9bd77c0-ffd2-4b08-8b13-993bd4690e63",
   "metadata": {
    "tags": []
   },
   "outputs": [
    {
     "data": {
      "text/plain": [
       "[(1,2),(4,2),(6,7)]"
      ]
     },
     "execution_count": 8,
     "metadata": {},
     "output_type": "execute_result"
    }
   ],
   "source": [
    "# test to create XYData object from passing in a vector of tuples \n",
    "test_vectorTuples = XYData([(1,2), (4,2), (6,7)])"
   ]
  },
  {
   "cell_type": "code",
   "execution_count": 9,
   "id": "3d635bf4-29b3-4821-a527-99719b267b14",
   "metadata": {},
   "outputs": [
    {
     "data": {
      "text/plain": [
       "4-element Vector{Float64}:\n",
       " 3.1\n",
       " 3.2\n",
       " 0.0\n",
       " 0.1"
      ]
     },
     "execution_count": 9,
     "metadata": {},
     "output_type": "execute_result"
    }
   ],
   "source": [
    "vector_ypts_floats = [3.1, 3.2, 0.0, 0.1]"
   ]
  },
  {
   "cell_type": "code",
   "execution_count": 10,
   "id": "0232f18a-1480-4bea-bfa8-55fc16c8101a",
   "metadata": {},
   "outputs": [
    {
     "data": {
      "text/plain": [
       "4-element Vector{Int64}:\n",
       " 0\n",
       " 4\n",
       " 4\n",
       " 0"
      ]
     },
     "execution_count": 10,
     "metadata": {},
     "output_type": "execute_result"
    }
   ],
   "source": [
    "vector_xpts_ints = [0, 4, 4, 0]"
   ]
  },
  {
   "cell_type": "code",
   "execution_count": 11,
   "id": "2d172e3e-7036-4315-a27d-3edaa0743013",
   "metadata": {},
   "outputs": [
    {
     "data": {
      "text/plain": [
       "[(0.0,3.1),(4.0,3.2),(4.0,0.0),(0.0,0.1)]"
      ]
     },
     "execution_count": 11,
     "metadata": {},
     "output_type": "execute_result"
    }
   ],
   "source": [
    "#test for constructing XYData object from two vectors of same length but diff type\n",
    "vector_diff_types = XYData(vector_xpts_ints, vector_ypts_floats)"
   ]
  },
  {
   "cell_type": "code",
   "execution_count": 12,
   "id": "e9e9a5fa-b368-448c-92f4-6562f0664f9b",
   "metadata": {},
   "outputs": [],
   "source": [
    "#example professor gave\n",
    "#map((i,j)->i*j, [2, 5, 6], [3,5,9])"
   ]
  },
  {
   "cell_type": "code",
   "execution_count": 13,
   "id": "45ac5acd-13fa-449a-bb9a-da9fde21ce04",
   "metadata": {},
   "outputs": [
    {
     "data": {
      "text/plain": [
       "4-element Vector{Int64}:\n",
       " 0\n",
       " 4\n",
       " 4\n",
       " 0"
      ]
     },
     "execution_count": 13,
     "metadata": {},
     "output_type": "execute_result"
    }
   ],
   "source": [
    "vector_xpts = [0, 4, 4, 0]"
   ]
  },
  {
   "cell_type": "code",
   "execution_count": 14,
   "id": "159c3a5d-c05b-4bf7-b80a-9aba6a5e303c",
   "metadata": {},
   "outputs": [
    {
     "data": {
      "text/plain": [
       "4-element Vector{Int64}:\n",
       " 3\n",
       " 3\n",
       " 0\n",
       " 0"
      ]
     },
     "execution_count": 14,
     "metadata": {},
     "output_type": "execute_result"
    }
   ],
   "source": [
    "vector_ypts = [3, 3, 0, 0]"
   ]
  },
  {
   "cell_type": "code",
   "execution_count": 15,
   "id": "94a39467-cee7-43b5-8f8a-1a34c3e70a43",
   "metadata": {},
   "outputs": [
    {
     "data": {
      "text/plain": [
       "[(0,3),(4,3),(4,0),(0,0)]"
      ]
     },
     "execution_count": 15,
     "metadata": {},
     "output_type": "execute_result"
    }
   ],
   "source": [
    "plot_test = XYData(vector_xpts, vector_ypts)"
   ]
  },
  {
   "cell_type": "markdown",
   "id": "f71fc520-5c56-4049-9c11-dfd3cb362b91",
   "metadata": {},
   "source": [
    "2a. Create a default inner constructor that takes a vector of Point2D objects.\n"
   ]
  },
  {
   "cell_type": "markdown",
   "id": "addf077d-3e08-41b6-ab82-eea970176ac1",
   "metadata": {},
   "source": [
    "2b. Create a constructor that creates a new XYData object from two vectors of reals of the same length (each\n",
    "vector should be the same subtype of real)."
   ]
  },
  {
   "cell_type": "markdown",
   "id": "f77fa832-b9cc-4cf2-9e08-565d1f36c9dd",
   "metadata": {},
   "source": [
    "2c. Create a constructor that creates a new XYData object from a vector of tuples. Consider tuples of the\n",
    "same and different types.\n"
   ]
  },
  {
   "cell_type": "markdown",
   "id": "9d9169f8-aca0-44b4-bf6c-2e44a2788aa4",
   "metadata": {},
   "source": [
    "2d. Create a constructor that creates a new XYData object from two vectors of the same length but different\n",
    "types (like integers and floats)."
   ]
  },
  {
   "cell_type": "markdown",
   "id": "fee82093-8643-4ec0-aa30-0072a583c1b4",
   "metadata": {
    "tags": []
   },
   "source": [
    "2e. Create a Base.show function that prints out the XYData in a nice way."
   ]
  },
  {
   "cell_type": "markdown",
   "id": "82696785-737a-4457-94cd-9d09f2f179a0",
   "metadata": {},
   "source": [
    "3.  Use a RecipesBase to develop a plot recipe for plotting XYData. Test it.\n"
   ]
  },
  {
   "cell_type": "code",
   "execution_count": 17,
   "id": "d70673f7-3415-4f67-b828-4a67170e82fd",
   "metadata": {},
   "outputs": [
    {
     "ename": "LoadError",
     "evalue": "UndefVarError: plot not defined",
     "output_type": "error",
     "traceback": [
      "UndefVarError: plot not defined",
      "",
      "Stacktrace:",
      " [1] top-level scope",
      "   @ In[17]:1",
      " [2] eval",
      "   @ .\\boot.jl:368 [inlined]",
      " [3] include_string(mapexpr::typeof(REPL.softscope), mod::Module, code::String, filename::String)",
      "   @ Base .\\loading.jl:1428"
     ]
    }
   ],
   "source": [
    "plot(plot_test)"
   ]
  },
  {
   "cell_type": "markdown",
   "id": "e2d310f8-3dcb-4d2f-9e3f-9c2b09a8b8c5",
   "metadata": {},
   "source": [
    "4. Write a function called linearRegression that passes in a XYData object and return the least-squares line\n",
    "(formulas in the Background section above) as either a named tuple or a new datatype."
   ]
  },
  {
   "cell_type": "code",
   "execution_count": 18,
   "id": "95480cf8-f7ee-4ec8-a31d-20a94a2b1e3b",
   "metadata": {
    "tags": []
   },
   "outputs": [
    {
     "data": {
      "text/plain": [
       "5-element Vector{Int64}:\n",
       " 2\n",
       " 3\n",
       " 5\n",
       " 7\n",
       " 9"
      ]
     },
     "execution_count": 18,
     "metadata": {},
     "output_type": "execute_result"
    }
   ],
   "source": [
    "v1 = [2,3,5,7,9]"
   ]
  },
  {
   "cell_type": "code",
   "execution_count": 19,
   "id": "9a1edd70-54e9-43a4-9a93-43dc200fd310",
   "metadata": {
    "tags": []
   },
   "outputs": [
    {
     "data": {
      "text/plain": [
       "5-element Vector{Int64}:\n",
       "  4\n",
       "  5\n",
       "  7\n",
       " 10\n",
       " 15"
      ]
     },
     "execution_count": 19,
     "metadata": {},
     "output_type": "execute_result"
    }
   ],
   "source": [
    "v2 = [4,5,7,10,15]"
   ]
  },
  {
   "cell_type": "code",
   "execution_count": 20,
   "id": "2b6e8d07-8c9f-4f9f-9ca3-b8d2e09bfcd7",
   "metadata": {},
   "outputs": [
    {
     "data": {
      "text/plain": [
       "[(2,4),(3,5),(5,7),(7,10),(9,15)]"
      ]
     },
     "execution_count": 20,
     "metadata": {},
     "output_type": "execute_result"
    }
   ],
   "source": [
    "d1 = XYData(v1,v2)"
   ]
  },
  {
   "cell_type": "code",
   "execution_count": 21,
   "id": "9f40a470-98e8-434f-9773-5ff3cb186d26",
   "metadata": {},
   "outputs": [
    {
     "data": {
      "text/plain": [
       "(1.5182926829268293, 0.30487804878048763)"
      ]
     },
     "execution_count": 21,
     "metadata": {},
     "output_type": "execute_result"
    }
   ],
   "source": [
    "linearRegression(d1)"
   ]
  },
  {
   "cell_type": "markdown",
   "id": "a5fc6fee-55de-4cbe-a649-b1e058de7e87",
   "metadata": {},
   "source": [
    "5. Develop a test suite for this module and test the different constructor methods as well as for any errors that\n",
    "may be thrown."
   ]
  },
  {
   "cell_type": "code",
   "execution_count": 43,
   "id": "b205ee82-b85b-402b-985c-81846fb01f2c",
   "metadata": {},
   "outputs": [],
   "source": [
    "using LinearAlgebra"
   ]
  },
  {
   "cell_type": "code",
   "execution_count": 44,
   "id": "42ea8d2b-9eb2-40ca-b3ea-d49c1f42c220",
   "metadata": {},
   "outputs": [],
   "source": [
    "using Test"
   ]
  },
  {
   "cell_type": "code",
   "execution_count": 45,
   "id": "3cba93ee-b3e0-4124-b7a2-a6014d5ce7b7",
   "metadata": {},
   "outputs": [],
   "source": [
    "using Revise"
   ]
  },
  {
   "cell_type": "code",
   "execution_count": 22,
   "id": "4774108a-9a17-4006-8368-a433822ae257",
   "metadata": {},
   "outputs": [
    {
     "name": "stdout",
     "output_type": "stream",
     "text": [
      "\u001b[0m\u001b[1mTest Summary: | \u001b[22m\u001b[32m\u001b[1mPass  \u001b[22m\u001b[39m\u001b[36m\u001b[1mTotal  \u001b[22m\u001b[39m\u001b[0m\u001b[1mTime\u001b[22m\n",
      "Legal Point2D | \u001b[32m   2  \u001b[39m\u001b[36m    2  \u001b[39m\u001b[0m0.5s\n",
      "\u001b[0m\u001b[1mTest Summary: | \u001b[22m\u001b[32m\u001b[1mPass  \u001b[22m\u001b[39m\u001b[36m\u001b[1mTotal  \u001b[22m\u001b[39m\u001b[0m\u001b[1mTime\u001b[22m\n",
      "Legal XYData  | \u001b[32m   2  \u001b[39m\u001b[36m    2  \u001b[39m\u001b[0m0.0s\n",
      "\u001b[0m\u001b[1mTest Summary:      | \u001b[22m\u001b[32m\u001b[1mPass  \u001b[22m\u001b[39m\u001b[36m\u001b[1mTotal  \u001b[22m\u001b[39m\u001b[0m\u001b[1mTime\u001b[22m\n",
      "legal XYData Tuple | \u001b[32m   1  \u001b[39m\u001b[36m    1  \u001b[39m\u001b[0m0.0s\n",
      "\u001b[0m\u001b[1mTest Summary:      | \u001b[22m\u001b[32m\u001b[1mPass  \u001b[22m\u001b[39m\u001b[36m\u001b[1mTotal  \u001b[22m\u001b[39m\u001b[0m\u001b[1mTime\u001b[22m\n",
      "Legal XYData Types | \u001b[32m   2  \u001b[39m\u001b[36m    2  \u001b[39m\u001b[0m0.1s\n"
     ]
    }
   ],
   "source": [
    "includet(\"TestSuiteStage1.jl\");"
   ]
  },
  {
   "cell_type": "markdown",
   "id": "d6fef42a-13fa-4a9f-ae7b-74b97822ad6d",
   "metadata": {},
   "source": [
    "6. Add documentation for all constructors and functions in the module."
   ]
  },
  {
   "cell_type": "markdown",
   "id": "e1a141b3-8d84-43da-a95a-0145e06a7ca6",
   "metadata": {},
   "source": [
    "# Stage 2"
   ]
  },
  {
   "cell_type": "markdown",
   "id": "65981c4f-1f2c-455e-b50f-59a791d66b52",
   "metadata": {},
   "source": [
    "1. Enter the gradientDescentBB functions from the textbook. Add them to your module."
   ]
  },
  {
   "cell_type": "code",
   "execution_count": 47,
   "id": "9714da7b-65d2-4b71-8557-d0faa7cbed08",
   "metadata": {},
   "outputs": [
    {
     "data": {
      "text/plain": [
       "gradientDescentBB (generic function with 1 method)"
      ]
     },
     "execution_count": 47,
     "metadata": {},
     "output_type": "execute_result"
    }
   ],
   "source": [
    "function gradientDescentBB(f::Function,x₀::Vector; max_steps = 100)\n",
    "  local steps = 0\n",
    "  local ∇f₀ = ForwardDiff.gradient(f,x₀)\n",
    "  local x₁ = x₀ - 0.25 * ∇f₀ # need to start with a value for x₁\n",
    "  while norm(∇f₀)> 1e-4 && steps < max_steps\n",
    "    ∇f₁ = ForwardDiff.gradient(f,x₁)\n",
    "    Δ∇f = ∇f₁-∇f₀\n",
    "    x₂ = x₁ - abs(dot(x₁-x₀,Δ∇f))/norm(Δ∇f)^2*∇f₁\n",
    "    x₀ = x₁\n",
    "    x₁ = x₂\n",
    "    ∇f₀ = ∇f₁\n",
    "    steps += 1\n",
    "  end\n",
    "  @show steps\n",
    "  steps < max_steps || throw(ErrorException(\"The number of steps has exceeded $max_steps\"))\n",
    "  x₁\n",
    "end\n"
   ]
  },
  {
   "cell_type": "markdown",
   "id": "73662616-4fdb-4850-8dc0-b9204bde9cc9",
   "metadata": {},
   "source": [
    "2. Write a function called bestFitLine that minimizes equation (1) for a given set of data using the Barzilai–Borwein gradient descent code in problem #1. The only input should be a XYData object and should return a\n",
    "named tuple or a new datatype. Add the function to your module."
   ]
  },
  {
   "cell_type": "code",
   "execution_count": 48,
   "id": "17240bf5-8425-4444-8fe6-8143a569804e",
   "metadata": {},
   "outputs": [],
   "source": [
    "using ForwardDiff"
   ]
  },
  {
   "cell_type": "code",
   "execution_count": 24,
   "id": "2ac1ee8e-423c-4fa5-baa6-b0f988e902b5",
   "metadata": {},
   "outputs": [
    {
     "data": {
      "text/plain": [
       "f (generic function with 1 method)"
      ]
     },
     "execution_count": 24,
     "metadata": {},
     "output_type": "execute_result"
    }
   ],
   "source": [
    "f(x) = x[1]^2+x[2]^2"
   ]
  },
  {
   "cell_type": "code",
   "execution_count": 25,
   "id": "c6adbb71-5c44-4b90-871b-c38bd2e12c2c",
   "metadata": {},
   "outputs": [
    {
     "name": "stdout",
     "output_type": "stream",
     "text": [
      "steps = 2\n"
     ]
    },
    {
     "data": {
      "text/plain": [
       "2-element Vector{Float64}:\n",
       " 0.0\n",
       " 0.0"
      ]
     },
     "execution_count": 25,
     "metadata": {},
     "output_type": "execute_result"
    }
   ],
   "source": [
    "gradientDescentBB(f,[1,2])"
   ]
  },
  {
   "cell_type": "code",
   "execution_count": 51,
   "id": "dddb3ca2-1d52-45b6-b8b7-689aa0405baf",
   "metadata": {},
   "outputs": [
    {
     "data": {
      "text/plain": [
       "bestFitLine (generic function with 1 method)"
      ]
     },
     "execution_count": 51,
     "metadata": {},
     "output_type": "execute_result"
    }
   ],
   "source": [
    "function bestFitLine(data::XYData)\n",
    "    function S(c)\n",
    "        a=c[1]\n",
    "        b=c[2]\n",
    "        sum(pt->(a*pt.x+b-pt.y)^2,data.vertices)\n",
    "    end\n",
    "    gradientDescentBB(S,[1,2])\n",
    "end"
   ]
  },
  {
   "cell_type": "code",
   "execution_count": 26,
   "id": "be4d3a49-aed5-4692-b266-26230ce39096",
   "metadata": {},
   "outputs": [
    {
     "name": "stdout",
     "output_type": "stream",
     "text": [
      "steps = 5\n"
     ]
    },
    {
     "data": {
      "text/plain": [
       "2-element Vector{Float64}:\n",
       " 1.5182926751961423\n",
       " 0.3048780475772454"
      ]
     },
     "execution_count": 26,
     "metadata": {},
     "output_type": "execute_result"
    }
   ],
   "source": [
    "bestFitLine(d1)"
   ]
  },
  {
   "cell_type": "code",
   "execution_count": null,
   "id": "a5c8ccff-e0ed-4ded-b0be-96199e751ca0",
   "metadata": {},
   "outputs": [],
   "source": []
  }
 ],
 "metadata": {
  "kernelspec": {
   "display_name": "Julia 1.8.1",
   "language": "julia",
   "name": "julia-1.8"
  },
  "language_info": {
   "file_extension": ".jl",
   "mimetype": "application/julia",
   "name": "julia",
   "version": "1.8.1"
  }
 },
 "nbformat": 4,
 "nbformat_minor": 5
}
