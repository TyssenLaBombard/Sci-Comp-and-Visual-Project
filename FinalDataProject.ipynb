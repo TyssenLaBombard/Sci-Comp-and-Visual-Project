{
 "cells": [
  {
   "cell_type": "markdown",
   "id": "0b66cebb-d62b-44a5-bbee-45052f884234",
   "metadata": {},
   "source": [
    "#### STAGE1 Project\n",
    "#### Alex Phoummalayvane, Tyssen Labombard, Ben Wiita\n",
    "#### Fitting Curves to Data Project"
   ]
  },
  {
   "cell_type": "markdown",
   "id": "e1c49b66-efe1-415e-b05a-3ccec1b1c5c4",
   "metadata": {},
   "source": [
    "1. Copy the Point2D struct from your homework and Chapter 17a into your module. This should be parametric\n",
    "like was discussed in Chapter 17a. That is it should have a single type and if the two points that are passed in\n",
    "are different types, you need to convert."
   ]
  },
  {
   "cell_type": "code",
   "execution_count": 1,
   "id": "6ac36f05-aa6e-4cc6-beaa-70d0c586aa2a",
   "metadata": {},
   "outputs": [],
   "source": [
    "using Revise"
   ]
  },
  {
   "cell_type": "code",
   "execution_count": 2,
   "id": "f8e16b21-5658-4a1e-a819-c69a99492374",
   "metadata": {},
   "outputs": [],
   "source": [
    "using RecipesBase, Plots"
   ]
  },
  {
   "cell_type": "code",
   "execution_count": 3,
   "id": "2979a501-d3d9-4d39-b23e-915b3b5fbcbf",
   "metadata": {},
   "outputs": [],
   "source": [
    "includet(\"DataFit.jl\")"
   ]
  },
  {
   "cell_type": "code",
   "execution_count": 4,
   "id": "03fb264f-340f-4cda-9813-f89d4a1f0458",
   "metadata": {},
   "outputs": [],
   "source": [
    "using .DataFit"
   ]
  },
  {
   "cell_type": "code",
   "execution_count": 5,
   "id": "e2e9c328-2b1d-4047-937a-bee949ac5414",
   "metadata": {},
   "outputs": [
    {
     "data": {
      "text/plain": [
       "(1,4)"
      ]
     },
     "execution_count": 5,
     "metadata": {},
     "output_type": "execute_result"
    }
   ],
   "source": [
    "#test to make Point2D object when passing in ints \n",
    "point2D_test = Point2D(1, 4)"
   ]
  },
  {
   "cell_type": "code",
   "execution_count": 6,
   "id": "1291eae4-46b5-4714-9356-7f4c080be293",
   "metadata": {},
   "outputs": [
    {
     "data": {
      "text/plain": [
       "(1.0,4.0)"
      ]
     },
     "execution_count": 6,
     "metadata": {},
     "output_type": "execute_result"
    }
   ],
   "source": [
    "# test to see if it changes types inside Point2D object to both be floats \n",
    "point2D_test = Point2D(1, 4.0)"
   ]
  },
  {
   "cell_type": "code",
   "execution_count": 7,
   "id": "409de866-c2aa-4dc2-896b-29ff087a7044",
   "metadata": {},
   "outputs": [
    {
     "data": {
      "text/plain": [
       "(1.4,4.0)"
      ]
     },
     "execution_count": 7,
     "metadata": {},
     "output_type": "execute_result"
    }
   ],
   "source": [
    "# test to see if Point2D object can be made when passing in floats \n",
    "point2D_test = Point2D(1.4, 4.0)"
   ]
  },
  {
   "cell_type": "markdown",
   "id": "a464c192-c706-4e92-ab5a-49b07dc54099",
   "metadata": {},
   "source": [
    "2. Create a new data type called XYData that stores a vector Point2D objects from your homework. You should\n",
    "do this parametrically and the types of data for x and y should be the same and a subset of Real.\n"
   ]
  },
  {
   "cell_type": "code",
   "execution_count": 8,
   "id": "a9bd77c0-ffd2-4b08-8b13-993bd4690e63",
   "metadata": {
    "tags": []
   },
   "outputs": [
    {
     "data": {
      "text/plain": [
       "[(1,2),(4,2),(6,7)]"
      ]
     },
     "execution_count": 8,
     "metadata": {},
     "output_type": "execute_result"
    }
   ],
   "source": [
    "# test to create XYData object from passing in a vector of tuples \n",
    "test_vectorTuples = XYData([(1,2), (4,2), (6,7)])"
   ]
  },
  {
   "cell_type": "code",
   "execution_count": 9,
   "id": "3d635bf4-29b3-4821-a527-99719b267b14",
   "metadata": {},
   "outputs": [
    {
     "data": {
      "text/plain": [
       "4-element Vector{Float64}:\n",
       " 3.1\n",
       " 3.2\n",
       " 0.0\n",
       " 0.1"
      ]
     },
     "execution_count": 9,
     "metadata": {},
     "output_type": "execute_result"
    }
   ],
   "source": [
    "vector_ypts_floats = [3.1, 3.2, 0.0, 0.1]"
   ]
  },
  {
   "cell_type": "code",
   "execution_count": 10,
   "id": "0232f18a-1480-4bea-bfa8-55fc16c8101a",
   "metadata": {},
   "outputs": [
    {
     "data": {
      "text/plain": [
       "4-element Vector{Int64}:\n",
       " 0\n",
       " 4\n",
       " 4\n",
       " 0"
      ]
     },
     "execution_count": 10,
     "metadata": {},
     "output_type": "execute_result"
    }
   ],
   "source": [
    "vector_xpts_ints = [0, 4, 4, 0]"
   ]
  },
  {
   "cell_type": "code",
   "execution_count": 11,
   "id": "2d172e3e-7036-4315-a27d-3edaa0743013",
   "metadata": {},
   "outputs": [
    {
     "data": {
      "text/plain": [
       "[(0.0,3.1),(4.0,3.2),(4.0,0.0),(0.0,0.1)]"
      ]
     },
     "execution_count": 11,
     "metadata": {},
     "output_type": "execute_result"
    }
   ],
   "source": [
    "#test for constructing XYData object from two vectors of same length but diff type\n",
    "vector_diff_types = XYData(vector_xpts_ints, vector_ypts_floats)"
   ]
  },
  {
   "cell_type": "code",
   "execution_count": 12,
   "id": "e9e9a5fa-b368-448c-92f4-6562f0664f9b",
   "metadata": {},
   "outputs": [],
   "source": [
    "#example professor gave\n",
    "#map((i,j)->i*j, [2, 5, 6], [3,5,9])"
   ]
  },
  {
   "cell_type": "code",
   "execution_count": 13,
   "id": "45ac5acd-13fa-449a-bb9a-da9fde21ce04",
   "metadata": {},
   "outputs": [
    {
     "data": {
      "text/plain": [
       "4-element Vector{Int64}:\n",
       " 0\n",
       " 4\n",
       " 4\n",
       " 0"
      ]
     },
     "execution_count": 13,
     "metadata": {},
     "output_type": "execute_result"
    }
   ],
   "source": [
    "vector_xpts = [0, 4, 4, 0]"
   ]
  },
  {
   "cell_type": "code",
   "execution_count": 14,
   "id": "159c3a5d-c05b-4bf7-b80a-9aba6a5e303c",
   "metadata": {},
   "outputs": [
    {
     "data": {
      "text/plain": [
       "4-element Vector{Int64}:\n",
       " 3\n",
       " 3\n",
       " 0\n",
       " 0"
      ]
     },
     "execution_count": 14,
     "metadata": {},
     "output_type": "execute_result"
    }
   ],
   "source": [
    "vector_ypts = [3, 3, 0, 0]"
   ]
  },
  {
   "cell_type": "code",
   "execution_count": 15,
   "id": "94a39467-cee7-43b5-8f8a-1a34c3e70a43",
   "metadata": {},
   "outputs": [
    {
     "data": {
      "text/plain": [
       "[(0,3),(4,3),(4,0),(0,0)]"
      ]
     },
     "execution_count": 15,
     "metadata": {},
     "output_type": "execute_result"
    }
   ],
   "source": [
    "plot_test = XYData(vector_xpts, vector_ypts)"
   ]
  },
  {
   "cell_type": "markdown",
   "id": "f71fc520-5c56-4049-9c11-dfd3cb362b91",
   "metadata": {},
   "source": [
    "2a. Create a default inner constructor that takes a vector of Point2D objects.\n"
   ]
  },
  {
   "cell_type": "markdown",
   "id": "addf077d-3e08-41b6-ab82-eea970176ac1",
   "metadata": {},
   "source": [
    "2b. Create a constructor that creates a new XYData object from two vectors of reals of the same length (each\n",
    "vector should be the same subtype of real)."
   ]
  },
  {
   "cell_type": "markdown",
   "id": "f77fa832-b9cc-4cf2-9e08-565d1f36c9dd",
   "metadata": {},
   "source": [
    "2c. Create a constructor that creates a new XYData object from a vector of tuples. Consider tuples of the\n",
    "same and different types.\n"
   ]
  },
  {
   "cell_type": "markdown",
   "id": "9d9169f8-aca0-44b4-bf6c-2e44a2788aa4",
   "metadata": {},
   "source": [
    "2d. Create a constructor that creates a new XYData object from two vectors of the same length but different\n",
    "types (like integers and floats)."
   ]
  },
  {
   "cell_type": "markdown",
   "id": "fee82093-8643-4ec0-aa30-0072a583c1b4",
   "metadata": {
    "tags": []
   },
   "source": [
    "2e. Create a Base.show function that prints out the XYData in a nice way."
   ]
  },
  {
   "cell_type": "markdown",
   "id": "82696785-737a-4457-94cd-9d09f2f179a0",
   "metadata": {},
   "source": [
    "3.  Use a RecipesBase to develop a plot recipe for plotting XYData. Test it.\n"
   ]
  },
  {
   "cell_type": "code",
   "execution_count": 16,
   "id": "d70673f7-3415-4f67-b828-4a67170e82fd",
   "metadata": {},
   "outputs": [
    {
     "data": {
      "image/svg+xml": [
       "<?xml version=\"1.0\" encoding=\"utf-8\"?>\n",
       "<svg xmlns=\"http://www.w3.org/2000/svg\" xmlns:xlink=\"http://www.w3.org/1999/xlink\" width=\"600\" height=\"400\" viewBox=\"0 0 2400 1600\">\n",
       "<defs>\n",
       "  <clipPath id=\"clip750\">\n",
       "    <rect x=\"0\" y=\"0\" width=\"2400\" height=\"1600\"/>\n",
       "  </clipPath>\n",
       "</defs>\n",
       "<path clip-path=\"url(#clip750)\" d=\"\n",
       "M0 1600 L2400 1600 L2400 0 L0 0  Z\n",
       "  \" fill=\"#ffffff\" fill-rule=\"evenodd\" fill-opacity=\"1\"/>\n",
       "<defs>\n",
       "  <clipPath id=\"clip751\">\n",
       "    <rect x=\"480\" y=\"0\" width=\"1681\" height=\"1600\"/>\n",
       "  </clipPath>\n",
       "</defs>\n",
       "<path clip-path=\"url(#clip750)\" d=\"\n",
       "M110.881 1486.45 L2352.76 1486.45 L2352.76 123.472 L110.881 123.472  Z\n",
       "  \" fill=\"#ffffff\" fill-rule=\"evenodd\" fill-opacity=\"1\"/>\n",
       "<defs>\n",
       "  <clipPath id=\"clip752\">\n",
       "    <rect x=\"110\" y=\"123\" width=\"2243\" height=\"1364\"/>\n",
       "  </clipPath>\n",
       "</defs>\n",
       "<polyline clip-path=\"url(#clip752)\" style=\"stroke:#000000; stroke-linecap:round; stroke-linejoin:round; stroke-width:2; stroke-opacity:0.1; fill:none\" points=\"\n",
       "  174.33,1486.45 174.33,123.472 \n",
       "  \"/>\n",
       "<polyline clip-path=\"url(#clip752)\" style=\"stroke:#000000; stroke-linecap:round; stroke-linejoin:round; stroke-width:2; stroke-opacity:0.1; fill:none\" points=\"\n",
       "  703.074,1486.45 703.074,123.472 \n",
       "  \"/>\n",
       "<polyline clip-path=\"url(#clip752)\" style=\"stroke:#000000; stroke-linecap:round; stroke-linejoin:round; stroke-width:2; stroke-opacity:0.1; fill:none\" points=\"\n",
       "  1231.82,1486.45 1231.82,123.472 \n",
       "  \"/>\n",
       "<polyline clip-path=\"url(#clip752)\" style=\"stroke:#000000; stroke-linecap:round; stroke-linejoin:round; stroke-width:2; stroke-opacity:0.1; fill:none\" points=\"\n",
       "  1760.56,1486.45 1760.56,123.472 \n",
       "  \"/>\n",
       "<polyline clip-path=\"url(#clip752)\" style=\"stroke:#000000; stroke-linecap:round; stroke-linejoin:round; stroke-width:2; stroke-opacity:0.1; fill:none\" points=\"\n",
       "  2289.31,1486.45 2289.31,123.472 \n",
       "  \"/>\n",
       "<polyline clip-path=\"url(#clip750)\" style=\"stroke:#000000; stroke-linecap:round; stroke-linejoin:round; stroke-width:4; stroke-opacity:1; fill:none\" points=\"\n",
       "  110.881,1486.45 2352.76,1486.45 \n",
       "  \"/>\n",
       "<polyline clip-path=\"url(#clip750)\" style=\"stroke:#000000; stroke-linecap:round; stroke-linejoin:round; stroke-width:4; stroke-opacity:1; fill:none\" points=\"\n",
       "  174.33,1486.45 174.33,1467.55 \n",
       "  \"/>\n",
       "<polyline clip-path=\"url(#clip750)\" style=\"stroke:#000000; stroke-linecap:round; stroke-linejoin:round; stroke-width:4; stroke-opacity:1; fill:none\" points=\"\n",
       "  703.074,1486.45 703.074,1467.55 \n",
       "  \"/>\n",
       "<polyline clip-path=\"url(#clip750)\" style=\"stroke:#000000; stroke-linecap:round; stroke-linejoin:round; stroke-width:4; stroke-opacity:1; fill:none\" points=\"\n",
       "  1231.82,1486.45 1231.82,1467.55 \n",
       "  \"/>\n",
       "<polyline clip-path=\"url(#clip750)\" style=\"stroke:#000000; stroke-linecap:round; stroke-linejoin:round; stroke-width:4; stroke-opacity:1; fill:none\" points=\"\n",
       "  1760.56,1486.45 1760.56,1467.55 \n",
       "  \"/>\n",
       "<polyline clip-path=\"url(#clip750)\" style=\"stroke:#000000; stroke-linecap:round; stroke-linejoin:round; stroke-width:4; stroke-opacity:1; fill:none\" points=\"\n",
       "  2289.31,1486.45 2289.31,1467.55 \n",
       "  \"/>\n",
       "<path clip-path=\"url(#clip750)\" d=\"M174.33 1517.37 Q170.719 1517.37 168.89 1520.93 Q167.085 1524.47 167.085 1531.6 Q167.085 1538.71 168.89 1542.27 Q170.719 1545.82 174.33 1545.82 Q177.964 1545.82 179.77 1542.27 Q181.599 1538.71 181.599 1531.6 Q181.599 1524.47 179.77 1520.93 Q177.964 1517.37 174.33 1517.37 M174.33 1513.66 Q180.14 1513.66 183.196 1518.27 Q186.275 1522.85 186.275 1531.6 Q186.275 1540.33 183.196 1544.94 Q180.14 1549.52 174.33 1549.52 Q168.52 1549.52 165.441 1544.94 Q162.386 1540.33 162.386 1531.6 Q162.386 1522.85 165.441 1518.27 Q168.52 1513.66 174.33 1513.66 Z\" fill=\"#000000\" fill-rule=\"evenodd\" fill-opacity=\"1\" /><path clip-path=\"url(#clip750)\" d=\"M693.456 1544.91 L701.095 1544.91 L701.095 1518.55 L692.785 1520.21 L692.785 1515.95 L701.049 1514.29 L705.725 1514.29 L705.725 1544.91 L713.364 1544.91 L713.364 1548.85 L693.456 1548.85 L693.456 1544.91 Z\" fill=\"#000000\" fill-rule=\"evenodd\" fill-opacity=\"1\" /><path clip-path=\"url(#clip750)\" d=\"M1226.47 1544.91 L1242.79 1544.91 L1242.79 1548.85 L1220.85 1548.85 L1220.85 1544.91 Q1223.51 1542.16 1228.09 1537.53 Q1232.7 1532.88 1233.88 1531.53 Q1236.12 1529.01 1237 1527.27 Q1237.91 1525.51 1237.91 1523.82 Q1237.91 1521.07 1235.96 1519.33 Q1234.04 1517.6 1230.94 1517.6 Q1228.74 1517.6 1226.29 1518.36 Q1223.86 1519.13 1221.08 1520.68 L1221.08 1515.95 Q1223.9 1514.82 1226.36 1514.24 Q1228.81 1513.66 1230.85 1513.66 Q1236.22 1513.66 1239.41 1516.35 Q1242.61 1519.03 1242.61 1523.52 Q1242.61 1525.65 1241.8 1527.57 Q1241.01 1529.47 1238.9 1532.07 Q1238.32 1532.74 1235.22 1535.95 Q1232.12 1539.15 1226.47 1544.91 Z\" fill=\"#000000\" fill-rule=\"evenodd\" fill-opacity=\"1\" /><path clip-path=\"url(#clip750)\" d=\"M1764.81 1530.21 Q1768.17 1530.93 1770.04 1533.2 Q1771.94 1535.47 1771.94 1538.8 Q1771.94 1543.92 1768.42 1546.72 Q1764.9 1549.52 1758.42 1549.52 Q1756.25 1549.52 1753.93 1549.08 Q1751.64 1548.66 1749.19 1547.81 L1749.19 1543.29 Q1751.13 1544.43 1753.44 1545.01 Q1755.76 1545.58 1758.28 1545.58 Q1762.68 1545.58 1764.97 1543.85 Q1767.29 1542.11 1767.29 1538.8 Q1767.29 1535.75 1765.13 1534.03 Q1763 1532.3 1759.19 1532.3 L1755.16 1532.3 L1755.16 1528.45 L1759.37 1528.45 Q1762.82 1528.45 1764.65 1527.09 Q1766.48 1525.7 1766.48 1523.11 Q1766.48 1520.45 1764.58 1519.03 Q1762.7 1517.6 1759.19 1517.6 Q1757.26 1517.6 1755.06 1518.01 Q1752.87 1518.43 1750.23 1519.31 L1750.23 1515.14 Q1752.89 1514.4 1755.2 1514.03 Q1757.54 1513.66 1759.6 1513.66 Q1764.93 1513.66 1768.03 1516.09 Q1771.13 1518.5 1771.13 1522.62 Q1771.13 1525.49 1769.49 1527.48 Q1767.84 1529.45 1764.81 1530.21 Z\" fill=\"#000000\" fill-rule=\"evenodd\" fill-opacity=\"1\" /><path clip-path=\"url(#clip750)\" d=\"M2292.32 1518.36 L2280.51 1536.81 L2292.32 1536.81 L2292.32 1518.36 M2291.09 1514.29 L2296.97 1514.29 L2296.97 1536.81 L2301.9 1536.81 L2301.9 1540.7 L2296.97 1540.7 L2296.97 1548.85 L2292.32 1548.85 L2292.32 1540.7 L2276.71 1540.7 L2276.71 1536.19 L2291.09 1514.29 Z\" fill=\"#000000\" fill-rule=\"evenodd\" fill-opacity=\"1\" /><polyline clip-path=\"url(#clip752)\" style=\"stroke:#000000; stroke-linecap:round; stroke-linejoin:round; stroke-width:2; stroke-opacity:0.1; fill:none\" points=\"\n",
       "  110.881,1447.87 2352.76,1447.87 \n",
       "  \"/>\n",
       "<polyline clip-path=\"url(#clip752)\" style=\"stroke:#000000; stroke-linecap:round; stroke-linejoin:round; stroke-width:2; stroke-opacity:0.1; fill:none\" points=\"\n",
       "  110.881,1019.26 2352.76,1019.26 \n",
       "  \"/>\n",
       "<polyline clip-path=\"url(#clip752)\" style=\"stroke:#000000; stroke-linecap:round; stroke-linejoin:round; stroke-width:2; stroke-opacity:0.1; fill:none\" points=\"\n",
       "  110.881,590.656 2352.76,590.656 \n",
       "  \"/>\n",
       "<polyline clip-path=\"url(#clip752)\" style=\"stroke:#000000; stroke-linecap:round; stroke-linejoin:round; stroke-width:2; stroke-opacity:0.1; fill:none\" points=\"\n",
       "  110.881,162.047 2352.76,162.047 \n",
       "  \"/>\n",
       "<polyline clip-path=\"url(#clip750)\" style=\"stroke:#000000; stroke-linecap:round; stroke-linejoin:round; stroke-width:4; stroke-opacity:1; fill:none\" points=\"\n",
       "  110.881,1486.45 110.881,123.472 \n",
       "  \"/>\n",
       "<polyline clip-path=\"url(#clip750)\" style=\"stroke:#000000; stroke-linecap:round; stroke-linejoin:round; stroke-width:4; stroke-opacity:1; fill:none\" points=\"\n",
       "  110.881,1447.87 129.779,1447.87 \n",
       "  \"/>\n",
       "<polyline clip-path=\"url(#clip750)\" style=\"stroke:#000000; stroke-linecap:round; stroke-linejoin:round; stroke-width:4; stroke-opacity:1; fill:none\" points=\"\n",
       "  110.881,1019.26 129.779,1019.26 \n",
       "  \"/>\n",
       "<polyline clip-path=\"url(#clip750)\" style=\"stroke:#000000; stroke-linecap:round; stroke-linejoin:round; stroke-width:4; stroke-opacity:1; fill:none\" points=\"\n",
       "  110.881,590.656 129.779,590.656 \n",
       "  \"/>\n",
       "<polyline clip-path=\"url(#clip750)\" style=\"stroke:#000000; stroke-linecap:round; stroke-linejoin:round; stroke-width:4; stroke-opacity:1; fill:none\" points=\"\n",
       "  110.881,162.047 129.779,162.047 \n",
       "  \"/>\n",
       "<path clip-path=\"url(#clip750)\" d=\"M62.9365 1433.67 Q59.3254 1433.67 57.4967 1437.24 Q55.6912 1440.78 55.6912 1447.91 Q55.6912 1455.01 57.4967 1458.58 Q59.3254 1462.12 62.9365 1462.12 Q66.5707 1462.12 68.3763 1458.58 Q70.205 1455.01 70.205 1447.91 Q70.205 1440.78 68.3763 1437.24 Q66.5707 1433.67 62.9365 1433.67 M62.9365 1429.97 Q68.7467 1429.97 71.8022 1434.57 Q74.8809 1439.16 74.8809 1447.91 Q74.8809 1456.63 71.8022 1461.24 Q68.7467 1465.82 62.9365 1465.82 Q57.1264 1465.82 54.0477 1461.24 Q50.9921 1456.63 50.9921 1447.91 Q50.9921 1439.16 54.0477 1434.57 Q57.1264 1429.97 62.9365 1429.97 Z\" fill=\"#000000\" fill-rule=\"evenodd\" fill-opacity=\"1\" /><path clip-path=\"url(#clip750)\" d=\"M54.9736 1032.61 L62.6124 1032.61 L62.6124 1006.24 L54.3023 1007.91 L54.3023 1003.65 L62.5661 1001.98 L67.242 1001.98 L67.242 1032.61 L74.8809 1032.61 L74.8809 1036.54 L54.9736 1036.54 L54.9736 1032.61 Z\" fill=\"#000000\" fill-rule=\"evenodd\" fill-opacity=\"1\" /><path clip-path=\"url(#clip750)\" d=\"M58.5615 604 L74.8809 604 L74.8809 607.936 L52.9366 607.936 L52.9366 604 Q55.5986 601.246 60.1819 596.616 Q64.7883 591.964 65.9689 590.621 Q68.2143 588.098 69.0939 586.362 Q69.9967 584.602 69.9967 582.913 Q69.9967 580.158 68.0522 578.422 Q66.1309 576.686 63.0291 576.686 Q60.83 576.686 58.3763 577.45 Q55.9458 578.214 53.168 579.764 L53.168 575.042 Q55.9921 573.908 58.4458 573.329 Q60.8995 572.751 62.9365 572.751 Q68.3068 572.751 71.5013 575.436 Q74.6957 578.121 74.6957 582.612 Q74.6957 584.741 73.8855 586.663 Q73.0985 588.561 70.992 591.153 Q70.4133 591.825 67.3115 595.042 Q64.2096 598.237 58.5615 604 Z\" fill=\"#000000\" fill-rule=\"evenodd\" fill-opacity=\"1\" /><path clip-path=\"url(#clip750)\" d=\"M67.7513 160.693 Q71.1078 161.41 72.9827 163.679 Q74.8809 165.947 74.8809 169.281 Q74.8809 174.396 71.3624 177.197 Q67.8439 179.998 61.3624 179.998 Q59.1865 179.998 56.8717 179.558 Q54.5801 179.142 52.1264 178.285 L52.1264 173.771 Q54.0708 174.906 56.3856 175.484 Q58.7004 176.063 61.2236 176.063 Q65.6217 176.063 67.9133 174.327 Q70.2281 172.591 70.2281 169.281 Q70.2281 166.225 68.0754 164.512 Q65.9457 162.776 62.1263 162.776 L58.0986 162.776 L58.0986 158.934 L62.3115 158.934 Q65.7606 158.934 67.5893 157.568 Q69.418 156.179 69.418 153.586 Q69.418 150.924 67.5198 149.512 Q65.6448 148.077 62.1263 148.077 Q60.205 148.077 58.006 148.494 Q55.8069 148.91 53.168 149.79 L53.168 145.623 Q55.8301 144.883 58.1449 144.512 Q60.4828 144.142 62.543 144.142 Q67.867 144.142 70.9689 146.572 Q74.0707 148.98 74.0707 153.1 Q74.0707 155.971 72.4272 157.961 Q70.7837 159.929 67.7513 160.693 Z\" fill=\"#000000\" fill-rule=\"evenodd\" fill-opacity=\"1\" /><path clip-path=\"url(#clip750)\" d=\"M816.601 12.096 L825.391 12.096 L840.42 34.5785 L855.53 12.096 L864.32 12.096 L844.876 41.141 L865.617 72.576 L856.826 72.576 L839.812 46.8528 L822.677 72.576 L813.846 72.576 L835.437 40.2903 L816.601 12.096 Z\" fill=\"#000000\" fill-rule=\"evenodd\" fill-opacity=\"1\" /><path clip-path=\"url(#clip750)\" d=\"M868.047 12.096 L876.838 12.096 L893.608 36.9686 L910.258 12.096 L919.048 12.096 L897.659 43.7741 L897.659 72.576 L889.436 72.576 L889.436 43.7741 L868.047 12.096 Z\" fill=\"#000000\" fill-rule=\"evenodd\" fill-opacity=\"1\" /><path clip-path=\"url(#clip750)\" d=\"M935.211 18.8205 L935.211 65.8515 L945.095 65.8515 Q957.613 65.8515 963.405 60.1802 Q969.239 54.509 969.239 42.2752 Q969.239 30.1225 963.405 24.4918 Q957.613 18.8205 945.095 18.8205 L935.211 18.8205 M927.028 12.096 L943.84 12.096 Q961.421 12.096 969.644 19.4281 Q977.867 26.7198 977.867 42.2752 Q977.867 57.9117 969.603 65.2439 Q961.34 72.576 943.84 72.576 L927.028 72.576 L927.028 12.096 Z\" fill=\"#000000\" fill-rule=\"evenodd\" fill-opacity=\"1\" /><path clip-path=\"url(#clip750)\" d=\"M1011.21 49.7694 Q1002.17 49.7694 998.689 51.8354 Q995.205 53.9013 995.205 58.8839 Q995.205 62.8538 997.798 65.2034 Q1000.43 67.5124 1004.93 67.5124 Q1011.13 67.5124 1014.85 63.1374 Q1018.62 58.7219 1018.62 51.4303 L1018.62 49.7694 L1011.21 49.7694 M1026.07 46.6907 L1026.07 72.576 L1018.62 72.576 L1018.62 65.6895 Q1016.07 69.8214 1012.26 71.8063 Q1008.45 73.7508 1002.94 73.7508 Q995.975 73.7508 991.843 69.8619 Q987.751 65.9325 987.751 59.3701 Q987.751 51.7138 992.856 47.825 Q998 43.9361 1008.17 43.9361 L1018.62 43.9361 L1018.62 43.2069 Q1018.62 38.0623 1015.22 35.2672 Q1011.85 32.4315 1005.74 32.4315 Q1001.85 32.4315 998.162 33.3632 Q994.476 34.295 991.073 36.1584 L991.073 29.2718 Q995.165 27.692 999.013 26.9223 Q1002.86 26.1121 1006.51 26.1121 Q1016.35 26.1121 1021.21 31.2163 Q1026.07 36.3204 1026.07 46.6907 Z\" fill=\"#000000\" fill-rule=\"evenodd\" fill-opacity=\"1\" /><path clip-path=\"url(#clip750)\" d=\"M1048.8 14.324 L1048.8 27.2059 L1064.15 27.2059 L1064.15 32.9987 L1048.8 32.9987 L1048.8 57.6282 Q1048.8 63.1779 1050.3 64.7578 Q1051.84 66.3376 1056.5 66.3376 L1064.15 66.3376 L1064.15 72.576 L1056.5 72.576 Q1047.87 72.576 1044.59 69.3758 Q1041.3 66.1351 1041.3 57.6282 L1041.3 32.9987 L1035.84 32.9987 L1035.84 27.2059 L1041.3 27.2059 L1041.3 14.324 L1048.8 14.324 Z\" fill=\"#000000\" fill-rule=\"evenodd\" fill-opacity=\"1\" /><path clip-path=\"url(#clip750)\" d=\"M1094.57 49.7694 Q1085.54 49.7694 1082.06 51.8354 Q1078.57 53.9013 1078.57 58.8839 Q1078.57 62.8538 1081.17 65.2034 Q1083.8 67.5124 1088.29 67.5124 Q1094.49 67.5124 1098.22 63.1374 Q1101.99 58.7219 1101.99 51.4303 L1101.99 49.7694 L1094.57 49.7694 M1109.44 46.6907 L1109.44 72.576 L1101.99 72.576 L1101.99 65.6895 Q1099.43 69.8214 1095.63 71.8063 Q1091.82 73.7508 1086.31 73.7508 Q1079.34 73.7508 1075.21 69.8619 Q1071.12 65.9325 1071.12 59.3701 Q1071.12 51.7138 1076.22 47.825 Q1081.37 43.9361 1091.54 43.9361 L1101.99 43.9361 L1101.99 43.2069 Q1101.99 38.0623 1098.58 35.2672 Q1095.22 32.4315 1089.11 32.4315 Q1085.22 32.4315 1081.53 33.3632 Q1077.84 34.295 1074.44 36.1584 L1074.44 29.2718 Q1078.53 27.692 1082.38 26.9223 Q1086.23 26.1121 1089.87 26.1121 Q1099.72 26.1121 1104.58 31.2163 Q1109.44 36.3204 1109.44 46.6907 Z\" fill=\"#000000\" fill-rule=\"evenodd\" fill-opacity=\"1\" /><path clip-path=\"url(#clip750)\" d=\"M1214.12 14.0809 L1214.12 22.0612 Q1209.46 19.8332 1205.33 18.7395 Q1201.19 17.6457 1197.35 17.6457 Q1190.66 17.6457 1187.02 20.2383 Q1183.41 22.8309 1183.41 27.611 Q1183.41 31.6214 1185.8 33.6873 Q1188.23 35.7128 1194.96 36.9686 L1199.9 37.9813 Q1209.05 39.7232 1213.39 44.1387 Q1217.76 48.5136 1217.76 55.8863 Q1217.76 64.6767 1211.85 69.2137 Q1205.97 73.7508 1194.59 73.7508 Q1190.3 73.7508 1185.44 72.7785 Q1180.61 71.8063 1175.43 69.9024 L1175.43 61.4765 Q1180.41 64.2716 1185.19 65.6895 Q1189.97 67.1073 1194.59 67.1073 Q1201.6 67.1073 1205.41 64.3527 Q1209.21 61.598 1209.21 56.4939 Q1209.21 52.0379 1206.46 49.5264 Q1203.75 47.0148 1197.51 45.759 L1192.52 44.7868 Q1183.37 42.9639 1179.28 39.075 Q1175.19 35.1862 1175.19 28.2591 Q1175.19 20.2383 1180.82 15.6203 Q1186.49 11.0023 1196.41 11.0023 Q1200.67 11.0023 1205.08 11.7719 Q1209.5 12.5416 1214.12 14.0809 Z\" fill=\"#000000\" fill-rule=\"evenodd\" fill-opacity=\"1\" /><path clip-path=\"url(#clip750)\" d=\"M1262.85 28.9478 L1262.85 35.9153 Q1259.69 34.1734 1256.49 33.3227 Q1253.33 32.4315 1250.09 32.4315 Q1242.84 32.4315 1238.83 37.0496 Q1234.82 41.6271 1234.82 49.9314 Q1234.82 58.2358 1238.83 62.8538 Q1242.84 67.4314 1250.09 67.4314 Q1253.33 67.4314 1256.49 66.5807 Q1259.69 65.6895 1262.85 63.9476 L1262.85 70.8341 Q1259.73 72.2924 1256.37 73.0216 Q1253.05 73.7508 1249.28 73.7508 Q1239.03 73.7508 1232.99 67.3098 Q1226.96 60.8689 1226.96 49.9314 Q1226.96 38.832 1233.03 32.472 Q1239.15 26.1121 1249.76 26.1121 Q1253.21 26.1121 1256.49 26.8413 Q1259.77 27.5299 1262.85 28.9478 Z\" fill=\"#000000\" fill-rule=\"evenodd\" fill-opacity=\"1\" /><path clip-path=\"url(#clip750)\" d=\"M1296.43 49.7694 Q1287.4 49.7694 1283.91 51.8354 Q1280.43 53.9013 1280.43 58.8839 Q1280.43 62.8538 1283.02 65.2034 Q1285.65 67.5124 1290.15 67.5124 Q1296.35 67.5124 1300.08 63.1374 Q1303.84 58.7219 1303.84 51.4303 L1303.84 49.7694 L1296.43 49.7694 M1311.3 46.6907 L1311.3 72.576 L1303.84 72.576 L1303.84 65.6895 Q1301.29 69.8214 1297.48 71.8063 Q1293.68 73.7508 1288.17 73.7508 Q1281.2 73.7508 1277.07 69.8619 Q1272.98 65.9325 1272.98 59.3701 Q1272.98 51.7138 1278.08 47.825 Q1283.22 43.9361 1293.39 43.9361 L1303.84 43.9361 L1303.84 43.2069 Q1303.84 38.0623 1300.44 35.2672 Q1297.08 32.4315 1290.96 32.4315 Q1287.07 32.4315 1283.39 33.3632 Q1279.7 34.295 1276.3 36.1584 L1276.3 29.2718 Q1280.39 27.692 1284.24 26.9223 Q1288.09 26.1121 1291.73 26.1121 Q1301.57 26.1121 1306.44 31.2163 Q1311.3 36.3204 1311.3 46.6907 Z\" fill=\"#000000\" fill-rule=\"evenodd\" fill-opacity=\"1\" /><path clip-path=\"url(#clip750)\" d=\"M1334.02 14.324 L1334.02 27.2059 L1349.38 27.2059 L1349.38 32.9987 L1334.02 32.9987 L1334.02 57.6282 Q1334.02 63.1779 1335.52 64.7578 Q1337.06 66.3376 1341.72 66.3376 L1349.38 66.3376 L1349.38 72.576 L1341.72 72.576 Q1333.09 72.576 1329.81 69.3758 Q1326.53 66.1351 1326.53 57.6282 L1326.53 32.9987 L1321.06 32.9987 L1321.06 27.2059 L1326.53 27.2059 L1326.53 14.324 L1334.02 14.324 Z\" fill=\"#000000\" fill-rule=\"evenodd\" fill-opacity=\"1\" /><path clip-path=\"url(#clip750)\" d=\"M1366.55 14.324 L1366.55 27.2059 L1381.9 27.2059 L1381.9 32.9987 L1366.55 32.9987 L1366.55 57.6282 Q1366.55 63.1779 1368.05 64.7578 Q1369.59 66.3376 1374.25 66.3376 L1381.9 66.3376 L1381.9 72.576 L1374.25 72.576 Q1365.62 72.576 1362.34 69.3758 Q1359.06 66.1351 1359.06 57.6282 L1359.06 32.9987 L1353.59 32.9987 L1353.59 27.2059 L1359.06 27.2059 L1359.06 14.324 L1366.55 14.324 Z\" fill=\"#000000\" fill-rule=\"evenodd\" fill-opacity=\"1\" /><path clip-path=\"url(#clip750)\" d=\"M1430.52 48.0275 L1430.52 51.6733 L1396.24 51.6733 Q1396.73 59.3701 1400.86 63.421 Q1405.04 67.4314 1412.45 67.4314 Q1416.74 67.4314 1420.75 66.3781 Q1424.8 65.3249 1428.77 63.2184 L1428.77 70.267 Q1424.76 71.9684 1420.55 72.8596 Q1416.34 73.7508 1412 73.7508 Q1401.15 73.7508 1394.79 67.4314 Q1388.47 61.1119 1388.47 50.3365 Q1388.47 39.1965 1394.46 32.6746 Q1400.5 26.1121 1410.71 26.1121 Q1419.86 26.1121 1425.17 32.0264 Q1430.52 37.9003 1430.52 48.0275 M1423.06 45.84 Q1422.98 39.7232 1419.62 36.0774 Q1416.3 32.4315 1410.79 32.4315 Q1404.55 32.4315 1400.78 35.9558 Q1397.05 39.4801 1396.49 45.8805 L1423.06 45.84 Z\" fill=\"#000000\" fill-rule=\"evenodd\" fill-opacity=\"1\" /><path clip-path=\"url(#clip750)\" d=\"M1469.04 34.1734 Q1467.78 33.4443 1466.28 33.1202 Q1464.83 32.7556 1463.04 32.7556 Q1456.72 32.7556 1453.32 36.8875 Q1449.96 40.9789 1449.96 48.6757 L1449.96 72.576 L1442.47 72.576 L1442.47 27.2059 L1449.96 27.2059 L1449.96 34.2544 Q1452.31 30.1225 1456.08 28.1376 Q1459.84 26.1121 1465.23 26.1121 Q1466 26.1121 1466.93 26.2337 Q1467.86 26.3147 1469 26.5172 L1469.04 34.1734 Z\" fill=\"#000000\" fill-rule=\"evenodd\" fill-opacity=\"1\" /><path clip-path=\"url(#clip750)\" d=\"M1511.74 18.8205 L1511.74 41.5461 L1522.03 41.5461 Q1527.74 41.5461 1530.86 38.5889 Q1533.98 35.6318 1533.98 30.163 Q1533.98 24.7348 1530.86 21.7777 Q1527.74 18.8205 1522.03 18.8205 L1511.74 18.8205 M1503.55 12.096 L1522.03 12.096 Q1532.19 12.096 1537.38 16.714 Q1542.6 21.2916 1542.6 30.163 Q1542.6 39.1155 1537.38 43.6931 Q1532.19 48.2706 1522.03 48.2706 L1511.74 48.2706 L1511.74 72.576 L1503.55 72.576 L1503.55 12.096 Z\" fill=\"#000000\" fill-rule=\"evenodd\" fill-opacity=\"1\" /><path clip-path=\"url(#clip750)\" d=\"M1553.26 9.54393 L1560.71 9.54393 L1560.71 72.576 L1553.26 72.576 L1553.26 9.54393 Z\" fill=\"#000000\" fill-rule=\"evenodd\" fill-opacity=\"1\" /><path clip-path=\"url(#clip750)\" d=\"M1593.89 32.4315 Q1587.89 32.4315 1584.41 37.1306 Q1580.93 41.7891 1580.93 49.9314 Q1580.93 58.0738 1584.37 62.7728 Q1587.85 67.4314 1593.89 67.4314 Q1599.84 67.4314 1603.33 62.7323 Q1606.81 58.0333 1606.81 49.9314 Q1606.81 41.8701 1603.33 37.1711 Q1599.84 32.4315 1593.89 32.4315 M1593.89 26.1121 Q1603.61 26.1121 1609.16 32.4315 Q1614.71 38.7509 1614.71 49.9314 Q1614.71 61.0714 1609.16 67.4314 Q1603.61 73.7508 1593.89 73.7508 Q1584.13 73.7508 1578.58 67.4314 Q1573.07 61.0714 1573.07 49.9314 Q1573.07 38.7509 1578.58 32.4315 Q1584.13 26.1121 1593.89 26.1121 Z\" fill=\"#000000\" fill-rule=\"evenodd\" fill-opacity=\"1\" /><path clip-path=\"url(#clip750)\" d=\"M1634.44 14.324 L1634.44 27.2059 L1649.79 27.2059 L1649.79 32.9987 L1634.44 32.9987 L1634.44 57.6282 Q1634.44 63.1779 1635.94 64.7578 Q1637.48 66.3376 1642.13 66.3376 L1649.79 66.3376 L1649.79 72.576 L1642.13 72.576 Q1633.51 72.576 1630.22 69.3758 Q1626.94 66.1351 1626.94 57.6282 L1626.94 32.9987 L1621.47 32.9987 L1621.47 27.2059 L1626.94 27.2059 L1626.94 14.324 L1634.44 14.324 Z\" fill=\"#000000\" fill-rule=\"evenodd\" fill-opacity=\"1\" /><circle clip-path=\"url(#clip752)\" cx=\"174.33\" cy=\"162.047\" r=\"14.4\" fill=\"#009af9\" fill-rule=\"evenodd\" fill-opacity=\"1\" stroke=\"#000000\" stroke-opacity=\"1\" stroke-width=\"3.2\"/>\n",
       "<circle clip-path=\"url(#clip752)\" cx=\"2289.31\" cy=\"162.047\" r=\"14.4\" fill=\"#009af9\" fill-rule=\"evenodd\" fill-opacity=\"1\" stroke=\"#000000\" stroke-opacity=\"1\" stroke-width=\"3.2\"/>\n",
       "<circle clip-path=\"url(#clip752)\" cx=\"2289.31\" cy=\"1447.87\" r=\"14.4\" fill=\"#009af9\" fill-rule=\"evenodd\" fill-opacity=\"1\" stroke=\"#000000\" stroke-opacity=\"1\" stroke-width=\"3.2\"/>\n",
       "<circle clip-path=\"url(#clip752)\" cx=\"174.33\" cy=\"1447.87\" r=\"14.4\" fill=\"#009af9\" fill-rule=\"evenodd\" fill-opacity=\"1\" stroke=\"#000000\" stroke-opacity=\"1\" stroke-width=\"3.2\"/>\n",
       "<circle clip-path=\"url(#clip752)\" cx=\"174.33\" cy=\"162.047\" r=\"14.4\" fill=\"#009af9\" fill-rule=\"evenodd\" fill-opacity=\"1\" stroke=\"#000000\" stroke-opacity=\"1\" stroke-width=\"3.2\"/>\n",
       "</svg>\n"
      ]
     },
     "execution_count": 16,
     "metadata": {},
     "output_type": "execute_result"
    }
   ],
   "source": [
    "plot(plot_test)"
   ]
  },
  {
   "cell_type": "markdown",
   "id": "e2d310f8-3dcb-4d2f-9e3f-9c2b09a8b8c5",
   "metadata": {},
   "source": [
    "4. Write a function called linearRegression that passes in a XYData object and return the least-squares line\n",
    "(formulas in the Background section above) as either a named tuple or a new datatype."
   ]
  },
  {
   "cell_type": "code",
   "execution_count": 17,
   "id": "95480cf8-f7ee-4ec8-a31d-20a94a2b1e3b",
   "metadata": {
    "tags": []
   },
   "outputs": [
    {
     "data": {
      "text/plain": [
       "5-element Vector{Int64}:\n",
       " 2\n",
       " 3\n",
       " 5\n",
       " 7\n",
       " 9"
      ]
     },
     "execution_count": 17,
     "metadata": {},
     "output_type": "execute_result"
    }
   ],
   "source": [
    "v1 = [2,3,5,7,9]"
   ]
  },
  {
   "cell_type": "code",
   "execution_count": 18,
   "id": "9a1edd70-54e9-43a4-9a93-43dc200fd310",
   "metadata": {
    "tags": []
   },
   "outputs": [
    {
     "data": {
      "text/plain": [
       "5-element Vector{Int64}:\n",
       "  4\n",
       "  5\n",
       "  7\n",
       " 10\n",
       " 15"
      ]
     },
     "execution_count": 18,
     "metadata": {},
     "output_type": "execute_result"
    }
   ],
   "source": [
    "v2 = [4,5,7,10,15]"
   ]
  },
  {
   "cell_type": "code",
   "execution_count": 19,
   "id": "2b6e8d07-8c9f-4f9f-9ca3-b8d2e09bfcd7",
   "metadata": {},
   "outputs": [
    {
     "data": {
      "text/plain": [
       "[(2,4),(3,5),(5,7),(7,10),(9,15)]"
      ]
     },
     "execution_count": 19,
     "metadata": {},
     "output_type": "execute_result"
    }
   ],
   "source": [
    "d1 = XYData(v1,v2)"
   ]
  },
  {
   "cell_type": "code",
   "execution_count": 20,
   "id": "9f40a470-98e8-434f-9773-5ff3cb186d26",
   "metadata": {},
   "outputs": [
    {
     "data": {
      "text/plain": [
       "(1.5182926829268293, 0.30487804878048763)"
      ]
     },
     "execution_count": 20,
     "metadata": {},
     "output_type": "execute_result"
    }
   ],
   "source": [
    "linearRegression(d1)"
   ]
  },
  {
   "cell_type": "markdown",
   "id": "a5fc6fee-55de-4cbe-a649-b1e058de7e87",
   "metadata": {},
   "source": [
    "5. Develop a test suite for this module and test the different constructor methods as well as for any errors that\n",
    "may be thrown."
   ]
  },
  {
   "cell_type": "code",
   "execution_count": 29,
   "id": "b205ee82-b85b-402b-985c-81846fb01f2c",
   "metadata": {},
   "outputs": [],
   "source": [
    "using LinearAlgebra"
   ]
  },
  {
   "cell_type": "code",
   "execution_count": 21,
   "id": "42ea8d2b-9eb2-40ca-b3ea-d49c1f42c220",
   "metadata": {},
   "outputs": [],
   "source": [
    "using Test"
   ]
  },
  {
   "cell_type": "code",
   "execution_count": 22,
   "id": "3cba93ee-b3e0-4124-b7a2-a6014d5ce7b7",
   "metadata": {},
   "outputs": [],
   "source": [
    "using Revise"
   ]
  },
  {
   "cell_type": "code",
   "execution_count": 23,
   "id": "4774108a-9a17-4006-8368-a433822ae257",
   "metadata": {},
   "outputs": [
    {
     "name": "stdout",
     "output_type": "stream",
     "text": [
      "\u001b[0m\u001b[1mTest Summary: | \u001b[22m\u001b[32m\u001b[1mPass  \u001b[22m\u001b[39m\u001b[36m\u001b[1mTotal  \u001b[22m\u001b[39m\u001b[0m\u001b[1mTime\u001b[22m\n",
      "Legal Point2D | \u001b[32m   2  \u001b[39m\u001b[36m    2  \u001b[39m\u001b[0m0.4s\n",
      "Legal XYData: \u001b[91m\u001b[1mError During Test\u001b[22m\u001b[39m at \u001b[39m\u001b[1m/Users/benwiita/Desktop/Current Semester/Scientific Computation/sci-comp-notebooks/Sci-Comp-and-Visual-Project/TestSuiteStage1.jl:10\u001b[22m\n",
      "  Got exception outside of a @test\n",
      "  UndefVarError: argumentError not defined\n",
      "  Stacktrace:\n",
      "    [1] \u001b[0m\u001b[1mmacro expansion\u001b[22m\n",
      "  \u001b[90m    @ \u001b[39m\u001b[90m~/Desktop/Current Semester/Scientific Computation/sci-comp-notebooks/Sci-Comp-and-Visual-Project/\u001b[39m\u001b[90m\u001b[4mTestSuiteStage1.jl:12\u001b[24m\u001b[39m\u001b[90m [inlined]\u001b[39m\n",
      "    [2] \u001b[0m\u001b[1mmacro expansion\u001b[22m\n",
      "  \u001b[90m    @ \u001b[39m\u001b[90m/Applications/Julia-1.8.app/Contents/Resources/julia/share/julia/stdlib/v1.8/Test/src/\u001b[39m\u001b[90m\u001b[4mTest.jl:1357\u001b[24m\u001b[39m\u001b[90m [inlined]\u001b[39m\n",
      "    [3] top-level scope\n",
      "  \u001b[90m    @ \u001b[39m\u001b[90m~/Desktop/Current Semester/Scientific Computation/sci-comp-notebooks/Sci-Comp-and-Visual-Project/\u001b[39m\u001b[90m\u001b[4mTestSuiteStage1.jl:11\u001b[24m\u001b[39m\n",
      "    [4] \u001b[0m\u001b[1meval\u001b[22m\n",
      "  \u001b[90m    @ \u001b[39m\u001b[90m./\u001b[39m\u001b[90m\u001b[4mboot.jl:368\u001b[24m\u001b[39m\u001b[90m [inlined]\u001b[39m\n",
      "    [5] \u001b[0m\u001b[1mprocess_source!\u001b[22m\u001b[0m\u001b[1m(\u001b[22m\u001b[90mmod_exprs_sigs\u001b[39m::\u001b[0mOrderedCollections.OrderedDict\u001b[90m{Module, OrderedCollections.OrderedDict{Revise.RelocatableExpr, Union{Nothing, Vector{Any}}}}\u001b[39m, \u001b[90mex\u001b[39m::\u001b[0mExpr, \u001b[90mfilename\u001b[39m::\u001b[0mString, \u001b[90mmod\u001b[39m::\u001b[0mModule; \u001b[90mmode\u001b[39m::\u001b[0mSymbol\u001b[0m\u001b[1m)\u001b[22m\n",
      "  \u001b[90m    @ \u001b[39m\u001b[35mRevise\u001b[39m \u001b[90m~/.julia/packages/Revise/do2nH/src/\u001b[39m\u001b[90m\u001b[4mparsing.jl:54\u001b[24m\u001b[39m\n",
      "    [6] \u001b[0m\u001b[1mparse_source!\u001b[22m\u001b[0m\u001b[1m(\u001b[22m\u001b[90mmod_exprs_sigs\u001b[39m::\u001b[0mOrderedCollections.OrderedDict\u001b[90m{Module, OrderedCollections.OrderedDict{Revise.RelocatableExpr, Union{Nothing, Vector{Any}}}}\u001b[39m, \u001b[90msrc\u001b[39m::\u001b[0mString, \u001b[90mfilename\u001b[39m::\u001b[0mString, \u001b[90mmod\u001b[39m::\u001b[0mModule; \u001b[90mkwargs\u001b[39m::\u001b[0mBase.Pairs\u001b[90m{Symbol, Symbol, Tuple{Symbol}, NamedTuple{(:mode,), Tuple{Symbol}}}\u001b[39m\u001b[0m\u001b[1m)\u001b[22m\n",
      "  \u001b[90m    @ \u001b[39m\u001b[35mRevise\u001b[39m \u001b[90m~/.julia/packages/Revise/do2nH/src/\u001b[39m\u001b[90m\u001b[4mparsing.jl:47\u001b[24m\u001b[39m\n",
      "    [7] \u001b[0m\u001b[1mparse_source!\u001b[22m\u001b[0m\u001b[1m(\u001b[22m\u001b[90mmod_exprs_sigs\u001b[39m::\u001b[0mOrderedCollections.OrderedDict\u001b[90m{Module, OrderedCollections.OrderedDict{Revise.RelocatableExpr, Union{Nothing, Vector{Any}}}}\u001b[39m, \u001b[90mfilename\u001b[39m::\u001b[0mString, \u001b[90mmod\u001b[39m::\u001b[0mModule; \u001b[90mkwargs\u001b[39m::\u001b[0mBase.Pairs\u001b[90m{Symbol, Symbol, Tuple{Symbol}, NamedTuple{(:mode,), Tuple{Symbol}}}\u001b[39m\u001b[0m\u001b[1m)\u001b[22m\n",
      "  \u001b[90m    @ \u001b[39m\u001b[35mRevise\u001b[39m \u001b[90m~/.julia/packages/Revise/do2nH/src/\u001b[39m\u001b[90m\u001b[4mparsing.jl:27\u001b[24m\u001b[39m\n",
      "    [8] \u001b[0m\u001b[1m#parse_source#11\u001b[22m\n",
      "  \u001b[90m    @ \u001b[39m\u001b[90m~/.julia/packages/Revise/do2nH/src/\u001b[39m\u001b[90m\u001b[4mparsing.jl:10\u001b[24m\u001b[39m\u001b[90m [inlined]\u001b[39m\n",
      "    [9] \u001b[0m\u001b[1mtrack\u001b[22m\u001b[0m\u001b[1m(\u001b[22m\u001b[90mmod\u001b[39m::\u001b[0mModule, \u001b[90mfile\u001b[39m::\u001b[0mString; \u001b[90mmode\u001b[39m::\u001b[0mSymbol, \u001b[90mkwargs\u001b[39m::\u001b[0mBase.Pairs\u001b[90m{Symbol, Bool, Tuple{Symbol}, NamedTuple{(:skip_include,), Tuple{Bool}}}\u001b[39m\u001b[0m\u001b[1m)\u001b[22m\n",
      "  \u001b[90m    @ \u001b[39m\u001b[35mRevise\u001b[39m \u001b[90m~/.julia/packages/Revise/do2nH/src/\u001b[39m\u001b[90m\u001b[4mpackagedef.jl:902\u001b[24m\u001b[39m\n",
      "   [10] \u001b[0m\u001b[1mincludet\u001b[22m\u001b[0m\u001b[1m(\u001b[22m\u001b[90mmod\u001b[39m::\u001b[0mModule, \u001b[90mfile\u001b[39m::\u001b[0mString\u001b[0m\u001b[1m)\u001b[22m\n",
      "  \u001b[90m    @ \u001b[39m\u001b[35mRevise\u001b[39m \u001b[90m~/.julia/packages/Revise/do2nH/src/\u001b[39m\u001b[90m\u001b[4mpackagedef.jl:1002\u001b[24m\u001b[39m\n",
      "   [11] \u001b[0m\u001b[1mincludet\u001b[22m\u001b[0m\u001b[1m(\u001b[22m\u001b[90mfile\u001b[39m::\u001b[0mString\u001b[0m\u001b[1m)\u001b[22m\n",
      "  \u001b[90m    @ \u001b[39m\u001b[35mRevise\u001b[39m \u001b[90m~/.julia/packages/Revise/do2nH/src/\u001b[39m\u001b[90m\u001b[4mpackagedef.jl:1024\u001b[24m\u001b[39m\n",
      "   [12] top-level scope\n",
      "  \u001b[90m    @ \u001b[39m\u001b[90m\u001b[4mIn[23]:1\u001b[24m\u001b[39m\n",
      "   [13] \u001b[0m\u001b[1meval\u001b[22m\n",
      "  \u001b[90m    @ \u001b[39m\u001b[90m./\u001b[39m\u001b[90m\u001b[4mboot.jl:368\u001b[24m\u001b[39m\u001b[90m [inlined]\u001b[39m\n",
      "   [14] \u001b[0m\u001b[1minclude_string\u001b[22m\u001b[0m\u001b[1m(\u001b[22m\u001b[90mmapexpr\u001b[39m::\u001b[0mtypeof(REPL.softscope), \u001b[90mmod\u001b[39m::\u001b[0mModule, \u001b[90mcode\u001b[39m::\u001b[0mString, \u001b[90mfilename\u001b[39m::\u001b[0mString\u001b[0m\u001b[1m)\u001b[22m\n",
      "  \u001b[90m    @ \u001b[39m\u001b[90mBase\u001b[39m \u001b[90m./\u001b[39m\u001b[90m\u001b[4mloading.jl:1428\u001b[24m\u001b[39m\n",
      "   [15] \u001b[0m\u001b[1msoftscope_include_string\u001b[22m\u001b[0m\u001b[1m(\u001b[22m\u001b[90mm\u001b[39m::\u001b[0mModule, \u001b[90mcode\u001b[39m::\u001b[0mString, \u001b[90mfilename\u001b[39m::\u001b[0mString\u001b[0m\u001b[1m)\u001b[22m\n",
      "  \u001b[90m    @ \u001b[39m\u001b[36mSoftGlobalScope\u001b[39m \u001b[90m~/.julia/packages/SoftGlobalScope/u4UzH/src/\u001b[39m\u001b[90m\u001b[4mSoftGlobalScope.jl:65\u001b[24m\u001b[39m\n",
      "   [16] \u001b[0m\u001b[1mexecute_request\u001b[22m\u001b[0m\u001b[1m(\u001b[22m\u001b[90msocket\u001b[39m::\u001b[0mZMQ.Socket, \u001b[90mmsg\u001b[39m::\u001b[0mIJulia.Msg\u001b[0m\u001b[1m)\u001b[22m\n",
      "  \u001b[90m    @ \u001b[39m\u001b[32mIJulia\u001b[39m \u001b[90m~/.julia/packages/IJulia/AQu2H/src/\u001b[39m\u001b[90m\u001b[4mexecute_request.jl:67\u001b[24m\u001b[39m\n",
      "   [17] \u001b[0m\u001b[1m#invokelatest#2\u001b[22m\n",
      "  \u001b[90m    @ \u001b[39m\u001b[90m./\u001b[39m\u001b[90m\u001b[4messentials.jl:729\u001b[24m\u001b[39m\u001b[90m [inlined]\u001b[39m\n",
      "   [18] \u001b[0m\u001b[1minvokelatest\u001b[22m\n",
      "  \u001b[90m    @ \u001b[39m\u001b[90m./\u001b[39m\u001b[90m\u001b[4messentials.jl:726\u001b[24m\u001b[39m\u001b[90m [inlined]\u001b[39m\n",
      "   [19] \u001b[0m\u001b[1meventloop\u001b[22m\u001b[0m\u001b[1m(\u001b[22m\u001b[90msocket\u001b[39m::\u001b[0mZMQ.Socket\u001b[0m\u001b[1m)\u001b[22m\n",
      "  \u001b[90m    @ \u001b[39m\u001b[32mIJulia\u001b[39m \u001b[90m~/.julia/packages/IJulia/AQu2H/src/\u001b[39m\u001b[90m\u001b[4meventloop.jl:8\u001b[24m\u001b[39m\n",
      "   [20] \u001b[0m\u001b[1m(::IJulia.var\"#15#18\")\u001b[22m\u001b[0m\u001b[1m(\u001b[22m\u001b[0m\u001b[1m)\u001b[22m\n",
      "  \u001b[90m    @ \u001b[39m\u001b[32mIJulia\u001b[39m \u001b[90m./\u001b[39m\u001b[90m\u001b[4mtask.jl:484\u001b[24m\u001b[39m\n",
      "  \n",
      "  \u001b[91mcaused by: \u001b[39mArgumentError: The x and y vectors are not the same size\n",
      "  Stacktrace:\n",
      "    [1] \u001b[0m\u001b[1mXYData\u001b[22m\u001b[0m\u001b[1m(\u001b[22m\u001b[90mxpts\u001b[39m::\u001b[0mVector\u001b[90m{Int64}\u001b[39m, \u001b[90mypts\u001b[39m::\u001b[0mVector\u001b[90m{Int64}\u001b[39m\u001b[0m\u001b[1m)\u001b[22m\n",
      "  \u001b[90m    @ \u001b[39m\u001b[35mMain.DataFit\u001b[39m \u001b[90m~/Desktop/Current Semester/Scientific Computation/sci-comp-notebooks/Sci-Comp-and-Visual-Project/\u001b[39m\u001b[90m\u001b[4mDataFit.jl:40\u001b[24m\u001b[39m\n",
      "    [2] \u001b[0m\u001b[1mmacro expansion\u001b[22m\n",
      "  \u001b[90m    @ \u001b[39m\u001b[90m~/Desktop/Current Semester/Scientific Computation/sci-comp-notebooks/Sci-Comp-and-Visual-Project/\u001b[39m\u001b[90m\u001b[4mTestSuiteStage1.jl:12\u001b[24m\u001b[39m\u001b[90m [inlined]\u001b[39m\n",
      "    [3] \u001b[0m\u001b[1mmacro expansion\u001b[22m\n",
      "  \u001b[90m    @ \u001b[39m\u001b[90m/Applications/Julia-1.8.app/Contents/Resources/julia/share/julia/stdlib/v1.8/Test/src/\u001b[39m\u001b[90m\u001b[4mTest.jl:1357\u001b[24m\u001b[39m\u001b[90m [inlined]\u001b[39m\n",
      "    [4] top-level scope\n",
      "  \u001b[90m    @ \u001b[39m\u001b[90m~/Desktop/Current Semester/Scientific Computation/sci-comp-notebooks/Sci-Comp-and-Visual-Project/\u001b[39m\u001b[90m\u001b[4mTestSuiteStage1.jl:11\u001b[24m\u001b[39m\n",
      "    [5] \u001b[0m\u001b[1meval\u001b[22m\n",
      "  \u001b[90m    @ \u001b[39m\u001b[90m./\u001b[39m\u001b[90m\u001b[4mboot.jl:368\u001b[24m\u001b[39m\u001b[90m [inlined]\u001b[39m\n",
      "    [6] \u001b[0m\u001b[1mprocess_source!\u001b[22m\u001b[0m\u001b[1m(\u001b[22m\u001b[90mmod_exprs_sigs\u001b[39m::\u001b[0mOrderedCollections.OrderedDict\u001b[90m{Module, OrderedCollections.OrderedDict{Revise.RelocatableExpr, Union{Nothing, Vector{Any}}}}\u001b[39m, \u001b[90mex\u001b[39m::\u001b[0mExpr, \u001b[90mfilename\u001b[39m::\u001b[0mString, \u001b[90mmod\u001b[39m::\u001b[0mModule; \u001b[90mmode\u001b[39m::\u001b[0mSymbol\u001b[0m\u001b[1m)\u001b[22m\n",
      "  \u001b[90m    @ \u001b[39m\u001b[36mRevise\u001b[39m \u001b[90m~/.julia/packages/Revise/do2nH/src/\u001b[39m\u001b[90m\u001b[4mparsing.jl:54\u001b[24m\u001b[39m\n",
      "    [7] \u001b[0m\u001b[1mparse_source!\u001b[22m\u001b[0m\u001b[1m(\u001b[22m\u001b[90mmod_exprs_sigs\u001b[39m::\u001b[0mOrderedCollections.OrderedDict\u001b[90m{Module, OrderedCollections.OrderedDict{Revise.RelocatableExpr, Union{Nothing, Vector{Any}}}}\u001b[39m, \u001b[90msrc\u001b[39m::\u001b[0mString, \u001b[90mfilename\u001b[39m::\u001b[0mString, \u001b[90mmod\u001b[39m::\u001b[0mModule; \u001b[90mkwargs\u001b[39m::\u001b[0mBase.Pairs\u001b[90m{Symbol, Symbol, Tuple{Symbol}, NamedTuple{(:mode,), Tuple{Symbol}}}\u001b[39m\u001b[0m\u001b[1m)\u001b[22m\n",
      "  \u001b[90m    @ \u001b[39m\u001b[36mRevise\u001b[39m \u001b[90m~/.julia/packages/Revise/do2nH/src/\u001b[39m\u001b[90m\u001b[4mparsing.jl:47\u001b[24m\u001b[39m\n",
      "    [8] \u001b[0m\u001b[1mparse_source!\u001b[22m\u001b[0m\u001b[1m(\u001b[22m\u001b[90mmod_exprs_sigs\u001b[39m::\u001b[0mOrderedCollections.OrderedDict\u001b[90m{Module, OrderedCollections.OrderedDict{Revise.RelocatableExpr, Union{Nothing, Vector{Any}}}}\u001b[39m, \u001b[90mfilename\u001b[39m::\u001b[0mString, \u001b[90mmod\u001b[39m::\u001b[0mModule; \u001b[90mkwargs\u001b[39m::\u001b[0mBase.Pairs\u001b[90m{Symbol, Symbol, Tuple{Symbol}, NamedTuple{(:mode,), Tuple{Symbol}}}\u001b[39m\u001b[0m\u001b[1m)\u001b[22m\n",
      "  \u001b[90m    @ \u001b[39m\u001b[36mRevise\u001b[39m \u001b[90m~/.julia/packages/Revise/do2nH/src/\u001b[39m\u001b[90m\u001b[4mparsing.jl:27\u001b[24m\u001b[39m\n",
      "    [9] \u001b[0m\u001b[1m#parse_source#11\u001b[22m\n",
      "  \u001b[90m    @ \u001b[39m\u001b[90m~/.julia/packages/Revise/do2nH/src/\u001b[39m\u001b[90m\u001b[4mparsing.jl:10\u001b[24m\u001b[39m\u001b[90m [inlined]\u001b[39m\n",
      "   [10] \u001b[0m\u001b[1mtrack\u001b[22m\u001b[0m\u001b[1m(\u001b[22m\u001b[90mmod\u001b[39m::\u001b[0mModule, \u001b[90mfile\u001b[39m::\u001b[0mString; \u001b[90mmode\u001b[39m::\u001b[0mSymbol, \u001b[90mkwargs\u001b[39m::\u001b[0mBase.Pairs\u001b[90m{Symbol, Bool, Tuple{Symbol}, NamedTuple{(:skip_include,), Tuple{Bool}}}\u001b[39m\u001b[0m\u001b[1m)\u001b[22m\n",
      "  \u001b[90m    @ \u001b[39m\u001b[36mRevise\u001b[39m \u001b[90m~/.julia/packages/Revise/do2nH/src/\u001b[39m\u001b[90m\u001b[4mpackagedef.jl:902\u001b[24m\u001b[39m\n",
      "   [11] \u001b[0m\u001b[1mincludet\u001b[22m\u001b[0m\u001b[1m(\u001b[22m\u001b[90mmod\u001b[39m::\u001b[0mModule, \u001b[90mfile\u001b[39m::\u001b[0mString\u001b[0m\u001b[1m)\u001b[22m\n",
      "  \u001b[90m    @ \u001b[39m\u001b[36mRevise\u001b[39m \u001b[90m~/.julia/packages/Revise/do2nH/src/\u001b[39m\u001b[90m\u001b[4mpackagedef.jl:1002\u001b[24m\u001b[39m\n",
      "   [12] \u001b[0m\u001b[1mincludet\u001b[22m\u001b[0m\u001b[1m(\u001b[22m\u001b[90mfile\u001b[39m::\u001b[0mString\u001b[0m\u001b[1m)\u001b[22m\n",
      "  \u001b[90m    @ \u001b[39m\u001b[36mRevise\u001b[39m \u001b[90m~/.julia/packages/Revise/do2nH/src/\u001b[39m\u001b[90m\u001b[4mpackagedef.jl:1024\u001b[24m\u001b[39m\n",
      "   [13] top-level scope\n",
      "  \u001b[90m    @ \u001b[39m\u001b[90m\u001b[4mIn[23]:1\u001b[24m\u001b[39m\n",
      "   [14] \u001b[0m\u001b[1meval\u001b[22m\n",
      "  \u001b[90m    @ \u001b[39m\u001b[90m./\u001b[39m\u001b[90m\u001b[4mboot.jl:368\u001b[24m\u001b[39m\u001b[90m [inlined]\u001b[39m\n",
      "   [15] \u001b[0m\u001b[1minclude_string\u001b[22m\u001b[0m\u001b[1m(\u001b[22m\u001b[90mmapexpr\u001b[39m::\u001b[0mtypeof(REPL.softscope), \u001b[90mmod\u001b[39m::\u001b[0mModule, \u001b[90mcode\u001b[39m::\u001b[0mString, \u001b[90mfilename\u001b[39m::\u001b[0mString\u001b[0m\u001b[1m)\u001b[22m\n",
      "  \u001b[90m    @ \u001b[39m\u001b[90mBase\u001b[39m \u001b[90m./\u001b[39m\u001b[90m\u001b[4mloading.jl:1428\u001b[24m\u001b[39m\n",
      "   [16] \u001b[0m\u001b[1msoftscope_include_string\u001b[22m\u001b[0m\u001b[1m(\u001b[22m\u001b[90mm\u001b[39m::\u001b[0mModule, \u001b[90mcode\u001b[39m::\u001b[0mString, \u001b[90mfilename\u001b[39m::\u001b[0mString\u001b[0m\u001b[1m)\u001b[22m\n",
      "  \u001b[90m    @ \u001b[39m\u001b[32mSoftGlobalScope\u001b[39m \u001b[90m~/.julia/packages/SoftGlobalScope/u4UzH/src/\u001b[39m\u001b[90m\u001b[4mSoftGlobalScope.jl:65\u001b[24m\u001b[39m\n",
      "   [17] \u001b[0m\u001b[1mexecute_request\u001b[22m\u001b[0m\u001b[1m(\u001b[22m\u001b[90msocket\u001b[39m::\u001b[0mZMQ.Socket, \u001b[90mmsg\u001b[39m::\u001b[0mIJulia.Msg\u001b[0m\u001b[1m)\u001b[22m\n",
      "  \u001b[90m    @ \u001b[39m\u001b[33mIJulia\u001b[39m \u001b[90m~/.julia/packages/IJulia/AQu2H/src/\u001b[39m\u001b[90m\u001b[4mexecute_request.jl:67\u001b[24m\u001b[39m\n",
      "   [18] \u001b[0m\u001b[1m#invokelatest#2\u001b[22m\n",
      "  \u001b[90m    @ \u001b[39m\u001b[90m./\u001b[39m\u001b[90m\u001b[4messentials.jl:729\u001b[24m\u001b[39m\u001b[90m [inlined]\u001b[39m\n",
      "   [19] \u001b[0m\u001b[1minvokelatest\u001b[22m\n",
      "  \u001b[90m    @ \u001b[39m\u001b[90m./\u001b[39m\u001b[90m\u001b[4messentials.jl:726\u001b[24m\u001b[39m\u001b[90m [inlined]\u001b[39m\n",
      "   [20] \u001b[0m\u001b[1meventloop\u001b[22m\u001b[0m\u001b[1m(\u001b[22m\u001b[90msocket\u001b[39m::\u001b[0mZMQ.Socket\u001b[0m\u001b[1m)\u001b[22m\n",
      "  \u001b[90m    @ \u001b[39m\u001b[33mIJulia\u001b[39m \u001b[90m~/.julia/packages/IJulia/AQu2H/src/\u001b[39m\u001b[90m\u001b[4meventloop.jl:8\u001b[24m\u001b[39m\n",
      "   [21] \u001b[0m\u001b[1m(::IJulia.var\"#15#18\")\u001b[22m\u001b[0m\u001b[1m(\u001b[22m\u001b[0m\u001b[1m)\u001b[22m\n",
      "  \u001b[90m    @ \u001b[39m\u001b[33mIJulia\u001b[39m \u001b[90m./\u001b[39m\u001b[90m\u001b[4mtask.jl:484\u001b[24m\u001b[39m\n",
      "\u001b[0m\u001b[1mTest Summary: | \u001b[22m\u001b[32m\u001b[1mPass  \u001b[22m\u001b[39m\u001b[91m\u001b[1mError  \u001b[22m\u001b[39m\u001b[36m\u001b[1mTotal  \u001b[22m\u001b[39m\u001b[0m\u001b[1mTime\u001b[22m\n",
      "Legal XYData  | \u001b[32m   1  \u001b[39m\u001b[91m    1  \u001b[39m\u001b[36m    2  \u001b[39m\u001b[0m1.2s\n"
     ]
    },
    {
     "name": "stderr",
     "output_type": "stream",
     "text": [
      "\u001b[91mERROR: \u001b[39mSome tests did not pass: 1 passed, 0 failed, 1 errored, 0 broken.\n",
      "Stacktrace:\n",
      " [1] \u001b[0m\u001b[1mfinish\u001b[22m\u001b[0m\u001b[1m(\u001b[22m\u001b[90mts\u001b[39m::\u001b[0mTest.DefaultTestSet\u001b[0m\u001b[1m)\u001b[22m\n",
      "\u001b[90m   @ \u001b[39m\u001b[35mTest\u001b[39m \u001b[90m/Applications/Julia-1.8.app/Contents/Resources/julia/share/julia/stdlib/v1.8/Test/src/\u001b[39m\u001b[90m\u001b[4mTest.jl:1092\u001b[24m\u001b[39m\n",
      " [2] \u001b[0m\u001b[1mmacro expansion\u001b[22m\n",
      "\u001b[90m   @ \u001b[39m\u001b[90m/Applications/Julia-1.8.app/Contents/Resources/julia/share/julia/stdlib/v1.8/Test/src/\u001b[39m\u001b[90m\u001b[4mTest.jl:1368\u001b[24m\u001b[39m\u001b[90m [inlined]\u001b[39m\n",
      " [3] top-level scope\n",
      "\u001b[90m   @ \u001b[39m\u001b[90m~/Desktop/Current Semester/Scientific Computation/sci-comp-notebooks/Sci-Comp-and-Visual-Project/\u001b[39m\u001b[90m\u001b[4mTestSuiteStage1.jl:11\u001b[24m\u001b[39m\n",
      "in expression starting at /Users/benwiita/Desktop/Current Semester/Scientific Computation/sci-comp-notebooks/Sci-Comp-and-Visual-Project/TestSuiteStage1.jl:10\n"
     ]
    }
   ],
   "source": [
    "includet(\"TestSuiteStage1.jl\");"
   ]
  },
  {
   "cell_type": "markdown",
   "id": "d6fef42a-13fa-4a9f-ae7b-74b97822ad6d",
   "metadata": {},
   "source": [
    "6. Add documentation for all constructors and functions in the module."
   ]
  },
  {
   "cell_type": "markdown",
   "id": "e1a141b3-8d84-43da-a95a-0145e06a7ca6",
   "metadata": {},
   "source": [
    "# Stage 2"
   ]
  },
  {
   "cell_type": "markdown",
   "id": "65981c4f-1f2c-455e-b50f-59a791d66b52",
   "metadata": {},
   "source": [
    "1. Enter the gradientDescentBB functions from the textbook. Add them to your module."
   ]
  },
  {
   "cell_type": "code",
   "execution_count": 34,
   "id": "9714da7b-65d2-4b71-8557-d0faa7cbed08",
   "metadata": {},
   "outputs": [
    {
     "data": {
      "text/plain": [
       "gradientDescentBB (generic function with 1 method)"
      ]
     },
     "execution_count": 34,
     "metadata": {},
     "output_type": "execute_result"
    }
   ],
   "source": [
    "function gradientDescentBB(f::Function,x₀::Vector; max_steps = 100)\n",
    "  local steps = 0\n",
    "  local ∇f₀ = ForwardDiff.gradient(f,x₀)\n",
    "  local x₁ = x₀ - 0.25 * ∇f₀ # need to start with a value for x₁\n",
    "  while norm(∇f₀)> 1e-4 && steps < max_steps\n",
    "    ∇f₁ = ForwardDiff.gradient(f,x₁)\n",
    "    Δ∇f = ∇f₁-∇f₀\n",
    "    x₂ = x₁ - abs(dot(x₁-x₀,Δ∇f))/norm(Δ∇f)^2*∇f₁\n",
    "    x₀ = x₁\n",
    "    x₁ = x₂\n",
    "    ∇f₀ = ∇f₁\n",
    "    steps += 1\n",
    "  end\n",
    "  @show steps\n",
    "  steps < max_steps || throw(ErrorException(\"The number of steps has exceeded $max_steps\"))\n",
    "  x₁\n",
    "end\n"
   ]
  },
  {
   "cell_type": "markdown",
   "id": "73662616-4fdb-4850-8dc0-b9204bde9cc9",
   "metadata": {},
   "source": [
    "2. Write a function called bestFitLine that minimizes equation (1) for a given set of data using the Barzilai–Borwein gradient descent code in problem #1. The only input should be a XYData object and should return a\n",
    "named tuple or a new datatype. Add the function to your module."
   ]
  },
  {
   "cell_type": "code",
   "execution_count": 31,
   "id": "17240bf5-8425-4444-8fe6-8143a569804e",
   "metadata": {},
   "outputs": [],
   "source": [
    "using ForwardDiff"
   ]
  },
  {
   "cell_type": "code",
   "execution_count": 32,
   "id": "2ac1ee8e-423c-4fa5-baa6-b0f988e902b5",
   "metadata": {},
   "outputs": [
    {
     "data": {
      "text/plain": [
       "f (generic function with 1 method)"
      ]
     },
     "execution_count": 32,
     "metadata": {},
     "output_type": "execute_result"
    }
   ],
   "source": [
    "f(x) = x[1]^2+x[2]^2"
   ]
  },
  {
   "cell_type": "code",
   "execution_count": 33,
   "id": "c6adbb71-5c44-4b90-871b-c38bd2e12c2c",
   "metadata": {},
   "outputs": [
    {
     "name": "stdout",
     "output_type": "stream",
     "text": [
      "steps = 30\n"
     ]
    },
    {
     "data": {
      "text/plain": [
       "2-element Vector{Float64}:\n",
       " 9.313225746154785e-10\n",
       " 1.862645149230957e-9"
      ]
     },
     "execution_count": 33,
     "metadata": {},
     "output_type": "execute_result"
    }
   ],
   "source": [
    "gradientDescent(f,[1,2])"
   ]
  },
  {
   "cell_type": "code",
   "execution_count": 71,
   "id": "dddb3ca2-1d52-45b6-b8b7-689aa0405baf",
   "metadata": {},
   "outputs": [
    {
     "data": {
      "text/plain": [
       "bestFitLine (generic function with 1 method)"
      ]
     },
     "execution_count": 71,
     "metadata": {},
     "output_type": "execute_result"
    }
   ],
   "source": [
    "function bestFitLine(data::XYData)\n",
    "    function S(c)\n",
    "        a=c[1]\n",
    "        b=c[2]\n",
    "        sum(pt->(a*pt.x+b-pt.y)^2,data.vertices)\n",
    "    end\n",
    "    gradientDescentBB(S,[1,2])\n",
    "end"
   ]
  },
  {
   "cell_type": "code",
   "execution_count": 72,
   "id": "be4d3a49-aed5-4692-b266-26230ce39096",
   "metadata": {},
   "outputs": [
    {
     "name": "stdout",
     "output_type": "stream",
     "text": [
      "steps = 5\n"
     ]
    },
    {
     "data": {
      "text/plain": [
       "2-element Vector{Float64}:\n",
       " 1.5182926751961423\n",
       " 0.3048780475772454"
      ]
     },
     "execution_count": 72,
     "metadata": {},
     "output_type": "execute_result"
    }
   ],
   "source": [
    "bestFitLine(d1)"
   ]
  },
  {
   "cell_type": "code",
   "execution_count": null,
   "id": "a5c8ccff-e0ed-4ded-b0be-96199e751ca0",
   "metadata": {},
   "outputs": [],
   "source": []
  }
 ],
 "metadata": {
  "kernelspec": {
   "display_name": "Julia 1.8.0",
   "language": "julia",
   "name": "julia-1.8"
  },
  "language_info": {
   "file_extension": ".jl",
   "mimetype": "application/julia",
   "name": "julia",
   "version": "1.8.0"
  }
 },
 "nbformat": 4,
 "nbformat_minor": 5
}
