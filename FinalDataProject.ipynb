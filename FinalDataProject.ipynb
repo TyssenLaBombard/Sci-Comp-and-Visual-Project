{
 "cells": [
  {
   "cell_type": "markdown",
   "id": "0b66cebb-d62b-44a5-bbee-45052f884234",
   "metadata": {},
   "source": [
    "#### STAGE1 Project\n",
    "#### Alex Phoummalayvane, Tyssen Labombard, Ben Wiita\n",
    "#### Fitting Curves to Data Project"
   ]
  },
  {
   "cell_type": "markdown",
   "id": "e1c49b66-efe1-415e-b05a-3ccec1b1c5c4",
   "metadata": {},
   "source": [
    "1. Copy the Point2D struct from your homework and Chapter 17a into your module. This should be parametric\n",
    "like was discussed in Chapter 17a. That is it should have a single type and if the two points that are passed in\n",
    "are different types, you need to convert."
   ]
  },
  {
   "cell_type": "code",
   "execution_count": 1,
   "id": "6ac36f05-aa6e-4cc6-beaa-70d0c586aa2a",
   "metadata": {},
   "outputs": [],
   "source": [
    "using Revise"
   ]
  },
  {
   "cell_type": "code",
   "execution_count": 2,
   "id": "2979a501-d3d9-4d39-b23e-915b3b5fbcbf",
   "metadata": {},
   "outputs": [],
   "source": [
    "includet(\"DataFit.jl\")"
   ]
  },
  {
   "cell_type": "code",
   "execution_count": 3,
   "id": "03fb264f-340f-4cda-9813-f89d4a1f0458",
   "metadata": {},
   "outputs": [],
   "source": [
    "using .DataFit"
   ]
  },
  {
   "cell_type": "code",
   "execution_count": 4,
   "id": "e2e9c328-2b1d-4047-937a-bee949ac5414",
   "metadata": {},
   "outputs": [
    {
     "data": {
      "text/plain": [
       "(1,4)"
      ]
     },
     "execution_count": 4,
     "metadata": {},
     "output_type": "execute_result"
    }
   ],
   "source": [
    "#test to make Point2D object when passing in ints \n",
    "point2D_test = Point2D(1, 4)"
   ]
  },
  {
   "cell_type": "code",
   "execution_count": 5,
   "id": "1291eae4-46b5-4714-9356-7f4c080be293",
   "metadata": {},
   "outputs": [
    {
     "data": {
      "text/plain": [
       "(1.0,4.0)"
      ]
     },
     "execution_count": 5,
     "metadata": {},
     "output_type": "execute_result"
    }
   ],
   "source": [
    "# test to see if it changes types inside Point2D object to both be floats \n",
    "point2D_test = Point2D(1, 4.0)"
   ]
  },
  {
   "cell_type": "code",
   "execution_count": 6,
   "id": "409de866-c2aa-4dc2-896b-29ff087a7044",
   "metadata": {},
   "outputs": [
    {
     "data": {
      "text/plain": [
       "(1.4,4.0)"
      ]
     },
     "execution_count": 6,
     "metadata": {},
     "output_type": "execute_result"
    }
   ],
   "source": [
    "# test to see if Point2D object can be made when passing in floats \n",
    "point2D_test = Point2D(1.4, 4.0)"
   ]
  },
  {
   "cell_type": "markdown",
   "id": "a464c192-c706-4e92-ab5a-49b07dc54099",
   "metadata": {},
   "source": [
    "2. Create a new data type called XYData that stores a vector Point2D objects from your homework. You should\n",
    "do this parametrically and the types of data for x and y should be the same and a subset of Real.\n"
   ]
  },
  {
   "cell_type": "code",
   "execution_count": 7,
   "id": "a9bd77c0-ffd2-4b08-8b13-993bd4690e63",
   "metadata": {
    "tags": []
   },
   "outputs": [
    {
     "data": {
      "text/plain": [
       "[(1,2),(4,2),(6,7)]"
      ]
     },
     "execution_count": 7,
     "metadata": {},
     "output_type": "execute_result"
    }
   ],
   "source": [
    "# test to create XYData object from passing in a vector of tuples \n",
    "test_vectorTuples = XYData([(1,2), (4,2), (6,7)])"
   ]
  },
  {
   "cell_type": "code",
   "execution_count": 8,
   "id": "3d635bf4-29b3-4821-a527-99719b267b14",
   "metadata": {},
   "outputs": [
    {
     "data": {
      "text/plain": [
       "4-element Vector{Float64}:\n",
       " 3.1\n",
       " 3.2\n",
       " 0.0\n",
       " 0.1"
      ]
     },
     "execution_count": 8,
     "metadata": {},
     "output_type": "execute_result"
    }
   ],
   "source": [
    "vector_ypts_floats = [3.1, 3.2, 0.0, 0.1]"
   ]
  },
  {
   "cell_type": "code",
   "execution_count": 9,
   "id": "0232f18a-1480-4bea-bfa8-55fc16c8101a",
   "metadata": {},
   "outputs": [
    {
     "data": {
      "text/plain": [
       "4-element Vector{Int64}:\n",
       " 0\n",
       " 4\n",
       " 4\n",
       " 0"
      ]
     },
     "execution_count": 9,
     "metadata": {},
     "output_type": "execute_result"
    }
   ],
   "source": [
    "vector_xpts_ints = [0, 4, 4, 0]"
   ]
  },
  {
   "cell_type": "code",
   "execution_count": 10,
   "id": "2d172e3e-7036-4315-a27d-3edaa0743013",
   "metadata": {},
   "outputs": [
    {
     "data": {
      "text/plain": [
       "[(0.0,3.1),(4.0,3.2),(4.0,0.0),(0.0,0.1)]"
      ]
     },
     "execution_count": 10,
     "metadata": {},
     "output_type": "execute_result"
    }
   ],
   "source": [
    "#test for constructing XYData object from two vectors of same length but diff type\n",
    "vector_diff_types = XYData(vector_xpts_ints, vector_ypts_floats)"
   ]
  },
  {
   "cell_type": "code",
   "execution_count": 11,
   "id": "e9e9a5fa-b368-448c-92f4-6562f0664f9b",
   "metadata": {},
   "outputs": [],
   "source": [
    "#example professor gave\n",
    "#map((i,j)->i*j, [2, 5, 6], [3,5,9])"
   ]
  },
  {
   "cell_type": "code",
   "execution_count": 12,
   "id": "45ac5acd-13fa-449a-bb9a-da9fde21ce04",
   "metadata": {},
   "outputs": [
    {
     "data": {
      "text/plain": [
       "4-element Vector{Int64}:\n",
       " 0\n",
       " 4\n",
       " 4\n",
       " 0"
      ]
     },
     "execution_count": 12,
     "metadata": {},
     "output_type": "execute_result"
    }
   ],
   "source": [
    "vector_xpts = [0, 4, 4, 0]"
   ]
  },
  {
   "cell_type": "code",
   "execution_count": 13,
   "id": "159c3a5d-c05b-4bf7-b80a-9aba6a5e303c",
   "metadata": {},
   "outputs": [
    {
     "data": {
      "text/plain": [
       "4-element Vector{Int64}:\n",
       " 3\n",
       " 3\n",
       " 0\n",
       " 0"
      ]
     },
     "execution_count": 13,
     "metadata": {},
     "output_type": "execute_result"
    }
   ],
   "source": [
    "vector_ypts = [3, 3, 0, 0]"
   ]
  },
  {
   "cell_type": "code",
   "execution_count": 14,
   "id": "94a39467-cee7-43b5-8f8a-1a34c3e70a43",
   "metadata": {},
   "outputs": [
    {
     "data": {
      "text/plain": [
       "[(0,3),(4,3),(4,0),(0,0)]"
      ]
     },
     "execution_count": 14,
     "metadata": {},
     "output_type": "execute_result"
    }
   ],
   "source": [
    "plot_test = XYData(vector_xpts, vector_ypts)"
   ]
  },
  {
   "cell_type": "markdown",
   "id": "f71fc520-5c56-4049-9c11-dfd3cb362b91",
   "metadata": {},
   "source": [
    "2a. Create a default inner constructor that takes a vector of Point2D objects.\n"
   ]
  },
  {
   "cell_type": "markdown",
   "id": "addf077d-3e08-41b6-ab82-eea970176ac1",
   "metadata": {},
   "source": [
    "2b. Create a constructor that creates a new XYData object from two vectors of reals of the same length (each\n",
    "vector should be the same subtype of real)."
   ]
  },
  {
   "cell_type": "markdown",
   "id": "f77fa832-b9cc-4cf2-9e08-565d1f36c9dd",
   "metadata": {},
   "source": [
    "2c. Create a constructor that creates a new XYData object from a vector of tuples. Consider tuples of the\n",
    "same and different types.\n"
   ]
  },
  {
   "cell_type": "markdown",
   "id": "9d9169f8-aca0-44b4-bf6c-2e44a2788aa4",
   "metadata": {},
   "source": [
    "2d. Create a constructor that creates a new XYData object from two vectors of the same length but different\n",
    "types (like integers and floats)."
   ]
  },
  {
   "cell_type": "markdown",
   "id": "fee82093-8643-4ec0-aa30-0072a583c1b4",
   "metadata": {
    "tags": []
   },
   "source": [
    "2e. Create a Base.show function that prints out the XYData in a nice way."
   ]
  },
  {
   "cell_type": "markdown",
   "id": "82696785-737a-4457-94cd-9d09f2f179a0",
   "metadata": {},
   "source": [
    "3.  Use a RecipesBase to develop a plot recipe for plotting XYData. Test it.\n"
   ]
  },
  {
   "cell_type": "code",
   "execution_count": 15,
   "id": "794ce4f7-5972-4165-9f5d-53a73dbc62a1",
   "metadata": {},
   "outputs": [],
   "source": [
    "using Plots"
   ]
  },
  {
   "cell_type": "code",
   "execution_count": 16,
   "id": "d70673f7-3415-4f67-b828-4a67170e82fd",
   "metadata": {},
   "outputs": [
    {
     "data": {
      "image/svg+xml": [
       "<?xml version=\"1.0\" encoding=\"utf-8\"?>\n",
       "<svg xmlns=\"http://www.w3.org/2000/svg\" xmlns:xlink=\"http://www.w3.org/1999/xlink\" width=\"600\" height=\"400\" viewBox=\"0 0 2400 1600\">\n",
       "<defs>\n",
       "  <clipPath id=\"clip320\">\n",
       "    <rect x=\"0\" y=\"0\" width=\"2400\" height=\"1600\"/>\n",
       "  </clipPath>\n",
       "</defs>\n",
       "<path clip-path=\"url(#clip320)\" d=\"\n",
       "M0 1600 L2400 1600 L2400 0 L0 0  Z\n",
       "  \" fill=\"#ffffff\" fill-rule=\"evenodd\" fill-opacity=\"1\"/>\n",
       "<defs>\n",
       "  <clipPath id=\"clip321\">\n",
       "    <rect x=\"480\" y=\"0\" width=\"1681\" height=\"1600\"/>\n",
       "  </clipPath>\n",
       "</defs>\n",
       "<path clip-path=\"url(#clip320)\" d=\"\n",
       "M110.881 1486.45 L2352.76 1486.45 L2352.76 123.472 L110.881 123.472  Z\n",
       "  \" fill=\"#ffffff\" fill-rule=\"evenodd\" fill-opacity=\"1\"/>\n",
       "<defs>\n",
       "  <clipPath id=\"clip322\">\n",
       "    <rect x=\"110\" y=\"123\" width=\"2243\" height=\"1364\"/>\n",
       "  </clipPath>\n",
       "</defs>\n",
       "<polyline clip-path=\"url(#clip322)\" style=\"stroke:#000000; stroke-linecap:round; stroke-linejoin:round; stroke-width:2; stroke-opacity:0.1; fill:none\" points=\"\n",
       "  174.33,1486.45 174.33,123.472 \n",
       "  \"/>\n",
       "<polyline clip-path=\"url(#clip322)\" style=\"stroke:#000000; stroke-linecap:round; stroke-linejoin:round; stroke-width:2; stroke-opacity:0.1; fill:none\" points=\"\n",
       "  703.074,1486.45 703.074,123.472 \n",
       "  \"/>\n",
       "<polyline clip-path=\"url(#clip322)\" style=\"stroke:#000000; stroke-linecap:round; stroke-linejoin:round; stroke-width:2; stroke-opacity:0.1; fill:none\" points=\"\n",
       "  1231.82,1486.45 1231.82,123.472 \n",
       "  \"/>\n",
       "<polyline clip-path=\"url(#clip322)\" style=\"stroke:#000000; stroke-linecap:round; stroke-linejoin:round; stroke-width:2; stroke-opacity:0.1; fill:none\" points=\"\n",
       "  1760.56,1486.45 1760.56,123.472 \n",
       "  \"/>\n",
       "<polyline clip-path=\"url(#clip322)\" style=\"stroke:#000000; stroke-linecap:round; stroke-linejoin:round; stroke-width:2; stroke-opacity:0.1; fill:none\" points=\"\n",
       "  2289.31,1486.45 2289.31,123.472 \n",
       "  \"/>\n",
       "<polyline clip-path=\"url(#clip320)\" style=\"stroke:#000000; stroke-linecap:round; stroke-linejoin:round; stroke-width:4; stroke-opacity:1; fill:none\" points=\"\n",
       "  110.881,1486.45 2352.76,1486.45 \n",
       "  \"/>\n",
       "<polyline clip-path=\"url(#clip320)\" style=\"stroke:#000000; stroke-linecap:round; stroke-linejoin:round; stroke-width:4; stroke-opacity:1; fill:none\" points=\"\n",
       "  174.33,1486.45 174.33,1467.55 \n",
       "  \"/>\n",
       "<polyline clip-path=\"url(#clip320)\" style=\"stroke:#000000; stroke-linecap:round; stroke-linejoin:round; stroke-width:4; stroke-opacity:1; fill:none\" points=\"\n",
       "  703.074,1486.45 703.074,1467.55 \n",
       "  \"/>\n",
       "<polyline clip-path=\"url(#clip320)\" style=\"stroke:#000000; stroke-linecap:round; stroke-linejoin:round; stroke-width:4; stroke-opacity:1; fill:none\" points=\"\n",
       "  1231.82,1486.45 1231.82,1467.55 \n",
       "  \"/>\n",
       "<polyline clip-path=\"url(#clip320)\" style=\"stroke:#000000; stroke-linecap:round; stroke-linejoin:round; stroke-width:4; stroke-opacity:1; fill:none\" points=\"\n",
       "  1760.56,1486.45 1760.56,1467.55 \n",
       "  \"/>\n",
       "<polyline clip-path=\"url(#clip320)\" style=\"stroke:#000000; stroke-linecap:round; stroke-linejoin:round; stroke-width:4; stroke-opacity:1; fill:none\" points=\"\n",
       "  2289.31,1486.45 2289.31,1467.55 \n",
       "  \"/>\n",
       "<path clip-path=\"url(#clip320)\" d=\"M174.33 1517.37 Q170.719 1517.37 168.89 1520.93 Q167.085 1524.47 167.085 1531.6 Q167.085 1538.71 168.89 1542.27 Q170.719 1545.82 174.33 1545.82 Q177.964 1545.82 179.77 1542.27 Q181.599 1538.71 181.599 1531.6 Q181.599 1524.47 179.77 1520.93 Q177.964 1517.37 174.33 1517.37 M174.33 1513.66 Q180.14 1513.66 183.196 1518.27 Q186.275 1522.85 186.275 1531.6 Q186.275 1540.33 183.196 1544.94 Q180.14 1549.52 174.33 1549.52 Q168.52 1549.52 165.441 1544.94 Q162.386 1540.33 162.386 1531.6 Q162.386 1522.85 165.441 1518.27 Q168.52 1513.66 174.33 1513.66 Z\" fill=\"#000000\" fill-rule=\"evenodd\" fill-opacity=\"1\" /><path clip-path=\"url(#clip320)\" d=\"M693.456 1544.91 L701.095 1544.91 L701.095 1518.55 L692.785 1520.21 L692.785 1515.95 L701.049 1514.29 L705.725 1514.29 L705.725 1544.91 L713.364 1544.91 L713.364 1548.85 L693.456 1548.85 L693.456 1544.91 Z\" fill=\"#000000\" fill-rule=\"evenodd\" fill-opacity=\"1\" /><path clip-path=\"url(#clip320)\" d=\"M1226.47 1544.91 L1242.79 1544.91 L1242.79 1548.85 L1220.85 1548.85 L1220.85 1544.91 Q1223.51 1542.16 1228.09 1537.53 Q1232.7 1532.88 1233.88 1531.53 Q1236.12 1529.01 1237 1527.27 Q1237.91 1525.51 1237.91 1523.82 Q1237.91 1521.07 1235.96 1519.33 Q1234.04 1517.6 1230.94 1517.6 Q1228.74 1517.6 1226.29 1518.36 Q1223.86 1519.13 1221.08 1520.68 L1221.08 1515.95 Q1223.9 1514.82 1226.36 1514.24 Q1228.81 1513.66 1230.85 1513.66 Q1236.22 1513.66 1239.41 1516.35 Q1242.61 1519.03 1242.61 1523.52 Q1242.61 1525.65 1241.8 1527.57 Q1241.01 1529.47 1238.9 1532.07 Q1238.32 1532.74 1235.22 1535.95 Q1232.12 1539.15 1226.47 1544.91 Z\" fill=\"#000000\" fill-rule=\"evenodd\" fill-opacity=\"1\" /><path clip-path=\"url(#clip320)\" d=\"M1764.81 1530.21 Q1768.17 1530.93 1770.04 1533.2 Q1771.94 1535.47 1771.94 1538.8 Q1771.94 1543.92 1768.42 1546.72 Q1764.9 1549.52 1758.42 1549.52 Q1756.25 1549.52 1753.93 1549.08 Q1751.64 1548.66 1749.19 1547.81 L1749.19 1543.29 Q1751.13 1544.43 1753.44 1545.01 Q1755.76 1545.58 1758.28 1545.58 Q1762.68 1545.58 1764.97 1543.85 Q1767.29 1542.11 1767.29 1538.8 Q1767.29 1535.75 1765.13 1534.03 Q1763 1532.3 1759.19 1532.3 L1755.16 1532.3 L1755.16 1528.45 L1759.37 1528.45 Q1762.82 1528.45 1764.65 1527.09 Q1766.48 1525.7 1766.48 1523.11 Q1766.48 1520.45 1764.58 1519.03 Q1762.7 1517.6 1759.19 1517.6 Q1757.26 1517.6 1755.06 1518.01 Q1752.87 1518.43 1750.23 1519.31 L1750.23 1515.14 Q1752.89 1514.4 1755.2 1514.03 Q1757.54 1513.66 1759.6 1513.66 Q1764.93 1513.66 1768.03 1516.09 Q1771.13 1518.5 1771.13 1522.62 Q1771.13 1525.49 1769.49 1527.48 Q1767.84 1529.45 1764.81 1530.21 Z\" fill=\"#000000\" fill-rule=\"evenodd\" fill-opacity=\"1\" /><path clip-path=\"url(#clip320)\" d=\"M2292.32 1518.36 L2280.51 1536.81 L2292.32 1536.81 L2292.32 1518.36 M2291.09 1514.29 L2296.97 1514.29 L2296.97 1536.81 L2301.9 1536.81 L2301.9 1540.7 L2296.97 1540.7 L2296.97 1548.85 L2292.32 1548.85 L2292.32 1540.7 L2276.71 1540.7 L2276.71 1536.19 L2291.09 1514.29 Z\" fill=\"#000000\" fill-rule=\"evenodd\" fill-opacity=\"1\" /><polyline clip-path=\"url(#clip322)\" style=\"stroke:#000000; stroke-linecap:round; stroke-linejoin:round; stroke-width:2; stroke-opacity:0.1; fill:none\" points=\"\n",
       "  110.881,1447.87 2352.76,1447.87 \n",
       "  \"/>\n",
       "<polyline clip-path=\"url(#clip322)\" style=\"stroke:#000000; stroke-linecap:round; stroke-linejoin:round; stroke-width:2; stroke-opacity:0.1; fill:none\" points=\"\n",
       "  110.881,1019.26 2352.76,1019.26 \n",
       "  \"/>\n",
       "<polyline clip-path=\"url(#clip322)\" style=\"stroke:#000000; stroke-linecap:round; stroke-linejoin:round; stroke-width:2; stroke-opacity:0.1; fill:none\" points=\"\n",
       "  110.881,590.656 2352.76,590.656 \n",
       "  \"/>\n",
       "<polyline clip-path=\"url(#clip322)\" style=\"stroke:#000000; stroke-linecap:round; stroke-linejoin:round; stroke-width:2; stroke-opacity:0.1; fill:none\" points=\"\n",
       "  110.881,162.047 2352.76,162.047 \n",
       "  \"/>\n",
       "<polyline clip-path=\"url(#clip320)\" style=\"stroke:#000000; stroke-linecap:round; stroke-linejoin:round; stroke-width:4; stroke-opacity:1; fill:none\" points=\"\n",
       "  110.881,1486.45 110.881,123.472 \n",
       "  \"/>\n",
       "<polyline clip-path=\"url(#clip320)\" style=\"stroke:#000000; stroke-linecap:round; stroke-linejoin:round; stroke-width:4; stroke-opacity:1; fill:none\" points=\"\n",
       "  110.881,1447.87 129.779,1447.87 \n",
       "  \"/>\n",
       "<polyline clip-path=\"url(#clip320)\" style=\"stroke:#000000; stroke-linecap:round; stroke-linejoin:round; stroke-width:4; stroke-opacity:1; fill:none\" points=\"\n",
       "  110.881,1019.26 129.779,1019.26 \n",
       "  \"/>\n",
       "<polyline clip-path=\"url(#clip320)\" style=\"stroke:#000000; stroke-linecap:round; stroke-linejoin:round; stroke-width:4; stroke-opacity:1; fill:none\" points=\"\n",
       "  110.881,590.656 129.779,590.656 \n",
       "  \"/>\n",
       "<polyline clip-path=\"url(#clip320)\" style=\"stroke:#000000; stroke-linecap:round; stroke-linejoin:round; stroke-width:4; stroke-opacity:1; fill:none\" points=\"\n",
       "  110.881,162.047 129.779,162.047 \n",
       "  \"/>\n",
       "<path clip-path=\"url(#clip320)\" d=\"M62.9365 1433.67 Q59.3254 1433.67 57.4967 1437.24 Q55.6912 1440.78 55.6912 1447.91 Q55.6912 1455.01 57.4967 1458.58 Q59.3254 1462.12 62.9365 1462.12 Q66.5707 1462.12 68.3763 1458.58 Q70.205 1455.01 70.205 1447.91 Q70.205 1440.78 68.3763 1437.24 Q66.5707 1433.67 62.9365 1433.67 M62.9365 1429.97 Q68.7467 1429.97 71.8022 1434.57 Q74.8809 1439.16 74.8809 1447.91 Q74.8809 1456.63 71.8022 1461.24 Q68.7467 1465.82 62.9365 1465.82 Q57.1264 1465.82 54.0477 1461.24 Q50.9921 1456.63 50.9921 1447.91 Q50.9921 1439.16 54.0477 1434.57 Q57.1264 1429.97 62.9365 1429.97 Z\" fill=\"#000000\" fill-rule=\"evenodd\" fill-opacity=\"1\" /><path clip-path=\"url(#clip320)\" d=\"M54.9736 1032.61 L62.6124 1032.61 L62.6124 1006.24 L54.3023 1007.91 L54.3023 1003.65 L62.5661 1001.98 L67.242 1001.98 L67.242 1032.61 L74.8809 1032.61 L74.8809 1036.54 L54.9736 1036.54 L54.9736 1032.61 Z\" fill=\"#000000\" fill-rule=\"evenodd\" fill-opacity=\"1\" /><path clip-path=\"url(#clip320)\" d=\"M58.5615 604 L74.8809 604 L74.8809 607.936 L52.9366 607.936 L52.9366 604 Q55.5986 601.246 60.1819 596.616 Q64.7883 591.964 65.9689 590.621 Q68.2143 588.098 69.0939 586.362 Q69.9967 584.602 69.9967 582.913 Q69.9967 580.158 68.0522 578.422 Q66.1309 576.686 63.0291 576.686 Q60.83 576.686 58.3763 577.45 Q55.9458 578.214 53.168 579.764 L53.168 575.042 Q55.9921 573.908 58.4458 573.329 Q60.8995 572.751 62.9365 572.751 Q68.3068 572.751 71.5013 575.436 Q74.6957 578.121 74.6957 582.612 Q74.6957 584.741 73.8855 586.663 Q73.0985 588.561 70.992 591.153 Q70.4133 591.825 67.3115 595.042 Q64.2096 598.237 58.5615 604 Z\" fill=\"#000000\" fill-rule=\"evenodd\" fill-opacity=\"1\" /><path clip-path=\"url(#clip320)\" d=\"M67.7513 160.693 Q71.1078 161.41 72.9827 163.679 Q74.8809 165.947 74.8809 169.281 Q74.8809 174.396 71.3624 177.197 Q67.8439 179.998 61.3624 179.998 Q59.1865 179.998 56.8717 179.558 Q54.5801 179.142 52.1264 178.285 L52.1264 173.771 Q54.0708 174.906 56.3856 175.484 Q58.7004 176.063 61.2236 176.063 Q65.6217 176.063 67.9133 174.327 Q70.2281 172.591 70.2281 169.281 Q70.2281 166.225 68.0754 164.512 Q65.9457 162.776 62.1263 162.776 L58.0986 162.776 L58.0986 158.934 L62.3115 158.934 Q65.7606 158.934 67.5893 157.568 Q69.418 156.179 69.418 153.586 Q69.418 150.924 67.5198 149.512 Q65.6448 148.077 62.1263 148.077 Q60.205 148.077 58.006 148.494 Q55.8069 148.91 53.168 149.79 L53.168 145.623 Q55.8301 144.883 58.1449 144.512 Q60.4828 144.142 62.543 144.142 Q67.867 144.142 70.9689 146.572 Q74.0707 148.98 74.0707 153.1 Q74.0707 155.971 72.4272 157.961 Q70.7837 159.929 67.7513 160.693 Z\" fill=\"#000000\" fill-rule=\"evenodd\" fill-opacity=\"1\" /><path clip-path=\"url(#clip320)\" d=\"M816.601 12.096 L825.391 12.096 L840.42 34.5785 L855.53 12.096 L864.32 12.096 L844.876 41.141 L865.617 72.576 L856.826 72.576 L839.812 46.8528 L822.677 72.576 L813.846 72.576 L835.437 40.2903 L816.601 12.096 Z\" fill=\"#000000\" fill-rule=\"evenodd\" fill-opacity=\"1\" /><path clip-path=\"url(#clip320)\" d=\"M868.047 12.096 L876.838 12.096 L893.608 36.9686 L910.258 12.096 L919.048 12.096 L897.659 43.7741 L897.659 72.576 L889.436 72.576 L889.436 43.7741 L868.047 12.096 Z\" fill=\"#000000\" fill-rule=\"evenodd\" fill-opacity=\"1\" /><path clip-path=\"url(#clip320)\" d=\"M935.211 18.8205 L935.211 65.8515 L945.095 65.8515 Q957.613 65.8515 963.405 60.1802 Q969.239 54.509 969.239 42.2752 Q969.239 30.1225 963.405 24.4918 Q957.613 18.8205 945.095 18.8205 L935.211 18.8205 M927.028 12.096 L943.84 12.096 Q961.421 12.096 969.644 19.4281 Q977.867 26.7198 977.867 42.2752 Q977.867 57.9117 969.603 65.2439 Q961.34 72.576 943.84 72.576 L927.028 72.576 L927.028 12.096 Z\" fill=\"#000000\" fill-rule=\"evenodd\" fill-opacity=\"1\" /><path clip-path=\"url(#clip320)\" d=\"M1011.21 49.7694 Q1002.17 49.7694 998.689 51.8354 Q995.205 53.9013 995.205 58.8839 Q995.205 62.8538 997.798 65.2034 Q1000.43 67.5124 1004.93 67.5124 Q1011.13 67.5124 1014.85 63.1374 Q1018.62 58.7219 1018.62 51.4303 L1018.62 49.7694 L1011.21 49.7694 M1026.07 46.6907 L1026.07 72.576 L1018.62 72.576 L1018.62 65.6895 Q1016.07 69.8214 1012.26 71.8063 Q1008.45 73.7508 1002.94 73.7508 Q995.975 73.7508 991.843 69.8619 Q987.751 65.9325 987.751 59.3701 Q987.751 51.7138 992.856 47.825 Q998 43.9361 1008.17 43.9361 L1018.62 43.9361 L1018.62 43.2069 Q1018.62 38.0623 1015.22 35.2672 Q1011.85 32.4315 1005.74 32.4315 Q1001.85 32.4315 998.162 33.3632 Q994.476 34.295 991.073 36.1584 L991.073 29.2718 Q995.165 27.692 999.013 26.9223 Q1002.86 26.1121 1006.51 26.1121 Q1016.35 26.1121 1021.21 31.2163 Q1026.07 36.3204 1026.07 46.6907 Z\" fill=\"#000000\" fill-rule=\"evenodd\" fill-opacity=\"1\" /><path clip-path=\"url(#clip320)\" d=\"M1048.8 14.324 L1048.8 27.2059 L1064.15 27.2059 L1064.15 32.9987 L1048.8 32.9987 L1048.8 57.6282 Q1048.8 63.1779 1050.3 64.7578 Q1051.84 66.3376 1056.5 66.3376 L1064.15 66.3376 L1064.15 72.576 L1056.5 72.576 Q1047.87 72.576 1044.59 69.3758 Q1041.3 66.1351 1041.3 57.6282 L1041.3 32.9987 L1035.84 32.9987 L1035.84 27.2059 L1041.3 27.2059 L1041.3 14.324 L1048.8 14.324 Z\" fill=\"#000000\" fill-rule=\"evenodd\" fill-opacity=\"1\" /><path clip-path=\"url(#clip320)\" d=\"M1094.57 49.7694 Q1085.54 49.7694 1082.06 51.8354 Q1078.57 53.9013 1078.57 58.8839 Q1078.57 62.8538 1081.17 65.2034 Q1083.8 67.5124 1088.29 67.5124 Q1094.49 67.5124 1098.22 63.1374 Q1101.99 58.7219 1101.99 51.4303 L1101.99 49.7694 L1094.57 49.7694 M1109.44 46.6907 L1109.44 72.576 L1101.99 72.576 L1101.99 65.6895 Q1099.43 69.8214 1095.63 71.8063 Q1091.82 73.7508 1086.31 73.7508 Q1079.34 73.7508 1075.21 69.8619 Q1071.12 65.9325 1071.12 59.3701 Q1071.12 51.7138 1076.22 47.825 Q1081.37 43.9361 1091.54 43.9361 L1101.99 43.9361 L1101.99 43.2069 Q1101.99 38.0623 1098.58 35.2672 Q1095.22 32.4315 1089.11 32.4315 Q1085.22 32.4315 1081.53 33.3632 Q1077.84 34.295 1074.44 36.1584 L1074.44 29.2718 Q1078.53 27.692 1082.38 26.9223 Q1086.23 26.1121 1089.87 26.1121 Q1099.72 26.1121 1104.58 31.2163 Q1109.44 36.3204 1109.44 46.6907 Z\" fill=\"#000000\" fill-rule=\"evenodd\" fill-opacity=\"1\" /><path clip-path=\"url(#clip320)\" d=\"M1214.12 14.0809 L1214.12 22.0612 Q1209.46 19.8332 1205.33 18.7395 Q1201.19 17.6457 1197.35 17.6457 Q1190.66 17.6457 1187.02 20.2383 Q1183.41 22.8309 1183.41 27.611 Q1183.41 31.6214 1185.8 33.6873 Q1188.23 35.7128 1194.96 36.9686 L1199.9 37.9813 Q1209.05 39.7232 1213.39 44.1387 Q1217.76 48.5136 1217.76 55.8863 Q1217.76 64.6767 1211.85 69.2137 Q1205.97 73.7508 1194.59 73.7508 Q1190.3 73.7508 1185.44 72.7785 Q1180.61 71.8063 1175.43 69.9024 L1175.43 61.4765 Q1180.41 64.2716 1185.19 65.6895 Q1189.97 67.1073 1194.59 67.1073 Q1201.6 67.1073 1205.41 64.3527 Q1209.21 61.598 1209.21 56.4939 Q1209.21 52.0379 1206.46 49.5264 Q1203.75 47.0148 1197.51 45.759 L1192.52 44.7868 Q1183.37 42.9639 1179.28 39.075 Q1175.19 35.1862 1175.19 28.2591 Q1175.19 20.2383 1180.82 15.6203 Q1186.49 11.0023 1196.41 11.0023 Q1200.67 11.0023 1205.08 11.7719 Q1209.5 12.5416 1214.12 14.0809 Z\" fill=\"#000000\" fill-rule=\"evenodd\" fill-opacity=\"1\" /><path clip-path=\"url(#clip320)\" d=\"M1262.85 28.9478 L1262.85 35.9153 Q1259.69 34.1734 1256.49 33.3227 Q1253.33 32.4315 1250.09 32.4315 Q1242.84 32.4315 1238.83 37.0496 Q1234.82 41.6271 1234.82 49.9314 Q1234.82 58.2358 1238.83 62.8538 Q1242.84 67.4314 1250.09 67.4314 Q1253.33 67.4314 1256.49 66.5807 Q1259.69 65.6895 1262.85 63.9476 L1262.85 70.8341 Q1259.73 72.2924 1256.37 73.0216 Q1253.05 73.7508 1249.28 73.7508 Q1239.03 73.7508 1232.99 67.3098 Q1226.96 60.8689 1226.96 49.9314 Q1226.96 38.832 1233.03 32.472 Q1239.15 26.1121 1249.76 26.1121 Q1253.21 26.1121 1256.49 26.8413 Q1259.77 27.5299 1262.85 28.9478 Z\" fill=\"#000000\" fill-rule=\"evenodd\" fill-opacity=\"1\" /><path clip-path=\"url(#clip320)\" d=\"M1296.43 49.7694 Q1287.4 49.7694 1283.91 51.8354 Q1280.43 53.9013 1280.43 58.8839 Q1280.43 62.8538 1283.02 65.2034 Q1285.65 67.5124 1290.15 67.5124 Q1296.35 67.5124 1300.08 63.1374 Q1303.84 58.7219 1303.84 51.4303 L1303.84 49.7694 L1296.43 49.7694 M1311.3 46.6907 L1311.3 72.576 L1303.84 72.576 L1303.84 65.6895 Q1301.29 69.8214 1297.48 71.8063 Q1293.68 73.7508 1288.17 73.7508 Q1281.2 73.7508 1277.07 69.8619 Q1272.98 65.9325 1272.98 59.3701 Q1272.98 51.7138 1278.08 47.825 Q1283.22 43.9361 1293.39 43.9361 L1303.84 43.9361 L1303.84 43.2069 Q1303.84 38.0623 1300.44 35.2672 Q1297.08 32.4315 1290.96 32.4315 Q1287.07 32.4315 1283.39 33.3632 Q1279.7 34.295 1276.3 36.1584 L1276.3 29.2718 Q1280.39 27.692 1284.24 26.9223 Q1288.09 26.1121 1291.73 26.1121 Q1301.57 26.1121 1306.44 31.2163 Q1311.3 36.3204 1311.3 46.6907 Z\" fill=\"#000000\" fill-rule=\"evenodd\" fill-opacity=\"1\" /><path clip-path=\"url(#clip320)\" d=\"M1334.02 14.324 L1334.02 27.2059 L1349.38 27.2059 L1349.38 32.9987 L1334.02 32.9987 L1334.02 57.6282 Q1334.02 63.1779 1335.52 64.7578 Q1337.06 66.3376 1341.72 66.3376 L1349.38 66.3376 L1349.38 72.576 L1341.72 72.576 Q1333.09 72.576 1329.81 69.3758 Q1326.53 66.1351 1326.53 57.6282 L1326.53 32.9987 L1321.06 32.9987 L1321.06 27.2059 L1326.53 27.2059 L1326.53 14.324 L1334.02 14.324 Z\" fill=\"#000000\" fill-rule=\"evenodd\" fill-opacity=\"1\" /><path clip-path=\"url(#clip320)\" d=\"M1366.55 14.324 L1366.55 27.2059 L1381.9 27.2059 L1381.9 32.9987 L1366.55 32.9987 L1366.55 57.6282 Q1366.55 63.1779 1368.05 64.7578 Q1369.59 66.3376 1374.25 66.3376 L1381.9 66.3376 L1381.9 72.576 L1374.25 72.576 Q1365.62 72.576 1362.34 69.3758 Q1359.06 66.1351 1359.06 57.6282 L1359.06 32.9987 L1353.59 32.9987 L1353.59 27.2059 L1359.06 27.2059 L1359.06 14.324 L1366.55 14.324 Z\" fill=\"#000000\" fill-rule=\"evenodd\" fill-opacity=\"1\" /><path clip-path=\"url(#clip320)\" d=\"M1430.52 48.0275 L1430.52 51.6733 L1396.24 51.6733 Q1396.73 59.3701 1400.86 63.421 Q1405.04 67.4314 1412.45 67.4314 Q1416.74 67.4314 1420.75 66.3781 Q1424.8 65.3249 1428.77 63.2184 L1428.77 70.267 Q1424.76 71.9684 1420.55 72.8596 Q1416.34 73.7508 1412 73.7508 Q1401.15 73.7508 1394.79 67.4314 Q1388.47 61.1119 1388.47 50.3365 Q1388.47 39.1965 1394.46 32.6746 Q1400.5 26.1121 1410.71 26.1121 Q1419.86 26.1121 1425.17 32.0264 Q1430.52 37.9003 1430.52 48.0275 M1423.06 45.84 Q1422.98 39.7232 1419.62 36.0774 Q1416.3 32.4315 1410.79 32.4315 Q1404.55 32.4315 1400.78 35.9558 Q1397.05 39.4801 1396.49 45.8805 L1423.06 45.84 Z\" fill=\"#000000\" fill-rule=\"evenodd\" fill-opacity=\"1\" /><path clip-path=\"url(#clip320)\" d=\"M1469.04 34.1734 Q1467.78 33.4443 1466.28 33.1202 Q1464.83 32.7556 1463.04 32.7556 Q1456.72 32.7556 1453.32 36.8875 Q1449.96 40.9789 1449.96 48.6757 L1449.96 72.576 L1442.47 72.576 L1442.47 27.2059 L1449.96 27.2059 L1449.96 34.2544 Q1452.31 30.1225 1456.08 28.1376 Q1459.84 26.1121 1465.23 26.1121 Q1466 26.1121 1466.93 26.2337 Q1467.86 26.3147 1469 26.5172 L1469.04 34.1734 Z\" fill=\"#000000\" fill-rule=\"evenodd\" fill-opacity=\"1\" /><path clip-path=\"url(#clip320)\" d=\"M1511.74 18.8205 L1511.74 41.5461 L1522.03 41.5461 Q1527.74 41.5461 1530.86 38.5889 Q1533.98 35.6318 1533.98 30.163 Q1533.98 24.7348 1530.86 21.7777 Q1527.74 18.8205 1522.03 18.8205 L1511.74 18.8205 M1503.55 12.096 L1522.03 12.096 Q1532.19 12.096 1537.38 16.714 Q1542.6 21.2916 1542.6 30.163 Q1542.6 39.1155 1537.38 43.6931 Q1532.19 48.2706 1522.03 48.2706 L1511.74 48.2706 L1511.74 72.576 L1503.55 72.576 L1503.55 12.096 Z\" fill=\"#000000\" fill-rule=\"evenodd\" fill-opacity=\"1\" /><path clip-path=\"url(#clip320)\" d=\"M1553.26 9.54393 L1560.71 9.54393 L1560.71 72.576 L1553.26 72.576 L1553.26 9.54393 Z\" fill=\"#000000\" fill-rule=\"evenodd\" fill-opacity=\"1\" /><path clip-path=\"url(#clip320)\" d=\"M1593.89 32.4315 Q1587.89 32.4315 1584.41 37.1306 Q1580.93 41.7891 1580.93 49.9314 Q1580.93 58.0738 1584.37 62.7728 Q1587.85 67.4314 1593.89 67.4314 Q1599.84 67.4314 1603.33 62.7323 Q1606.81 58.0333 1606.81 49.9314 Q1606.81 41.8701 1603.33 37.1711 Q1599.84 32.4315 1593.89 32.4315 M1593.89 26.1121 Q1603.61 26.1121 1609.16 32.4315 Q1614.71 38.7509 1614.71 49.9314 Q1614.71 61.0714 1609.16 67.4314 Q1603.61 73.7508 1593.89 73.7508 Q1584.13 73.7508 1578.58 67.4314 Q1573.07 61.0714 1573.07 49.9314 Q1573.07 38.7509 1578.58 32.4315 Q1584.13 26.1121 1593.89 26.1121 Z\" fill=\"#000000\" fill-rule=\"evenodd\" fill-opacity=\"1\" /><path clip-path=\"url(#clip320)\" d=\"M1634.44 14.324 L1634.44 27.2059 L1649.79 27.2059 L1649.79 32.9987 L1634.44 32.9987 L1634.44 57.6282 Q1634.44 63.1779 1635.94 64.7578 Q1637.48 66.3376 1642.13 66.3376 L1649.79 66.3376 L1649.79 72.576 L1642.13 72.576 Q1633.51 72.576 1630.22 69.3758 Q1626.94 66.1351 1626.94 57.6282 L1626.94 32.9987 L1621.47 32.9987 L1621.47 27.2059 L1626.94 27.2059 L1626.94 14.324 L1634.44 14.324 Z\" fill=\"#000000\" fill-rule=\"evenodd\" fill-opacity=\"1\" /><circle clip-path=\"url(#clip322)\" cx=\"174.33\" cy=\"162.047\" r=\"14.4\" fill=\"#009af9\" fill-rule=\"evenodd\" fill-opacity=\"1\" stroke=\"#000000\" stroke-opacity=\"1\" stroke-width=\"3.2\"/>\n",
       "<circle clip-path=\"url(#clip322)\" cx=\"2289.31\" cy=\"162.047\" r=\"14.4\" fill=\"#009af9\" fill-rule=\"evenodd\" fill-opacity=\"1\" stroke=\"#000000\" stroke-opacity=\"1\" stroke-width=\"3.2\"/>\n",
       "<circle clip-path=\"url(#clip322)\" cx=\"2289.31\" cy=\"1447.87\" r=\"14.4\" fill=\"#009af9\" fill-rule=\"evenodd\" fill-opacity=\"1\" stroke=\"#000000\" stroke-opacity=\"1\" stroke-width=\"3.2\"/>\n",
       "<circle clip-path=\"url(#clip322)\" cx=\"174.33\" cy=\"1447.87\" r=\"14.4\" fill=\"#009af9\" fill-rule=\"evenodd\" fill-opacity=\"1\" stroke=\"#000000\" stroke-opacity=\"1\" stroke-width=\"3.2\"/>\n",
       "<circle clip-path=\"url(#clip322)\" cx=\"174.33\" cy=\"162.047\" r=\"14.4\" fill=\"#009af9\" fill-rule=\"evenodd\" fill-opacity=\"1\" stroke=\"#000000\" stroke-opacity=\"1\" stroke-width=\"3.2\"/>\n",
       "</svg>\n"
      ]
     },
     "execution_count": 16,
     "metadata": {},
     "output_type": "execute_result"
    }
   ],
   "source": [
    "plot(plot_test)"
   ]
  },
  {
   "cell_type": "code",
   "execution_count": 17,
   "id": "38b605b5-5000-45c2-8c25-713eb53a6b22",
   "metadata": {},
   "outputs": [
    {
     "data": {
      "text/plain": [
       "(0.0, 1.5)"
      ]
     },
     "execution_count": 17,
     "metadata": {},
     "output_type": "execute_result"
    }
   ],
   "source": [
    "linearRegression(plot_test)"
   ]
  },
  {
   "cell_type": "markdown",
   "id": "e2d310f8-3dcb-4d2f-9e3f-9c2b09a8b8c5",
   "metadata": {},
   "source": [
    "4. Write a function called linearRegression that passes in a XYData object and return the least-squares line\n",
    "(formulas in the Background section above) as either a named tuple or a new datatype."
   ]
  },
  {
   "cell_type": "code",
   "execution_count": 46,
   "id": "95480cf8-f7ee-4ec8-a31d-20a94a2b1e3b",
   "metadata": {
    "tags": []
   },
   "outputs": [
    {
     "data": {
      "text/plain": [
       "5-element Vector{Int64}:\n",
       " 2\n",
       " 3\n",
       " 5\n",
       " 7\n",
       " 9"
      ]
     },
     "execution_count": 46,
     "metadata": {},
     "output_type": "execute_result"
    }
   ],
   "source": [
    "v1 = [2,3,5,7,9]"
   ]
  },
  {
   "cell_type": "code",
   "execution_count": 47,
   "id": "9a1edd70-54e9-43a4-9a93-43dc200fd310",
   "metadata": {
    "tags": []
   },
   "outputs": [
    {
     "data": {
      "text/plain": [
       "5-element Vector{Int64}:\n",
       "  4\n",
       "  5\n",
       "  7\n",
       " 10\n",
       " 15"
      ]
     },
     "execution_count": 47,
     "metadata": {},
     "output_type": "execute_result"
    }
   ],
   "source": [
    "v2 = [4,5,7,10,15]"
   ]
  },
  {
   "cell_type": "code",
   "execution_count": 48,
   "id": "2b6e8d07-8c9f-4f9f-9ca3-b8d2e09bfcd7",
   "metadata": {},
   "outputs": [
    {
     "data": {
      "text/plain": [
       "[(2,4),(3,5),(5,7),(7,10),(9,15)]"
      ]
     },
     "execution_count": 48,
     "metadata": {},
     "output_type": "execute_result"
    }
   ],
   "source": [
    "d1 = XYData(v1,v2)"
   ]
  },
  {
   "cell_type": "code",
   "execution_count": 49,
   "id": "9f40a470-98e8-434f-9773-5ff3cb186d26",
   "metadata": {},
   "outputs": [
    {
     "data": {
      "text/plain": [
       "(1.5182926829268293, 0.30487804878048763)"
      ]
     },
     "execution_count": 49,
     "metadata": {},
     "output_type": "execute_result"
    }
   ],
   "source": [
    "linearRegression(d1)"
   ]
  },
  {
   "cell_type": "code",
   "execution_count": 50,
   "id": "99754e1f-d505-4a03-b1a3-efc0d3323588",
   "metadata": {
    "tags": []
   },
   "outputs": [
    {
     "name": "stdout",
     "output_type": "stream",
     "text": [
      "steps = 5\n"
     ]
    },
    {
     "data": {
      "text/plain": [
       "2-element Vector{Float64}:\n",
       " 1.5182926751961423\n",
       " 0.3048780475772454"
      ]
     },
     "execution_count": 50,
     "metadata": {},
     "output_type": "execute_result"
    }
   ],
   "source": [
    "fit1 = bestFitLine(d1)"
   ]
  },
  {
   "cell_type": "code",
   "execution_count": 51,
   "id": "14356ecf-e1b8-481a-b059-305ef67f57fb",
   "metadata": {},
   "outputs": [
    {
     "name": "stdout",
     "output_type": "stream",
     "text": [
      "This is Ipopt version 3.14.4, running with linear solver MUMPS 5.4.1.\n",
      "\n",
      "Number of nonzeros in equality constraint Jacobian...:        0\n",
      "Number of nonzeros in inequality constraint Jacobian.:        0\n",
      "Number of nonzeros in Lagrangian Hessian.............:        3\n",
      "\n",
      "Total number of variables............................:        3\n",
      "                     variables with only lower bounds:        0\n",
      "                variables with lower and upper bounds:        0\n",
      "                     variables with only upper bounds:        0\n",
      "Total number of equality constraints.................:        0\n",
      "Total number of inequality constraints...............:        0\n",
      "        inequality constraints with only lower bounds:        0\n",
      "   inequality constraints with lower and upper bounds:        0\n",
      "        inequality constraints with only upper bounds:        0\n",
      "\n",
      "iter    objective    inf_pr   inf_du lg(mu)  ||d||  lg(rg) alpha_du alpha_pr  ls\n",
      "   0  1.0000000e+00 0.00e+00 2.00e+00  -1.0 0.00e+00    -  0.00e+00 0.00e+00   0\n",
      "   1  9.5306563e-01 0.00e+00 1.25e+01  -1.0 1.00e+00  -4.0 1.00e+00 2.50e-01f  3\n",
      "   2  4.8321520e-01 0.00e+00 1.01e+00  -1.0 9.03e-02  -4.5 1.00e+00 1.00e+00f  1\n",
      "   3  4.5704486e-01 0.00e+00 9.53e+00  -1.0 4.29e-01  -5.0 1.00e+00 5.00e-01f  2\n",
      "   4  1.8895564e-01 0.00e+00 4.16e-01  -1.0 9.51e-02  -5.4 1.00e+00 1.00e+00f  1\n",
      "   5  1.3918730e-01 0.00e+00 6.50e+00  -1.7 3.49e-01  -5.9 1.00e+00 5.00e-01f  2\n",
      "   6  5.4949330e-02 0.00e+00 4.51e-01  -1.7 9.29e-02  -6.4 1.00e+00 1.00e+00f  1\n",
      "   7  2.9150744e-02 0.00e+00 2.27e+00  -1.7 2.49e-01  -6.9 1.00e+00 5.00e-01f  2\n",
      "   8  9.8616289e-03 0.00e+00 1.16e+00  -1.7 1.10e-01  -7.3 1.00e+00 1.00e+00f  1\n",
      "   9  2.3246659e-03 0.00e+00 1.00e+00  -1.7 1.00e-01  -7.8 1.00e+00 1.00e+00f  1\n",
      "iter    objective    inf_pr   inf_du lg(mu)  ||d||  lg(rg) alpha_du alpha_pr  ls\n",
      "  10  2.3813894e-04 0.00e+00 2.19e-01  -1.7 5.09e-02  -8.3 1.00e+00 1.00e+00f  1\n",
      "  11  4.9331530e-06 0.00e+00 5.95e-02  -1.7 2.53e-02  -8.8 1.00e+00 1.00e+00f  1\n",
      "  12  2.8266021e-09 0.00e+00 8.33e-04  -2.5 3.20e-03  -9.2 1.00e+00 1.00e+00f  1\n",
      "  13  1.0150662e-15 0.00e+00 8.70e-07  -5.7 9.79e-05  -9.7 1.00e+00 1.00e+00f  1\n",
      "  14  1.4644463e-28 0.00e+00 2.46e-13  -8.6 4.67e-08 -10.2 1.00e+00 1.00e+00f  1\n",
      "\n",
      "Number of Iterations....: 14\n",
      "\n",
      "                                   (scaled)                 (unscaled)\n",
      "Objective...............:   1.4644463148329439e-28    1.4644463148329439e-28\n",
      "Dual infeasibility......:   2.4624746686185704e-13    2.4624746686185704e-13\n",
      "Constraint violation....:   0.0000000000000000e+00    0.0000000000000000e+00\n",
      "Variable bound violation:   0.0000000000000000e+00    0.0000000000000000e+00\n",
      "Complementarity.........:   0.0000000000000000e+00    0.0000000000000000e+00\n",
      "Overall NLP error.......:   2.4624746686185704e-13    2.4624746686185704e-13\n",
      "\n",
      "\n",
      "Number of objective function evaluations             = 36\n",
      "Number of objective gradient evaluations             = 15\n",
      "Number of equality constraint evaluations            = 0\n",
      "Number of inequality constraint evaluations          = 0\n",
      "Number of equality constraint Jacobian evaluations   = 0\n",
      "Number of inequality constraint Jacobian evaluations = 0\n",
      "Number of Lagrangian Hessian evaluations             = 14\n",
      "Total seconds in IPOPT                               = 0.012\n",
      "\n",
      "EXIT: Optimal Solution Found.\n",
      "(value(a), value(b), value(c)) = (0.9999999999999899, 0.9999999999999791, 0.0)"
     ]
    },
    {
     "data": {
      "text/plain": [
       "(0.9999999999999899, 0.9999999999999791, 0.0)"
      ]
     },
     "execution_count": 51,
     "metadata": {},
     "output_type": "execute_result"
    },
    {
     "name": "stdout",
     "output_type": "stream",
     "text": [
      "\n"
     ]
    }
   ],
   "source": [
    "fit2 = bestExponentialFit(d1)"
   ]
  },
  {
   "cell_type": "code",
   "execution_count": 52,
   "id": "6fa5e545-1928-4ed8-9ea5-fb512db57a1b",
   "metadata": {},
   "outputs": [],
   "source": [
    "#plot!(n->fit2.param[1]*n^2,0:375)"
   ]
  },
  {
   "cell_type": "code",
   "execution_count": 53,
   "id": "fa610c72-c3f1-4c98-a80c-e636e268dae7",
   "metadata": {
    "tags": []
   },
   "outputs": [
    {
     "data": {
      "image/svg+xml": [
       "<?xml version=\"1.0\" encoding=\"utf-8\"?>\n",
       "<svg xmlns=\"http://www.w3.org/2000/svg\" xmlns:xlink=\"http://www.w3.org/1999/xlink\" width=\"600\" height=\"400\" viewBox=\"0 0 2400 1600\">\n",
       "<defs>\n",
       "  <clipPath id=\"clip440\">\n",
       "    <rect x=\"0\" y=\"0\" width=\"2400\" height=\"1600\"/>\n",
       "  </clipPath>\n",
       "</defs>\n",
       "<path clip-path=\"url(#clip440)\" d=\"\n",
       "M0 1600 L2400 1600 L2400 0 L0 0  Z\n",
       "  \" fill=\"#ffffff\" fill-rule=\"evenodd\" fill-opacity=\"1\"/>\n",
       "<defs>\n",
       "  <clipPath id=\"clip441\">\n",
       "    <rect x=\"480\" y=\"0\" width=\"1681\" height=\"1600\"/>\n",
       "  </clipPath>\n",
       "</defs>\n",
       "<path clip-path=\"url(#clip440)\" d=\"\n",
       "M184.191 1486.45 L2352.76 1486.45 L2352.76 123.472 L184.191 123.472  Z\n",
       "  \" fill=\"#ffffff\" fill-rule=\"evenodd\" fill-opacity=\"1\"/>\n",
       "<defs>\n",
       "  <clipPath id=\"clip442\">\n",
       "    <rect x=\"184\" y=\"123\" width=\"2170\" height=\"1364\"/>\n",
       "  </clipPath>\n",
       "</defs>\n",
       "<polyline clip-path=\"url(#clip442)\" style=\"stroke:#000000; stroke-linecap:round; stroke-linejoin:round; stroke-width:2; stroke-opacity:0.1; fill:none\" points=\"\n",
       "  245.565,1486.45 245.565,123.472 \n",
       "  \"/>\n",
       "<polyline clip-path=\"url(#clip442)\" style=\"stroke:#000000; stroke-linecap:round; stroke-linejoin:round; stroke-width:2; stroke-opacity:0.1; fill:none\" points=\"\n",
       "  830.084,1486.45 830.084,123.472 \n",
       "  \"/>\n",
       "<polyline clip-path=\"url(#clip442)\" style=\"stroke:#000000; stroke-linecap:round; stroke-linejoin:round; stroke-width:2; stroke-opacity:0.1; fill:none\" points=\"\n",
       "  1414.6,1486.45 1414.6,123.472 \n",
       "  \"/>\n",
       "<polyline clip-path=\"url(#clip442)\" style=\"stroke:#000000; stroke-linecap:round; stroke-linejoin:round; stroke-width:2; stroke-opacity:0.1; fill:none\" points=\"\n",
       "  1999.12,1486.45 1999.12,123.472 \n",
       "  \"/>\n",
       "<polyline clip-path=\"url(#clip440)\" style=\"stroke:#000000; stroke-linecap:round; stroke-linejoin:round; stroke-width:4; stroke-opacity:1; fill:none\" points=\"\n",
       "  184.191,1486.45 2352.76,1486.45 \n",
       "  \"/>\n",
       "<polyline clip-path=\"url(#clip440)\" style=\"stroke:#000000; stroke-linecap:round; stroke-linejoin:round; stroke-width:4; stroke-opacity:1; fill:none\" points=\"\n",
       "  245.565,1486.45 245.565,1467.55 \n",
       "  \"/>\n",
       "<polyline clip-path=\"url(#clip440)\" style=\"stroke:#000000; stroke-linecap:round; stroke-linejoin:round; stroke-width:4; stroke-opacity:1; fill:none\" points=\"\n",
       "  830.084,1486.45 830.084,1467.55 \n",
       "  \"/>\n",
       "<polyline clip-path=\"url(#clip440)\" style=\"stroke:#000000; stroke-linecap:round; stroke-linejoin:round; stroke-width:4; stroke-opacity:1; fill:none\" points=\"\n",
       "  1414.6,1486.45 1414.6,1467.55 \n",
       "  \"/>\n",
       "<polyline clip-path=\"url(#clip440)\" style=\"stroke:#000000; stroke-linecap:round; stroke-linejoin:round; stroke-width:4; stroke-opacity:1; fill:none\" points=\"\n",
       "  1999.12,1486.45 1999.12,1467.55 \n",
       "  \"/>\n",
       "<path clip-path=\"url(#clip440)\" d=\"M240.218 1544.91 L256.537 1544.91 L256.537 1548.85 L234.593 1548.85 L234.593 1544.91 Q237.255 1542.16 241.838 1537.53 Q246.445 1532.88 247.625 1531.53 Q249.871 1529.01 250.75 1527.27 Q251.653 1525.51 251.653 1523.82 Q251.653 1521.07 249.709 1519.33 Q247.787 1517.6 244.686 1517.6 Q242.486 1517.6 240.033 1518.36 Q237.602 1519.13 234.824 1520.68 L234.824 1515.95 Q237.649 1514.82 240.102 1514.24 Q242.556 1513.66 244.593 1513.66 Q249.963 1513.66 253.158 1516.35 Q256.352 1519.03 256.352 1523.52 Q256.352 1525.65 255.542 1527.57 Q254.755 1529.47 252.648 1532.07 Q252.07 1532.74 248.968 1535.95 Q245.866 1539.15 240.218 1544.91 Z\" fill=\"#000000\" fill-rule=\"evenodd\" fill-opacity=\"1\" /><path clip-path=\"url(#clip440)\" d=\"M833.093 1518.36 L821.288 1536.81 L833.093 1536.81 L833.093 1518.36 M831.866 1514.29 L837.746 1514.29 L837.746 1536.81 L842.677 1536.81 L842.677 1540.7 L837.746 1540.7 L837.746 1548.85 L833.093 1548.85 L833.093 1540.7 L817.492 1540.7 L817.492 1536.19 L831.866 1514.29 Z\" fill=\"#000000\" fill-rule=\"evenodd\" fill-opacity=\"1\" /><path clip-path=\"url(#clip440)\" d=\"M1415.01 1529.7 Q1411.86 1529.7 1410.01 1531.86 Q1408.18 1534.01 1408.18 1537.76 Q1408.18 1541.49 1410.01 1543.66 Q1411.86 1545.82 1415.01 1545.82 Q1418.16 1545.82 1419.98 1543.66 Q1421.84 1541.49 1421.84 1537.76 Q1421.84 1534.01 1419.98 1531.86 Q1418.16 1529.7 1415.01 1529.7 M1424.29 1515.05 L1424.29 1519.31 Q1422.53 1518.48 1420.73 1518.04 Q1418.94 1517.6 1417.18 1517.6 Q1412.55 1517.6 1410.1 1520.72 Q1407.67 1523.85 1407.32 1530.17 Q1408.69 1528.15 1410.75 1527.09 Q1412.81 1526 1415.29 1526 Q1420.49 1526 1423.5 1529.17 Q1426.54 1532.32 1426.54 1537.76 Q1426.54 1543.08 1423.39 1546.3 Q1420.24 1549.52 1415.01 1549.52 Q1409.01 1549.52 1405.84 1544.94 Q1402.67 1540.33 1402.67 1531.6 Q1402.67 1523.41 1406.56 1518.55 Q1410.45 1513.66 1417 1513.66 Q1418.76 1513.66 1420.54 1514.01 Q1422.35 1514.36 1424.29 1515.05 Z\" fill=\"#000000\" fill-rule=\"evenodd\" fill-opacity=\"1\" /><path clip-path=\"url(#clip440)\" d=\"M1999.12 1532.44 Q1995.79 1532.44 1993.87 1534.22 Q1991.97 1536 1991.97 1539.13 Q1991.97 1542.25 1993.87 1544.03 Q1995.79 1545.82 1999.12 1545.82 Q2002.46 1545.82 2004.38 1544.03 Q2006.3 1542.23 2006.3 1539.13 Q2006.3 1536 2004.38 1534.22 Q2002.48 1532.44 1999.12 1532.44 M1994.45 1530.45 Q1991.44 1529.7 1989.75 1527.64 Q1988.08 1525.58 1988.08 1522.62 Q1988.08 1518.48 1991.02 1516.07 Q1993.98 1513.66 1999.12 1513.66 Q2004.28 1513.66 2007.22 1516.07 Q2010.16 1518.48 2010.16 1522.62 Q2010.16 1525.58 2008.47 1527.64 Q2006.81 1529.7 2003.82 1530.45 Q2007.2 1531.23 2009.08 1533.52 Q2010.97 1535.82 2010.97 1539.13 Q2010.97 1544.15 2007.9 1546.83 Q2004.84 1549.52 1999.12 1549.52 Q1993.4 1549.52 1990.33 1546.83 Q1987.27 1544.15 1987.27 1539.13 Q1987.27 1535.82 1989.17 1533.52 Q1991.07 1531.23 1994.45 1530.45 M1992.73 1523.06 Q1992.73 1525.75 1994.4 1527.25 Q1996.09 1528.76 1999.12 1528.76 Q2002.13 1528.76 2003.82 1527.25 Q2005.53 1525.75 2005.53 1523.06 Q2005.53 1520.38 2003.82 1518.87 Q2002.13 1517.37 1999.12 1517.37 Q1996.09 1517.37 1994.4 1518.87 Q1992.73 1520.38 1992.73 1523.06 Z\" fill=\"#000000\" fill-rule=\"evenodd\" fill-opacity=\"1\" /><polyline clip-path=\"url(#clip442)\" style=\"stroke:#000000; stroke-linecap:round; stroke-linejoin:round; stroke-width:2; stroke-opacity:0.1; fill:none\" points=\"\n",
       "  184.191,1264.95 2352.76,1264.95 \n",
       "  \"/>\n",
       "<polyline clip-path=\"url(#clip442)\" style=\"stroke:#000000; stroke-linecap:round; stroke-linejoin:round; stroke-width:2; stroke-opacity:0.1; fill:none\" points=\"\n",
       "  184.191,989.226 2352.76,989.226 \n",
       "  \"/>\n",
       "<polyline clip-path=\"url(#clip442)\" style=\"stroke:#000000; stroke-linecap:round; stroke-linejoin:round; stroke-width:2; stroke-opacity:0.1; fill:none\" points=\"\n",
       "  184.191,713.5 2352.76,713.5 \n",
       "  \"/>\n",
       "<polyline clip-path=\"url(#clip442)\" style=\"stroke:#000000; stroke-linecap:round; stroke-linejoin:round; stroke-width:2; stroke-opacity:0.1; fill:none\" points=\"\n",
       "  184.191,437.773 2352.76,437.773 \n",
       "  \"/>\n",
       "<polyline clip-path=\"url(#clip442)\" style=\"stroke:#000000; stroke-linecap:round; stroke-linejoin:round; stroke-width:2; stroke-opacity:0.1; fill:none\" points=\"\n",
       "  184.191,162.047 2352.76,162.047 \n",
       "  \"/>\n",
       "<polyline clip-path=\"url(#clip440)\" style=\"stroke:#000000; stroke-linecap:round; stroke-linejoin:round; stroke-width:4; stroke-opacity:1; fill:none\" points=\"\n",
       "  184.191,1486.45 184.191,123.472 \n",
       "  \"/>\n",
       "<polyline clip-path=\"url(#clip440)\" style=\"stroke:#000000; stroke-linecap:round; stroke-linejoin:round; stroke-width:4; stroke-opacity:1; fill:none\" points=\"\n",
       "  184.191,1264.95 203.088,1264.95 \n",
       "  \"/>\n",
       "<polyline clip-path=\"url(#clip440)\" style=\"stroke:#000000; stroke-linecap:round; stroke-linejoin:round; stroke-width:4; stroke-opacity:1; fill:none\" points=\"\n",
       "  184.191,989.226 203.088,989.226 \n",
       "  \"/>\n",
       "<polyline clip-path=\"url(#clip440)\" style=\"stroke:#000000; stroke-linecap:round; stroke-linejoin:round; stroke-width:4; stroke-opacity:1; fill:none\" points=\"\n",
       "  184.191,713.5 203.088,713.5 \n",
       "  \"/>\n",
       "<polyline clip-path=\"url(#clip440)\" style=\"stroke:#000000; stroke-linecap:round; stroke-linejoin:round; stroke-width:4; stroke-opacity:1; fill:none\" points=\"\n",
       "  184.191,437.773 203.088,437.773 \n",
       "  \"/>\n",
       "<polyline clip-path=\"url(#clip440)\" style=\"stroke:#000000; stroke-linecap:round; stroke-linejoin:round; stroke-width:4; stroke-opacity:1; fill:none\" points=\"\n",
       "  184.191,162.047 203.088,162.047 \n",
       "  \"/>\n",
       "<path clip-path=\"url(#clip440)\" d=\"M81.0614 1247.67 L99.4178 1247.67 L99.4178 1251.61 L85.3438 1251.61 L85.3438 1260.08 Q86.3623 1259.73 87.3808 1259.57 Q88.3993 1259.39 89.4178 1259.39 Q95.2049 1259.39 98.5845 1262.56 Q101.964 1265.73 101.964 1271.14 Q101.964 1276.72 98.4919 1279.82 Q95.0197 1282.9 88.7003 1282.9 Q86.5243 1282.9 84.2558 1282.53 Q82.0105 1282.16 79.6031 1281.42 L79.6031 1276.72 Q81.6864 1277.86 83.9086 1278.41 Q86.1308 1278.97 88.6077 1278.97 Q92.6123 1278.97 94.9502 1276.86 Q97.2882 1274.76 97.2882 1271.14 Q97.2882 1267.53 94.9502 1265.43 Q92.6123 1263.32 88.6077 1263.32 Q86.7327 1263.32 84.8577 1263.74 Q83.0058 1264.15 81.0614 1265.03 L81.0614 1247.67 Z\" fill=\"#000000\" fill-rule=\"evenodd\" fill-opacity=\"1\" /><path clip-path=\"url(#clip440)\" d=\"M111.177 1276.35 L116.061 1276.35 L116.061 1282.23 L111.177 1282.23 L111.177 1276.35 Z\" fill=\"#000000\" fill-rule=\"evenodd\" fill-opacity=\"1\" /><path clip-path=\"url(#clip440)\" d=\"M136.246 1250.75 Q132.635 1250.75 130.807 1254.32 Q129.001 1257.86 129.001 1264.99 Q129.001 1272.09 130.807 1275.66 Q132.635 1279.2 136.246 1279.2 Q139.881 1279.2 141.686 1275.66 Q143.515 1272.09 143.515 1264.99 Q143.515 1257.86 141.686 1254.32 Q139.881 1250.75 136.246 1250.75 M136.246 1247.05 Q142.056 1247.05 145.112 1251.65 Q148.191 1256.24 148.191 1264.99 Q148.191 1273.71 145.112 1278.32 Q142.056 1282.9 136.246 1282.9 Q130.436 1282.9 127.357 1278.32 Q124.302 1273.71 124.302 1264.99 Q124.302 1256.24 127.357 1251.65 Q130.436 1247.05 136.246 1247.05 Z\" fill=\"#000000\" fill-rule=\"evenodd\" fill-opacity=\"1\" /><path clip-path=\"url(#clip440)\" d=\"M80.8299 971.946 L103.052 971.946 L103.052 973.937 L90.5058 1006.51 L85.6216 1006.51 L97.4271 975.881 L80.8299 975.881 L80.8299 971.946 Z\" fill=\"#000000\" fill-rule=\"evenodd\" fill-opacity=\"1\" /><path clip-path=\"url(#clip440)\" d=\"M112.172 1000.63 L117.057 1000.63 L117.057 1006.51 L112.172 1006.51 L112.172 1000.63 Z\" fill=\"#000000\" fill-rule=\"evenodd\" fill-opacity=\"1\" /><path clip-path=\"url(#clip440)\" d=\"M127.288 971.946 L145.644 971.946 L145.644 975.881 L131.57 975.881 L131.57 984.353 Q132.589 984.006 133.607 983.844 Q134.626 983.659 135.644 983.659 Q141.431 983.659 144.811 986.83 Q148.191 990.001 148.191 995.418 Q148.191 1001 144.718 1004.1 Q141.246 1007.18 134.927 1007.18 Q132.751 1007.18 130.482 1006.81 Q128.237 1006.44 125.83 1005.7 L125.83 1001 Q127.913 1002.13 130.135 1002.69 Q132.357 1003.24 134.834 1003.24 Q138.839 1003.24 141.177 1001.14 Q143.515 999.029 143.515 995.418 Q143.515 991.807 141.177 989.7 Q138.839 987.594 134.834 987.594 Q132.959 987.594 131.084 988.011 Q129.232 988.427 127.288 989.307 L127.288 971.946 Z\" fill=\"#000000\" fill-rule=\"evenodd\" fill-opacity=\"1\" /><path clip-path=\"url(#clip440)\" d=\"M51.6634 726.844 L59.3023 726.844 L59.3023 700.479 L50.9921 702.145 L50.9921 697.886 L59.256 696.22 L63.9319 696.22 L63.9319 726.844 L71.5707 726.844 L71.5707 730.78 L51.6634 730.78 L51.6634 726.844 Z\" fill=\"#000000\" fill-rule=\"evenodd\" fill-opacity=\"1\" /><path clip-path=\"url(#clip440)\" d=\"M91.0151 699.298 Q87.404 699.298 85.5753 702.863 Q83.7697 706.405 83.7697 713.534 Q83.7697 720.641 85.5753 724.206 Q87.404 727.747 91.0151 727.747 Q94.6493 727.747 96.4548 724.206 Q98.2835 720.641 98.2835 713.534 Q98.2835 706.405 96.4548 702.863 Q94.6493 699.298 91.0151 699.298 M91.0151 695.595 Q96.8252 695.595 99.8808 700.201 Q102.959 704.784 102.959 713.534 Q102.959 722.261 99.8808 726.868 Q96.8252 731.451 91.0151 731.451 Q85.2049 731.451 82.1262 726.868 Q79.0707 722.261 79.0707 713.534 Q79.0707 704.784 82.1262 700.201 Q85.2049 695.595 91.0151 695.595 Z\" fill=\"#000000\" fill-rule=\"evenodd\" fill-opacity=\"1\" /><path clip-path=\"url(#clip440)\" d=\"M111.177 724.9 L116.061 724.9 L116.061 730.78 L111.177 730.78 L111.177 724.9 Z\" fill=\"#000000\" fill-rule=\"evenodd\" fill-opacity=\"1\" /><path clip-path=\"url(#clip440)\" d=\"M136.246 699.298 Q132.635 699.298 130.807 702.863 Q129.001 706.405 129.001 713.534 Q129.001 720.641 130.807 724.206 Q132.635 727.747 136.246 727.747 Q139.881 727.747 141.686 724.206 Q143.515 720.641 143.515 713.534 Q143.515 706.405 141.686 702.863 Q139.881 699.298 136.246 699.298 M136.246 695.595 Q142.056 695.595 145.112 700.201 Q148.191 704.784 148.191 713.534 Q148.191 722.261 145.112 726.868 Q142.056 731.451 136.246 731.451 Q130.436 731.451 127.357 726.868 Q124.302 722.261 124.302 713.534 Q124.302 704.784 127.357 700.201 Q130.436 695.595 136.246 695.595 Z\" fill=\"#000000\" fill-rule=\"evenodd\" fill-opacity=\"1\" /><path clip-path=\"url(#clip440)\" d=\"M52.6588 451.118 L60.2976 451.118 L60.2976 424.752 L51.9875 426.419 L51.9875 422.16 L60.2513 420.493 L64.9272 420.493 L64.9272 451.118 L72.5661 451.118 L72.5661 455.053 L52.6588 455.053 L52.6588 451.118 Z\" fill=\"#000000\" fill-rule=\"evenodd\" fill-opacity=\"1\" /><path clip-path=\"url(#clip440)\" d=\"M86.0382 451.118 L102.358 451.118 L102.358 455.053 L80.4133 455.053 L80.4133 451.118 Q83.0753 448.363 87.6586 443.734 Q92.2651 439.081 93.4456 437.739 Q95.691 435.215 96.5706 433.479 Q97.4734 431.72 97.4734 430.03 Q97.4734 427.276 95.5289 425.54 Q93.6076 423.803 90.5058 423.803 Q88.3067 423.803 85.8531 424.567 Q83.4225 425.331 80.6447 426.882 L80.6447 422.16 Q83.4688 421.026 85.9225 420.447 Q88.3762 419.868 90.4132 419.868 Q95.7836 419.868 98.978 422.553 Q102.172 425.239 102.172 429.729 Q102.172 431.859 101.362 433.78 Q100.575 435.678 98.4687 438.271 Q97.89 438.942 94.7882 442.16 Q91.6864 445.354 86.0382 451.118 Z\" fill=\"#000000\" fill-rule=\"evenodd\" fill-opacity=\"1\" /><path clip-path=\"url(#clip440)\" d=\"M112.172 449.174 L117.057 449.174 L117.057 455.053 L112.172 455.053 L112.172 449.174 Z\" fill=\"#000000\" fill-rule=\"evenodd\" fill-opacity=\"1\" /><path clip-path=\"url(#clip440)\" d=\"M127.288 420.493 L145.644 420.493 L145.644 424.428 L131.57 424.428 L131.57 432.901 Q132.589 432.553 133.607 432.391 Q134.626 432.206 135.644 432.206 Q141.431 432.206 144.811 435.377 Q148.191 438.549 148.191 443.965 Q148.191 449.544 144.718 452.646 Q141.246 455.725 134.927 455.725 Q132.751 455.725 130.482 455.354 Q128.237 454.984 125.83 454.243 L125.83 449.544 Q127.913 450.678 130.135 451.234 Q132.357 451.789 134.834 451.789 Q138.839 451.789 141.177 449.683 Q143.515 447.576 143.515 443.965 Q143.515 440.354 141.177 438.248 Q138.839 436.141 134.834 436.141 Q132.959 436.141 131.084 436.558 Q129.232 436.975 127.288 437.854 L127.288 420.493 Z\" fill=\"#000000\" fill-rule=\"evenodd\" fill-opacity=\"1\" /><path clip-path=\"url(#clip440)\" d=\"M51.6634 175.392 L59.3023 175.392 L59.3023 149.026 L50.9921 150.693 L50.9921 146.434 L59.256 144.767 L63.9319 144.767 L63.9319 175.392 L71.5707 175.392 L71.5707 179.327 L51.6634 179.327 L51.6634 175.392 Z\" fill=\"#000000\" fill-rule=\"evenodd\" fill-opacity=\"1\" /><path clip-path=\"url(#clip440)\" d=\"M81.0614 144.767 L99.4178 144.767 L99.4178 148.702 L85.3438 148.702 L85.3438 157.174 Q86.3623 156.827 87.3808 156.665 Q88.3993 156.48 89.4178 156.48 Q95.2049 156.48 98.5845 159.651 Q101.964 162.822 101.964 168.239 Q101.964 173.818 98.4919 176.92 Q95.0197 179.998 88.7003 179.998 Q86.5243 179.998 84.2558 179.628 Q82.0105 179.257 79.6031 178.517 L79.6031 173.818 Q81.6864 174.952 83.9086 175.507 Q86.1308 176.063 88.6077 176.063 Q92.6123 176.063 94.9502 173.957 Q97.2882 171.85 97.2882 168.239 Q97.2882 164.628 94.9502 162.521 Q92.6123 160.415 88.6077 160.415 Q86.7327 160.415 84.8577 160.832 Q83.0058 161.248 81.0614 162.128 L81.0614 144.767 Z\" fill=\"#000000\" fill-rule=\"evenodd\" fill-opacity=\"1\" /><path clip-path=\"url(#clip440)\" d=\"M111.177 173.447 L116.061 173.447 L116.061 179.327 L111.177 179.327 L111.177 173.447 Z\" fill=\"#000000\" fill-rule=\"evenodd\" fill-opacity=\"1\" /><path clip-path=\"url(#clip440)\" d=\"M136.246 147.846 Q132.635 147.846 130.807 151.41 Q129.001 154.952 129.001 162.082 Q129.001 169.188 130.807 172.753 Q132.635 176.295 136.246 176.295 Q139.881 176.295 141.686 172.753 Q143.515 169.188 143.515 162.082 Q143.515 154.952 141.686 151.41 Q139.881 147.846 136.246 147.846 M136.246 144.142 Q142.056 144.142 145.112 148.748 Q148.191 153.332 148.191 162.082 Q148.191 170.808 145.112 175.415 Q142.056 179.998 136.246 179.998 Q130.436 179.998 127.357 175.415 Q124.302 170.808 124.302 162.082 Q124.302 153.332 127.357 148.748 Q130.436 144.142 136.246 144.142 Z\" fill=\"#000000\" fill-rule=\"evenodd\" fill-opacity=\"1\" /><path clip-path=\"url(#clip440)\" d=\"M853.256 12.096 L862.046 12.096 L877.075 34.5785 L892.185 12.096 L900.975 12.096 L881.531 41.141 L902.272 72.576 L893.481 72.576 L876.467 46.8528 L859.332 72.576 L850.501 72.576 L872.092 40.2903 L853.256 12.096 Z\" fill=\"#000000\" fill-rule=\"evenodd\" fill-opacity=\"1\" /><path clip-path=\"url(#clip440)\" d=\"M904.702 12.096 L913.493 12.096 L930.263 36.9686 L946.913 12.096 L955.703 12.096 L934.314 43.7741 L934.314 72.576 L926.091 72.576 L926.091 43.7741 L904.702 12.096 Z\" fill=\"#000000\" fill-rule=\"evenodd\" fill-opacity=\"1\" /><path clip-path=\"url(#clip440)\" d=\"M971.866 18.8205 L971.866 65.8515 L981.75 65.8515 Q994.268 65.8515 1000.06 60.1802 Q1005.89 54.509 1005.89 42.2752 Q1005.89 30.1225 1000.06 24.4918 Q994.268 18.8205 981.75 18.8205 L971.866 18.8205 M963.683 12.096 L980.495 12.096 Q998.075 12.096 1006.3 19.4281 Q1014.52 26.7198 1014.52 42.2752 Q1014.52 57.9117 1006.26 65.2439 Q997.994 72.576 980.495 72.576 L963.683 72.576 L963.683 12.096 Z\" fill=\"#000000\" fill-rule=\"evenodd\" fill-opacity=\"1\" /><path clip-path=\"url(#clip440)\" d=\"M1047.86 49.7694 Q1038.83 49.7694 1035.34 51.8354 Q1031.86 53.9013 1031.86 58.8839 Q1031.86 62.8538 1034.45 65.2034 Q1037.09 67.5124 1041.58 67.5124 Q1047.78 67.5124 1051.51 63.1374 Q1055.27 58.7219 1055.27 51.4303 L1055.27 49.7694 L1047.86 49.7694 M1062.73 46.6907 L1062.73 72.576 L1055.27 72.576 L1055.27 65.6895 Q1052.72 69.8214 1048.91 71.8063 Q1045.11 73.7508 1039.6 73.7508 Q1032.63 73.7508 1028.5 69.8619 Q1024.41 65.9325 1024.41 59.3701 Q1024.41 51.7138 1029.51 47.825 Q1034.66 43.9361 1044.82 43.9361 L1055.27 43.9361 L1055.27 43.2069 Q1055.27 38.0623 1051.87 35.2672 Q1048.51 32.4315 1042.39 32.4315 Q1038.5 32.4315 1034.82 33.3632 Q1031.13 34.295 1027.73 36.1584 L1027.73 29.2718 Q1031.82 27.692 1035.67 26.9223 Q1039.52 26.1121 1043.16 26.1121 Q1053.01 26.1121 1057.87 31.2163 Q1062.73 36.3204 1062.73 46.6907 Z\" fill=\"#000000\" fill-rule=\"evenodd\" fill-opacity=\"1\" /><path clip-path=\"url(#clip440)\" d=\"M1085.45 14.324 L1085.45 27.2059 L1100.81 27.2059 L1100.81 32.9987 L1085.45 32.9987 L1085.45 57.6282 Q1085.45 63.1779 1086.95 64.7578 Q1088.49 66.3376 1093.15 66.3376 L1100.81 66.3376 L1100.81 72.576 L1093.15 72.576 Q1084.52 72.576 1081.24 69.3758 Q1077.96 66.1351 1077.96 57.6282 L1077.96 32.9987 L1072.49 32.9987 L1072.49 27.2059 L1077.96 27.2059 L1077.96 14.324 L1085.45 14.324 Z\" fill=\"#000000\" fill-rule=\"evenodd\" fill-opacity=\"1\" /><path clip-path=\"url(#clip440)\" d=\"M1131.23 49.7694 Q1122.2 49.7694 1118.71 51.8354 Q1115.23 53.9013 1115.23 58.8839 Q1115.23 62.8538 1117.82 65.2034 Q1120.45 67.5124 1124.95 67.5124 Q1131.15 67.5124 1134.87 63.1374 Q1138.64 58.7219 1138.64 51.4303 L1138.64 49.7694 L1131.23 49.7694 M1146.1 46.6907 L1146.1 72.576 L1138.64 72.576 L1138.64 65.6895 Q1136.09 69.8214 1132.28 71.8063 Q1128.47 73.7508 1122.96 73.7508 Q1116 73.7508 1111.87 69.8619 Q1107.77 65.9325 1107.77 59.3701 Q1107.77 51.7138 1112.88 47.825 Q1118.02 43.9361 1128.19 43.9361 L1138.64 43.9361 L1138.64 43.2069 Q1138.64 38.0623 1135.24 35.2672 Q1131.88 32.4315 1125.76 32.4315 Q1121.87 32.4315 1118.18 33.3632 Q1114.5 34.295 1111.1 36.1584 L1111.1 29.2718 Q1115.19 27.692 1119.04 26.9223 Q1122.88 26.1121 1126.53 26.1121 Q1136.37 26.1121 1141.23 31.2163 Q1146.1 36.3204 1146.1 46.6907 Z\" fill=\"#000000\" fill-rule=\"evenodd\" fill-opacity=\"1\" /><path clip-path=\"url(#clip440)\" d=\"M1250.77 14.0809 L1250.77 22.0612 Q1246.11 19.8332 1241.98 18.7395 Q1237.85 17.6457 1234 17.6457 Q1227.32 17.6457 1223.67 20.2383 Q1220.06 22.8309 1220.06 27.611 Q1220.06 31.6214 1222.46 33.6873 Q1224.89 35.7128 1231.61 36.9686 L1236.55 37.9813 Q1245.71 39.7232 1250.04 44.1387 Q1254.42 48.5136 1254.42 55.8863 Q1254.42 64.6767 1248.5 69.2137 Q1242.63 73.7508 1231.25 73.7508 Q1226.95 73.7508 1222.09 72.7785 Q1217.27 71.8063 1212.08 69.9024 L1212.08 61.4765 Q1217.07 64.2716 1221.85 65.6895 Q1226.63 67.1073 1231.25 67.1073 Q1238.25 67.1073 1242.06 64.3527 Q1245.87 61.598 1245.87 56.4939 Q1245.87 52.0379 1243.11 49.5264 Q1240.4 47.0148 1234.16 45.759 L1229.18 44.7868 Q1220.02 42.9639 1215.93 39.075 Q1211.84 35.1862 1211.84 28.2591 Q1211.84 20.2383 1217.47 15.6203 Q1223.14 11.0023 1233.07 11.0023 Q1237.32 11.0023 1241.74 11.7719 Q1246.15 12.5416 1250.77 14.0809 Z\" fill=\"#000000\" fill-rule=\"evenodd\" fill-opacity=\"1\" /><path clip-path=\"url(#clip440)\" d=\"M1299.5 28.9478 L1299.5 35.9153 Q1296.34 34.1734 1293.14 33.3227 Q1289.98 32.4315 1286.74 32.4315 Q1279.49 32.4315 1275.48 37.0496 Q1271.47 41.6271 1271.47 49.9314 Q1271.47 58.2358 1275.48 62.8538 Q1279.49 67.4314 1286.74 67.4314 Q1289.98 67.4314 1293.14 66.5807 Q1296.34 65.6895 1299.5 63.9476 L1299.5 70.8341 Q1296.38 72.2924 1293.02 73.0216 Q1289.7 73.7508 1285.93 73.7508 Q1275.68 73.7508 1269.65 67.3098 Q1263.61 60.8689 1263.61 49.9314 Q1263.61 38.832 1269.69 32.472 Q1275.81 26.1121 1286.42 26.1121 Q1289.86 26.1121 1293.14 26.8413 Q1296.42 27.5299 1299.5 28.9478 Z\" fill=\"#000000\" fill-rule=\"evenodd\" fill-opacity=\"1\" /><path clip-path=\"url(#clip440)\" d=\"M1333.09 49.7694 Q1324.05 49.7694 1320.57 51.8354 Q1317.08 53.9013 1317.08 58.8839 Q1317.08 62.8538 1319.68 65.2034 Q1322.31 67.5124 1326.81 67.5124 Q1333 67.5124 1336.73 63.1374 Q1340.5 58.7219 1340.5 51.4303 L1340.5 49.7694 L1333.09 49.7694 M1347.95 46.6907 L1347.95 72.576 L1340.5 72.576 L1340.5 65.6895 Q1337.95 69.8214 1334.14 71.8063 Q1330.33 73.7508 1324.82 73.7508 Q1317.85 73.7508 1313.72 69.8619 Q1309.63 65.9325 1309.63 59.3701 Q1309.63 51.7138 1314.73 47.825 Q1319.88 43.9361 1330.05 43.9361 L1340.5 43.9361 L1340.5 43.2069 Q1340.5 38.0623 1337.1 35.2672 Q1333.73 32.4315 1327.62 32.4315 Q1323.73 32.4315 1320.04 33.3632 Q1316.35 34.295 1312.95 36.1584 L1312.95 29.2718 Q1317.04 27.692 1320.89 26.9223 Q1324.74 26.1121 1328.39 26.1121 Q1338.23 26.1121 1343.09 31.2163 Q1347.95 36.3204 1347.95 46.6907 Z\" fill=\"#000000\" fill-rule=\"evenodd\" fill-opacity=\"1\" /><path clip-path=\"url(#clip440)\" d=\"M1370.68 14.324 L1370.68 27.2059 L1386.03 27.2059 L1386.03 32.9987 L1370.68 32.9987 L1370.68 57.6282 Q1370.68 63.1779 1372.18 64.7578 Q1373.72 66.3376 1378.37 66.3376 L1386.03 66.3376 L1386.03 72.576 L1378.37 72.576 Q1369.75 72.576 1366.46 69.3758 Q1363.18 66.1351 1363.18 57.6282 L1363.18 32.9987 L1357.71 32.9987 L1357.71 27.2059 L1363.18 27.2059 L1363.18 14.324 L1370.68 14.324 Z\" fill=\"#000000\" fill-rule=\"evenodd\" fill-opacity=\"1\" /><path clip-path=\"url(#clip440)\" d=\"M1403.21 14.324 L1403.21 27.2059 L1418.56 27.2059 L1418.56 32.9987 L1403.21 32.9987 L1403.21 57.6282 Q1403.21 63.1779 1404.71 64.7578 Q1406.24 66.3376 1410.9 66.3376 L1418.56 66.3376 L1418.56 72.576 L1410.9 72.576 Q1402.27 72.576 1398.99 69.3758 Q1395.71 66.1351 1395.71 57.6282 L1395.71 32.9987 L1390.24 32.9987 L1390.24 27.2059 L1395.71 27.2059 L1395.71 14.324 L1403.21 14.324 Z\" fill=\"#000000\" fill-rule=\"evenodd\" fill-opacity=\"1\" /><path clip-path=\"url(#clip440)\" d=\"M1467.17 48.0275 L1467.17 51.6733 L1432.9 51.6733 Q1433.39 59.3701 1437.52 63.421 Q1441.69 67.4314 1449.1 67.4314 Q1453.4 67.4314 1457.41 66.3781 Q1461.46 65.3249 1465.43 63.2184 L1465.43 70.267 Q1461.42 71.9684 1457.2 72.8596 Q1452.99 73.7508 1448.66 73.7508 Q1437.8 73.7508 1431.44 67.4314 Q1425.12 61.1119 1425.12 50.3365 Q1425.12 39.1965 1431.12 32.6746 Q1437.15 26.1121 1447.36 26.1121 Q1456.52 26.1121 1461.82 32.0264 Q1467.17 37.9003 1467.17 48.0275 M1459.72 45.84 Q1459.64 39.7232 1456.27 36.0774 Q1452.95 32.4315 1447.44 32.4315 Q1441.2 32.4315 1437.44 35.9558 Q1433.71 39.4801 1433.14 45.8805 L1459.72 45.84 Z\" fill=\"#000000\" fill-rule=\"evenodd\" fill-opacity=\"1\" /><path clip-path=\"url(#clip440)\" d=\"M1505.69 34.1734 Q1504.44 33.4443 1502.94 33.1202 Q1501.48 32.7556 1499.7 32.7556 Q1493.38 32.7556 1489.98 36.8875 Q1486.61 40.9789 1486.61 48.6757 L1486.61 72.576 L1479.12 72.576 L1479.12 27.2059 L1486.61 27.2059 L1486.61 34.2544 Q1488.96 30.1225 1492.73 28.1376 Q1496.5 26.1121 1501.89 26.1121 Q1502.66 26.1121 1503.59 26.2337 Q1504.52 26.3147 1505.65 26.5172 L1505.69 34.1734 Z\" fill=\"#000000\" fill-rule=\"evenodd\" fill-opacity=\"1\" /><path clip-path=\"url(#clip440)\" d=\"M1548.39 18.8205 L1548.39 41.5461 L1558.68 41.5461 Q1564.39 41.5461 1567.51 38.5889 Q1570.63 35.6318 1570.63 30.163 Q1570.63 24.7348 1567.51 21.7777 Q1564.39 18.8205 1558.68 18.8205 L1548.39 18.8205 M1540.21 12.096 L1558.68 12.096 Q1568.85 12.096 1574.03 16.714 Q1579.26 21.2916 1579.26 30.163 Q1579.26 39.1155 1574.03 43.6931 Q1568.85 48.2706 1558.68 48.2706 L1548.39 48.2706 L1548.39 72.576 L1540.21 72.576 L1540.21 12.096 Z\" fill=\"#000000\" fill-rule=\"evenodd\" fill-opacity=\"1\" /><path clip-path=\"url(#clip440)\" d=\"M1589.91 9.54393 L1597.37 9.54393 L1597.37 72.576 L1589.91 72.576 L1589.91 9.54393 Z\" fill=\"#000000\" fill-rule=\"evenodd\" fill-opacity=\"1\" /><path clip-path=\"url(#clip440)\" d=\"M1630.54 32.4315 Q1624.55 32.4315 1621.06 37.1306 Q1617.58 41.7891 1617.58 49.9314 Q1617.58 58.0738 1621.02 62.7728 Q1624.51 67.4314 1630.54 67.4314 Q1636.5 67.4314 1639.98 62.7323 Q1643.47 58.0333 1643.47 49.9314 Q1643.47 41.8701 1639.98 37.1711 Q1636.5 32.4315 1630.54 32.4315 M1630.54 26.1121 Q1640.27 26.1121 1645.82 32.4315 Q1651.36 38.7509 1651.36 49.9314 Q1651.36 61.0714 1645.82 67.4314 Q1640.27 73.7508 1630.54 73.7508 Q1620.78 73.7508 1615.23 67.4314 Q1609.72 61.0714 1609.72 49.9314 Q1609.72 38.7509 1615.23 32.4315 Q1620.78 26.1121 1630.54 26.1121 Z\" fill=\"#000000\" fill-rule=\"evenodd\" fill-opacity=\"1\" /><path clip-path=\"url(#clip440)\" d=\"M1671.09 14.324 L1671.09 27.2059 L1686.45 27.2059 L1686.45 32.9987 L1671.09 32.9987 L1671.09 57.6282 Q1671.09 63.1779 1672.59 64.7578 Q1674.13 66.3376 1678.79 66.3376 L1686.45 66.3376 L1686.45 72.576 L1678.79 72.576 Q1670.16 72.576 1666.88 69.3758 Q1663.6 66.1351 1663.6 57.6282 L1663.6 32.9987 L1658.13 32.9987 L1658.13 27.2059 L1663.6 27.2059 L1663.6 14.324 L1671.09 14.324 Z\" fill=\"#000000\" fill-rule=\"evenodd\" fill-opacity=\"1\" /><circle clip-path=\"url(#clip442)\" cx=\"245.565\" cy=\"1375.24\" r=\"14.4\" fill=\"#009af9\" fill-rule=\"evenodd\" fill-opacity=\"1\" stroke=\"#000000\" stroke-opacity=\"1\" stroke-width=\"3.2\"/>\n",
       "<circle clip-path=\"url(#clip442)\" cx=\"537.825\" cy=\"1264.95\" r=\"14.4\" fill=\"#009af9\" fill-rule=\"evenodd\" fill-opacity=\"1\" stroke=\"#000000\" stroke-opacity=\"1\" stroke-width=\"3.2\"/>\n",
       "<circle clip-path=\"url(#clip442)\" cx=\"1122.34\" cy=\"1044.37\" r=\"14.4\" fill=\"#009af9\" fill-rule=\"evenodd\" fill-opacity=\"1\" stroke=\"#000000\" stroke-opacity=\"1\" stroke-width=\"3.2\"/>\n",
       "<circle clip-path=\"url(#clip442)\" cx=\"1706.86\" cy=\"713.5\" r=\"14.4\" fill=\"#009af9\" fill-rule=\"evenodd\" fill-opacity=\"1\" stroke=\"#000000\" stroke-opacity=\"1\" stroke-width=\"3.2\"/>\n",
       "<circle clip-path=\"url(#clip442)\" cx=\"2291.38\" cy=\"162.047\" r=\"14.4\" fill=\"#009af9\" fill-rule=\"evenodd\" fill-opacity=\"1\" stroke=\"#000000\" stroke-opacity=\"1\" stroke-width=\"3.2\"/>\n",
       "<circle clip-path=\"url(#clip442)\" cx=\"245.565\" cy=\"1375.24\" r=\"14.4\" fill=\"#009af9\" fill-rule=\"evenodd\" fill-opacity=\"1\" stroke=\"#000000\" stroke-opacity=\"1\" stroke-width=\"3.2\"/>\n",
       "<polyline clip-path=\"url(#clip442)\" style=\"stroke:#e26f46; stroke-linecap:round; stroke-linejoin:round; stroke-width:4; stroke-opacity:1; fill:none\" points=\"\n",
       "  245.565,1447.87 258.885,1440.24 382.041,1369.68 456.054,1327.27 518.63,1291.42 586.605,1252.47 649.273,1216.56 716.459,1178.07 794.3,1133.47 863.477,1093.83 \n",
       "  924.138,1059.08 990.276,1021.18 1056.81,983.064 1130.36,940.918 1200.35,900.817 1273.12,859.122 1334.38,824.023 1409.17,781.172 1477.68,741.917 1540.96,705.662 \n",
       "  1605.06,668.938 1676.89,627.779 1741.98,590.483 1816.51,547.782 1885.52,508.244 1953.55,469.265 2019.6,431.419 2087.32,392.622 2161.5,350.115 2269.27,288.368 \n",
       "  2291.38,275.7 \n",
       "  \"/>\n",
       "</svg>\n"
      ]
     },
     "execution_count": 53,
     "metadata": {},
     "output_type": "execute_result"
    }
   ],
   "source": [
    "#Best Fit Line Plotted\n",
    "n = plot(d1)\n",
    "plot!(x-> fit1[1] * x + fit1[2])"
   ]
  },
  {
   "cell_type": "code",
   "execution_count": 54,
   "id": "2c75cc02-6b6f-421f-bece-ca671ab1731f",
   "metadata": {},
   "outputs": [
    {
     "data": {
      "image/svg+xml": [
       "<?xml version=\"1.0\" encoding=\"utf-8\"?>\n",
       "<svg xmlns=\"http://www.w3.org/2000/svg\" xmlns:xlink=\"http://www.w3.org/1999/xlink\" width=\"600\" height=\"400\" viewBox=\"0 0 2400 1600\">\n",
       "<defs>\n",
       "  <clipPath id=\"clip480\">\n",
       "    <rect x=\"0\" y=\"0\" width=\"2400\" height=\"1600\"/>\n",
       "  </clipPath>\n",
       "</defs>\n",
       "<path clip-path=\"url(#clip480)\" d=\"\n",
       "M0 1600 L2400 1600 L2400 0 L0 0  Z\n",
       "  \" fill=\"#ffffff\" fill-rule=\"evenodd\" fill-opacity=\"1\"/>\n",
       "<defs>\n",
       "  <clipPath id=\"clip481\">\n",
       "    <rect x=\"480\" y=\"0\" width=\"1681\" height=\"1600\"/>\n",
       "  </clipPath>\n",
       "</defs>\n",
       "<path clip-path=\"url(#clip480)\" d=\"\n",
       "M202.177 1486.45 L2352.76 1486.45 L2352.76 123.472 L202.177 123.472  Z\n",
       "  \" fill=\"#ffffff\" fill-rule=\"evenodd\" fill-opacity=\"1\"/>\n",
       "<defs>\n",
       "  <clipPath id=\"clip482\">\n",
       "    <rect x=\"202\" y=\"123\" width=\"2152\" height=\"1364\"/>\n",
       "  </clipPath>\n",
       "</defs>\n",
       "<polyline clip-path=\"url(#clip482)\" style=\"stroke:#000000; stroke-linecap:round; stroke-linejoin:round; stroke-width:2; stroke-opacity:0.1; fill:none\" points=\"\n",
       "  263.042,1486.45 263.042,123.472 \n",
       "  \"/>\n",
       "<polyline clip-path=\"url(#clip482)\" style=\"stroke:#000000; stroke-linecap:round; stroke-linejoin:round; stroke-width:2; stroke-opacity:0.1; fill:none\" points=\"\n",
       "  842.713,1486.45 842.713,123.472 \n",
       "  \"/>\n",
       "<polyline clip-path=\"url(#clip482)\" style=\"stroke:#000000; stroke-linecap:round; stroke-linejoin:round; stroke-width:2; stroke-opacity:0.1; fill:none\" points=\"\n",
       "  1422.38,1486.45 1422.38,123.472 \n",
       "  \"/>\n",
       "<polyline clip-path=\"url(#clip482)\" style=\"stroke:#000000; stroke-linecap:round; stroke-linejoin:round; stroke-width:2; stroke-opacity:0.1; fill:none\" points=\"\n",
       "  2002.05,1486.45 2002.05,123.472 \n",
       "  \"/>\n",
       "<polyline clip-path=\"url(#clip480)\" style=\"stroke:#000000; stroke-linecap:round; stroke-linejoin:round; stroke-width:4; stroke-opacity:1; fill:none\" points=\"\n",
       "  202.177,1486.45 2352.76,1486.45 \n",
       "  \"/>\n",
       "<polyline clip-path=\"url(#clip480)\" style=\"stroke:#000000; stroke-linecap:round; stroke-linejoin:round; stroke-width:4; stroke-opacity:1; fill:none\" points=\"\n",
       "  263.042,1486.45 263.042,1467.55 \n",
       "  \"/>\n",
       "<polyline clip-path=\"url(#clip480)\" style=\"stroke:#000000; stroke-linecap:round; stroke-linejoin:round; stroke-width:4; stroke-opacity:1; fill:none\" points=\"\n",
       "  842.713,1486.45 842.713,1467.55 \n",
       "  \"/>\n",
       "<polyline clip-path=\"url(#clip480)\" style=\"stroke:#000000; stroke-linecap:round; stroke-linejoin:round; stroke-width:4; stroke-opacity:1; fill:none\" points=\"\n",
       "  1422.38,1486.45 1422.38,1467.55 \n",
       "  \"/>\n",
       "<polyline clip-path=\"url(#clip480)\" style=\"stroke:#000000; stroke-linecap:round; stroke-linejoin:round; stroke-width:4; stroke-opacity:1; fill:none\" points=\"\n",
       "  2002.05,1486.45 2002.05,1467.55 \n",
       "  \"/>\n",
       "<path clip-path=\"url(#clip480)\" d=\"M257.695 1544.91 L274.014 1544.91 L274.014 1548.85 L252.07 1548.85 L252.07 1544.91 Q254.732 1542.16 259.315 1537.53 Q263.922 1532.88 265.102 1531.53 Q267.348 1529.01 268.227 1527.27 Q269.13 1525.51 269.13 1523.82 Q269.13 1521.07 267.186 1519.33 Q265.264 1517.6 262.163 1517.6 Q259.963 1517.6 257.51 1518.36 Q255.079 1519.13 252.301 1520.68 L252.301 1515.95 Q255.126 1514.82 257.579 1514.24 Q260.033 1513.66 262.07 1513.66 Q267.44 1513.66 270.635 1516.35 Q273.829 1519.03 273.829 1523.52 Q273.829 1525.65 273.019 1527.57 Q272.232 1529.47 270.125 1532.07 Q269.547 1532.74 266.445 1535.95 Q263.343 1539.15 257.695 1544.91 Z\" fill=\"#000000\" fill-rule=\"evenodd\" fill-opacity=\"1\" /><path clip-path=\"url(#clip480)\" d=\"M845.722 1518.36 L833.917 1536.81 L845.722 1536.81 L845.722 1518.36 M844.495 1514.29 L850.375 1514.29 L850.375 1536.81 L855.306 1536.81 L855.306 1540.7 L850.375 1540.7 L850.375 1548.85 L845.722 1548.85 L845.722 1540.7 L830.121 1540.7 L830.121 1536.19 L844.495 1514.29 Z\" fill=\"#000000\" fill-rule=\"evenodd\" fill-opacity=\"1\" /><path clip-path=\"url(#clip480)\" d=\"M1422.79 1529.7 Q1419.64 1529.7 1417.79 1531.86 Q1415.96 1534.01 1415.96 1537.76 Q1415.96 1541.49 1417.79 1543.66 Q1419.64 1545.82 1422.79 1545.82 Q1425.94 1545.82 1427.77 1543.66 Q1429.62 1541.49 1429.62 1537.76 Q1429.62 1534.01 1427.77 1531.86 Q1425.94 1529.7 1422.79 1529.7 M1432.07 1515.05 L1432.07 1519.31 Q1430.31 1518.48 1428.51 1518.04 Q1426.72 1517.6 1424.97 1517.6 Q1420.34 1517.6 1417.88 1520.72 Q1415.45 1523.85 1415.1 1530.17 Q1416.47 1528.15 1418.53 1527.09 Q1420.59 1526 1423.07 1526 Q1428.28 1526 1431.28 1529.17 Q1434.32 1532.32 1434.32 1537.76 Q1434.32 1543.08 1431.17 1546.3 Q1428.02 1549.52 1422.79 1549.52 Q1416.79 1549.52 1413.62 1544.94 Q1410.45 1540.33 1410.45 1531.6 Q1410.45 1523.41 1414.34 1518.55 Q1418.23 1513.66 1424.78 1513.66 Q1426.54 1513.66 1428.32 1514.01 Q1430.13 1514.36 1432.07 1515.05 Z\" fill=\"#000000\" fill-rule=\"evenodd\" fill-opacity=\"1\" /><path clip-path=\"url(#clip480)\" d=\"M2002.05 1532.44 Q1998.72 1532.44 1996.8 1534.22 Q1994.9 1536 1994.9 1539.13 Q1994.9 1542.25 1996.8 1544.03 Q1998.72 1545.82 2002.05 1545.82 Q2005.39 1545.82 2007.31 1544.03 Q2009.23 1542.23 2009.23 1539.13 Q2009.23 1536 2007.31 1534.22 Q2005.41 1532.44 2002.05 1532.44 M1997.38 1530.45 Q1994.37 1529.7 1992.68 1527.64 Q1991.01 1525.58 1991.01 1522.62 Q1991.01 1518.48 1993.95 1516.07 Q1996.92 1513.66 2002.05 1513.66 Q2007.22 1513.66 2010.16 1516.07 Q2013.1 1518.48 2013.1 1522.62 Q2013.1 1525.58 2011.41 1527.64 Q2009.74 1529.7 2006.75 1530.45 Q2010.13 1531.23 2012.01 1533.52 Q2013.91 1535.82 2013.91 1539.13 Q2013.91 1544.15 2010.83 1546.83 Q2007.77 1549.52 2002.05 1549.52 Q1996.34 1549.52 1993.26 1546.83 Q1990.2 1544.15 1990.2 1539.13 Q1990.2 1535.82 1992.1 1533.52 Q1994 1531.23 1997.38 1530.45 M1995.67 1523.06 Q1995.67 1525.75 1997.33 1527.25 Q1999.02 1528.76 2002.05 1528.76 Q2005.06 1528.76 2006.75 1527.25 Q2008.47 1525.75 2008.47 1523.06 Q2008.47 1520.38 2006.75 1518.87 Q2005.06 1517.37 2002.05 1517.37 Q1999.02 1517.37 1997.33 1518.87 Q1995.67 1520.38 1995.67 1523.06 Z\" fill=\"#000000\" fill-rule=\"evenodd\" fill-opacity=\"1\" /><polyline clip-path=\"url(#clip482)\" style=\"stroke:#000000; stroke-linecap:round; stroke-linejoin:round; stroke-width:2; stroke-opacity:0.1; fill:none\" points=\"\n",
       "  202.177,1448.51 2352.76,1448.51 \n",
       "  \"/>\n",
       "<polyline clip-path=\"url(#clip482)\" style=\"stroke:#000000; stroke-linecap:round; stroke-linejoin:round; stroke-width:2; stroke-opacity:0.1; fill:none\" points=\"\n",
       "  202.177,1130.98 2352.76,1130.98 \n",
       "  \"/>\n",
       "<polyline clip-path=\"url(#clip482)\" style=\"stroke:#000000; stroke-linecap:round; stroke-linejoin:round; stroke-width:2; stroke-opacity:0.1; fill:none\" points=\"\n",
       "  202.177,813.46 2352.76,813.46 \n",
       "  \"/>\n",
       "<polyline clip-path=\"url(#clip482)\" style=\"stroke:#000000; stroke-linecap:round; stroke-linejoin:round; stroke-width:2; stroke-opacity:0.1; fill:none\" points=\"\n",
       "  202.177,495.937 2352.76,495.937 \n",
       "  \"/>\n",
       "<polyline clip-path=\"url(#clip482)\" style=\"stroke:#000000; stroke-linecap:round; stroke-linejoin:round; stroke-width:2; stroke-opacity:0.1; fill:none\" points=\"\n",
       "  202.177,178.413 2352.76,178.413 \n",
       "  \"/>\n",
       "<polyline clip-path=\"url(#clip480)\" style=\"stroke:#000000; stroke-linecap:round; stroke-linejoin:round; stroke-width:4; stroke-opacity:1; fill:none\" points=\"\n",
       "  202.177,1486.45 202.177,123.472 \n",
       "  \"/>\n",
       "<polyline clip-path=\"url(#clip480)\" style=\"stroke:#000000; stroke-linecap:round; stroke-linejoin:round; stroke-width:4; stroke-opacity:1; fill:none\" points=\"\n",
       "  202.177,1448.51 221.074,1448.51 \n",
       "  \"/>\n",
       "<polyline clip-path=\"url(#clip480)\" style=\"stroke:#000000; stroke-linecap:round; stroke-linejoin:round; stroke-width:4; stroke-opacity:1; fill:none\" points=\"\n",
       "  202.177,1130.98 221.074,1130.98 \n",
       "  \"/>\n",
       "<polyline clip-path=\"url(#clip480)\" style=\"stroke:#000000; stroke-linecap:round; stroke-linejoin:round; stroke-width:4; stroke-opacity:1; fill:none\" points=\"\n",
       "  202.177,813.46 221.074,813.46 \n",
       "  \"/>\n",
       "<polyline clip-path=\"url(#clip480)\" style=\"stroke:#000000; stroke-linecap:round; stroke-linejoin:round; stroke-width:4; stroke-opacity:1; fill:none\" points=\"\n",
       "  202.177,495.937 221.074,495.937 \n",
       "  \"/>\n",
       "<polyline clip-path=\"url(#clip480)\" style=\"stroke:#000000; stroke-linecap:round; stroke-linejoin:round; stroke-width:4; stroke-opacity:1; fill:none\" points=\"\n",
       "  202.177,178.413 221.074,178.413 \n",
       "  \"/>\n",
       "<path clip-path=\"url(#clip480)\" d=\"M154.232 1434.31 Q150.621 1434.31 148.793 1437.87 Q146.987 1441.41 146.987 1448.54 Q146.987 1455.65 148.793 1459.21 Q150.621 1462.76 154.232 1462.76 Q157.867 1462.76 159.672 1459.21 Q161.501 1455.65 161.501 1448.54 Q161.501 1441.41 159.672 1437.87 Q157.867 1434.31 154.232 1434.31 M154.232 1430.6 Q160.042 1430.6 163.098 1435.21 Q166.177 1439.79 166.177 1448.54 Q166.177 1457.27 163.098 1461.88 Q160.042 1466.46 154.232 1466.46 Q148.422 1466.46 145.343 1461.88 Q142.288 1457.27 142.288 1448.54 Q142.288 1439.79 145.343 1435.21 Q148.422 1430.6 154.232 1430.6 Z\" fill=\"#000000\" fill-rule=\"evenodd\" fill-opacity=\"1\" /><path clip-path=\"url(#clip480)\" d=\"M57.7745 1144.33 L74.0939 1144.33 L74.0939 1148.26 L52.1495 1148.26 L52.1495 1144.33 Q54.8115 1141.57 59.3949 1136.94 Q64.0013 1132.29 65.1819 1130.95 Q67.4272 1128.43 68.3068 1126.69 Q69.2096 1124.93 69.2096 1123.24 Q69.2096 1120.49 67.2652 1118.75 Q65.3439 1117.01 62.2421 1117.01 Q60.043 1117.01 57.5893 1117.78 Q55.1588 1118.54 52.381 1120.09 L52.381 1115.37 Q55.2051 1114.24 57.6588 1113.66 Q60.1124 1113.08 62.1495 1113.08 Q67.5198 1113.08 70.7142 1115.76 Q73.9087 1118.45 73.9087 1122.94 Q73.9087 1125.07 73.0985 1126.99 Q72.3115 1128.89 70.205 1131.48 Q69.6263 1132.15 66.5245 1135.37 Q63.4226 1138.57 57.7745 1144.33 Z\" fill=\"#000000\" fill-rule=\"evenodd\" fill-opacity=\"1\" /><path clip-path=\"url(#clip480)\" d=\"M93.9086 1116.78 Q90.2975 1116.78 88.4688 1120.35 Q86.6632 1123.89 86.6632 1131.02 Q86.6632 1138.13 88.4688 1141.69 Q90.2975 1145.23 93.9086 1145.23 Q97.5428 1145.23 99.3483 1141.69 Q101.177 1138.13 101.177 1131.02 Q101.177 1123.89 99.3483 1120.35 Q97.5428 1116.78 93.9086 1116.78 M93.9086 1113.08 Q99.7187 1113.08 102.774 1117.69 Q105.853 1122.27 105.853 1131.02 Q105.853 1139.75 102.774 1144.35 Q99.7187 1148.94 93.9086 1148.94 Q88.0984 1148.94 85.0197 1144.35 Q81.9642 1139.75 81.9642 1131.02 Q81.9642 1122.27 85.0197 1117.69 Q88.0984 1113.08 93.9086 1113.08 Z\" fill=\"#000000\" fill-rule=\"evenodd\" fill-opacity=\"1\" /><path clip-path=\"url(#clip480)\" d=\"M124.07 1116.78 Q120.459 1116.78 118.631 1120.35 Q116.825 1123.89 116.825 1131.02 Q116.825 1138.13 118.631 1141.69 Q120.459 1145.23 124.07 1145.23 Q127.705 1145.23 129.51 1141.69 Q131.339 1138.13 131.339 1131.02 Q131.339 1123.89 129.51 1120.35 Q127.705 1116.78 124.07 1116.78 M124.07 1113.08 Q129.881 1113.08 132.936 1117.69 Q136.015 1122.27 136.015 1131.02 Q136.015 1139.75 132.936 1144.35 Q129.881 1148.94 124.07 1148.94 Q118.26 1148.94 115.182 1144.35 Q112.126 1139.75 112.126 1131.02 Q112.126 1122.27 115.182 1117.69 Q118.26 1113.08 124.07 1113.08 Z\" fill=\"#000000\" fill-rule=\"evenodd\" fill-opacity=\"1\" /><path clip-path=\"url(#clip480)\" d=\"M154.232 1116.78 Q150.621 1116.78 148.793 1120.35 Q146.987 1123.89 146.987 1131.02 Q146.987 1138.13 148.793 1141.69 Q150.621 1145.23 154.232 1145.23 Q157.867 1145.23 159.672 1141.69 Q161.501 1138.13 161.501 1131.02 Q161.501 1123.89 159.672 1120.35 Q157.867 1116.78 154.232 1116.78 M154.232 1113.08 Q160.042 1113.08 163.098 1117.69 Q166.177 1122.27 166.177 1131.02 Q166.177 1139.75 163.098 1144.35 Q160.042 1148.94 154.232 1148.94 Q148.422 1148.94 145.343 1144.35 Q142.288 1139.75 142.288 1131.02 Q142.288 1122.27 145.343 1117.69 Q148.422 1113.08 154.232 1113.08 Z\" fill=\"#000000\" fill-rule=\"evenodd\" fill-opacity=\"1\" /><path clip-path=\"url(#clip480)\" d=\"M66.5939 800.254 L54.7884 818.703 L66.5939 818.703 L66.5939 800.254 M65.367 796.18 L71.2466 796.18 L71.2466 818.703 L76.1772 818.703 L76.1772 822.592 L71.2466 822.592 L71.2466 830.74 L66.5939 830.74 L66.5939 822.592 L50.9921 822.592 L50.9921 818.078 L65.367 796.18 Z\" fill=\"#000000\" fill-rule=\"evenodd\" fill-opacity=\"1\" /><path clip-path=\"url(#clip480)\" d=\"M93.9086 799.259 Q90.2975 799.259 88.4688 802.824 Q86.6632 806.366 86.6632 813.495 Q86.6632 820.602 88.4688 824.166 Q90.2975 827.708 93.9086 827.708 Q97.5428 827.708 99.3483 824.166 Q101.177 820.602 101.177 813.495 Q101.177 806.366 99.3483 802.824 Q97.5428 799.259 93.9086 799.259 M93.9086 795.555 Q99.7187 795.555 102.774 800.162 Q105.853 804.745 105.853 813.495 Q105.853 822.222 102.774 826.828 Q99.7187 831.412 93.9086 831.412 Q88.0984 831.412 85.0197 826.828 Q81.9642 822.222 81.9642 813.495 Q81.9642 804.745 85.0197 800.162 Q88.0984 795.555 93.9086 795.555 Z\" fill=\"#000000\" fill-rule=\"evenodd\" fill-opacity=\"1\" /><path clip-path=\"url(#clip480)\" d=\"M124.07 799.259 Q120.459 799.259 118.631 802.824 Q116.825 806.366 116.825 813.495 Q116.825 820.602 118.631 824.166 Q120.459 827.708 124.07 827.708 Q127.705 827.708 129.51 824.166 Q131.339 820.602 131.339 813.495 Q131.339 806.366 129.51 802.824 Q127.705 799.259 124.07 799.259 M124.07 795.555 Q129.881 795.555 132.936 800.162 Q136.015 804.745 136.015 813.495 Q136.015 822.222 132.936 826.828 Q129.881 831.412 124.07 831.412 Q118.26 831.412 115.182 826.828 Q112.126 822.222 112.126 813.495 Q112.126 804.745 115.182 800.162 Q118.26 795.555 124.07 795.555 Z\" fill=\"#000000\" fill-rule=\"evenodd\" fill-opacity=\"1\" /><path clip-path=\"url(#clip480)\" d=\"M154.232 799.259 Q150.621 799.259 148.793 802.824 Q146.987 806.366 146.987 813.495 Q146.987 820.602 148.793 824.166 Q150.621 827.708 154.232 827.708 Q157.867 827.708 159.672 824.166 Q161.501 820.602 161.501 813.495 Q161.501 806.366 159.672 802.824 Q157.867 799.259 154.232 799.259 M154.232 795.555 Q160.042 795.555 163.098 800.162 Q166.177 804.745 166.177 813.495 Q166.177 822.222 163.098 826.828 Q160.042 831.412 154.232 831.412 Q148.422 831.412 145.343 826.828 Q142.288 822.222 142.288 813.495 Q142.288 804.745 145.343 800.162 Q148.422 795.555 154.232 795.555 Z\" fill=\"#000000\" fill-rule=\"evenodd\" fill-opacity=\"1\" /><path clip-path=\"url(#clip480)\" d=\"M64.3254 494.073 Q61.1773 494.073 59.3254 496.226 Q57.4967 498.379 57.4967 502.129 Q57.4967 505.855 59.3254 508.031 Q61.1773 510.184 64.3254 510.184 Q67.4735 510.184 69.3022 508.031 Q71.1541 505.855 71.1541 502.129 Q71.1541 498.379 69.3022 496.226 Q67.4735 494.073 64.3254 494.073 M73.6077 479.42 L73.6077 483.68 Q71.8485 482.846 70.0429 482.407 Q68.2606 481.967 66.5013 481.967 Q61.8717 481.967 59.418 485.092 Q56.9875 488.217 56.6402 494.536 Q58.006 492.522 60.0662 491.457 Q62.1263 490.369 64.6032 490.369 Q69.8115 490.369 72.8207 493.541 Q75.8531 496.689 75.8531 502.129 Q75.8531 507.453 72.705 510.67 Q69.5568 513.888 64.3254 513.888 Q58.33 513.888 55.1588 509.305 Q51.9875 504.698 51.9875 495.971 Q51.9875 487.777 55.8764 482.916 Q59.7652 478.032 66.3161 478.032 Q68.0754 478.032 69.8578 478.379 Q71.6633 478.726 73.6077 479.42 Z\" fill=\"#000000\" fill-rule=\"evenodd\" fill-opacity=\"1\" /><path clip-path=\"url(#clip480)\" d=\"M93.9086 481.735 Q90.2975 481.735 88.4688 485.3 Q86.6632 488.842 86.6632 495.971 Q86.6632 503.078 88.4688 506.643 Q90.2975 510.184 93.9086 510.184 Q97.5428 510.184 99.3483 506.643 Q101.177 503.078 101.177 495.971 Q101.177 488.842 99.3483 485.3 Q97.5428 481.735 93.9086 481.735 M93.9086 478.032 Q99.7187 478.032 102.774 482.638 Q105.853 487.221 105.853 495.971 Q105.853 504.698 102.774 509.305 Q99.7187 513.888 93.9086 513.888 Q88.0984 513.888 85.0197 509.305 Q81.9642 504.698 81.9642 495.971 Q81.9642 487.221 85.0197 482.638 Q88.0984 478.032 93.9086 478.032 Z\" fill=\"#000000\" fill-rule=\"evenodd\" fill-opacity=\"1\" /><path clip-path=\"url(#clip480)\" d=\"M124.07 481.735 Q120.459 481.735 118.631 485.3 Q116.825 488.842 116.825 495.971 Q116.825 503.078 118.631 506.643 Q120.459 510.184 124.07 510.184 Q127.705 510.184 129.51 506.643 Q131.339 503.078 131.339 495.971 Q131.339 488.842 129.51 485.3 Q127.705 481.735 124.07 481.735 M124.07 478.032 Q129.881 478.032 132.936 482.638 Q136.015 487.221 136.015 495.971 Q136.015 504.698 132.936 509.305 Q129.881 513.888 124.07 513.888 Q118.26 513.888 115.182 509.305 Q112.126 504.698 112.126 495.971 Q112.126 487.221 115.182 482.638 Q118.26 478.032 124.07 478.032 Z\" fill=\"#000000\" fill-rule=\"evenodd\" fill-opacity=\"1\" /><path clip-path=\"url(#clip480)\" d=\"M154.232 481.735 Q150.621 481.735 148.793 485.3 Q146.987 488.842 146.987 495.971 Q146.987 503.078 148.793 506.643 Q150.621 510.184 154.232 510.184 Q157.867 510.184 159.672 506.643 Q161.501 503.078 161.501 495.971 Q161.501 488.842 159.672 485.3 Q157.867 481.735 154.232 481.735 M154.232 478.032 Q160.042 478.032 163.098 482.638 Q166.177 487.221 166.177 495.971 Q166.177 504.698 163.098 509.305 Q160.042 513.888 154.232 513.888 Q148.422 513.888 145.343 509.305 Q142.288 504.698 142.288 495.971 Q142.288 487.221 145.343 482.638 Q148.422 478.032 154.232 478.032 Z\" fill=\"#000000\" fill-rule=\"evenodd\" fill-opacity=\"1\" /><path clip-path=\"url(#clip480)\" d=\"M63.7467 179.281 Q60.4134 179.281 58.4921 181.063 Q56.5939 182.846 56.5939 185.971 Q56.5939 189.096 58.4921 190.878 Q60.4134 192.66 63.7467 192.66 Q67.08 192.66 69.0013 190.878 Q70.9226 189.072 70.9226 185.971 Q70.9226 182.846 69.0013 181.063 Q67.1032 179.281 63.7467 179.281 M59.0708 177.29 Q56.0615 176.549 54.3717 174.489 Q52.7051 172.429 52.7051 169.466 Q52.7051 165.323 55.6449 162.915 Q58.6078 160.508 63.7467 160.508 Q68.9087 160.508 71.8485 162.915 Q74.7883 165.323 74.7883 169.466 Q74.7883 172.429 73.0985 174.489 Q71.4318 176.549 68.4457 177.29 Q71.8253 178.077 73.7003 180.369 Q75.5985 182.66 75.5985 185.971 Q75.5985 190.994 72.5198 193.679 Q69.4642 196.364 63.7467 196.364 Q58.0291 196.364 54.9504 193.679 Q51.8949 190.994 51.8949 185.971 Q51.8949 182.66 53.793 180.369 Q55.6912 178.077 59.0708 177.29 M57.3578 169.906 Q57.3578 172.591 59.0245 174.096 Q60.7143 175.6 63.7467 175.6 Q66.7559 175.6 68.4457 174.096 Q70.1587 172.591 70.1587 169.906 Q70.1587 167.221 68.4457 165.716 Q66.7559 164.211 63.7467 164.211 Q60.7143 164.211 59.0245 165.716 Q57.3578 167.221 57.3578 169.906 Z\" fill=\"#000000\" fill-rule=\"evenodd\" fill-opacity=\"1\" /><path clip-path=\"url(#clip480)\" d=\"M93.9086 164.211 Q90.2975 164.211 88.4688 167.776 Q86.6632 171.318 86.6632 178.447 Q86.6632 185.554 88.4688 189.119 Q90.2975 192.66 93.9086 192.66 Q97.5428 192.66 99.3483 189.119 Q101.177 185.554 101.177 178.447 Q101.177 171.318 99.3483 167.776 Q97.5428 164.211 93.9086 164.211 M93.9086 160.508 Q99.7187 160.508 102.774 165.114 Q105.853 169.697 105.853 178.447 Q105.853 187.174 102.774 191.781 Q99.7187 196.364 93.9086 196.364 Q88.0984 196.364 85.0197 191.781 Q81.9642 187.174 81.9642 178.447 Q81.9642 169.697 85.0197 165.114 Q88.0984 160.508 93.9086 160.508 Z\" fill=\"#000000\" fill-rule=\"evenodd\" fill-opacity=\"1\" /><path clip-path=\"url(#clip480)\" d=\"M124.07 164.211 Q120.459 164.211 118.631 167.776 Q116.825 171.318 116.825 178.447 Q116.825 185.554 118.631 189.119 Q120.459 192.66 124.07 192.66 Q127.705 192.66 129.51 189.119 Q131.339 185.554 131.339 178.447 Q131.339 171.318 129.51 167.776 Q127.705 164.211 124.07 164.211 M124.07 160.508 Q129.881 160.508 132.936 165.114 Q136.015 169.697 136.015 178.447 Q136.015 187.174 132.936 191.781 Q129.881 196.364 124.07 196.364 Q118.26 196.364 115.182 191.781 Q112.126 187.174 112.126 178.447 Q112.126 169.697 115.182 165.114 Q118.26 160.508 124.07 160.508 Z\" fill=\"#000000\" fill-rule=\"evenodd\" fill-opacity=\"1\" /><path clip-path=\"url(#clip480)\" d=\"M154.232 164.211 Q150.621 164.211 148.793 167.776 Q146.987 171.318 146.987 178.447 Q146.987 185.554 148.793 189.119 Q150.621 192.66 154.232 192.66 Q157.867 192.66 159.672 189.119 Q161.501 185.554 161.501 178.447 Q161.501 171.318 159.672 167.776 Q157.867 164.211 154.232 164.211 M154.232 160.508 Q160.042 160.508 163.098 165.114 Q166.177 169.697 166.177 178.447 Q166.177 187.174 163.098 191.781 Q160.042 196.364 154.232 196.364 Q148.422 196.364 145.343 191.781 Q142.288 187.174 142.288 178.447 Q142.288 169.697 145.343 165.114 Q148.422 160.508 154.232 160.508 Z\" fill=\"#000000\" fill-rule=\"evenodd\" fill-opacity=\"1\" /><path clip-path=\"url(#clip480)\" d=\"M862.249 12.096 L871.039 12.096 L886.068 34.5785 L901.178 12.096 L909.968 12.096 L890.524 41.141 L911.265 72.576 L902.474 72.576 L885.46 46.8528 L868.325 72.576 L859.494 72.576 L881.085 40.2903 L862.249 12.096 Z\" fill=\"#000000\" fill-rule=\"evenodd\" fill-opacity=\"1\" /><path clip-path=\"url(#clip480)\" d=\"M913.695 12.096 L922.486 12.096 L939.256 36.9686 L955.906 12.096 L964.696 12.096 L943.307 43.7741 L943.307 72.576 L935.084 72.576 L935.084 43.7741 L913.695 12.096 Z\" fill=\"#000000\" fill-rule=\"evenodd\" fill-opacity=\"1\" /><path clip-path=\"url(#clip480)\" d=\"M980.859 18.8205 L980.859 65.8515 L990.743 65.8515 Q1003.26 65.8515 1009.05 60.1802 Q1014.89 54.509 1014.89 42.2752 Q1014.89 30.1225 1009.05 24.4918 Q1003.26 18.8205 990.743 18.8205 L980.859 18.8205 M972.676 12.096 L989.488 12.096 Q1007.07 12.096 1015.29 19.4281 Q1023.52 26.7198 1023.52 42.2752 Q1023.52 57.9117 1015.25 65.2439 Q1006.99 72.576 989.488 72.576 L972.676 72.576 L972.676 12.096 Z\" fill=\"#000000\" fill-rule=\"evenodd\" fill-opacity=\"1\" /><path clip-path=\"url(#clip480)\" d=\"M1056.85 49.7694 Q1047.82 49.7694 1044.34 51.8354 Q1040.85 53.9013 1040.85 58.8839 Q1040.85 62.8538 1043.45 65.2034 Q1046.08 67.5124 1050.58 67.5124 Q1056.77 67.5124 1060.5 63.1374 Q1064.27 58.7219 1064.27 51.4303 L1064.27 49.7694 L1056.85 49.7694 M1071.72 46.6907 L1071.72 72.576 L1064.27 72.576 L1064.27 65.6895 Q1061.72 69.8214 1057.91 71.8063 Q1054.1 73.7508 1048.59 73.7508 Q1041.62 73.7508 1037.49 69.8619 Q1033.4 65.9325 1033.4 59.3701 Q1033.4 51.7138 1038.5 47.825 Q1043.65 43.9361 1053.82 43.9361 L1064.27 43.9361 L1064.27 43.2069 Q1064.27 38.0623 1060.86 35.2672 Q1057.5 32.4315 1051.39 32.4315 Q1047.5 32.4315 1043.81 33.3632 Q1040.12 34.295 1036.72 36.1584 L1036.72 29.2718 Q1040.81 27.692 1044.66 26.9223 Q1048.51 26.1121 1052.16 26.1121 Q1062 26.1121 1066.86 31.2163 Q1071.72 36.3204 1071.72 46.6907 Z\" fill=\"#000000\" fill-rule=\"evenodd\" fill-opacity=\"1\" /><path clip-path=\"url(#clip480)\" d=\"M1094.45 14.324 L1094.45 27.2059 L1109.8 27.2059 L1109.8 32.9987 L1094.45 32.9987 L1094.45 57.6282 Q1094.45 63.1779 1095.95 64.7578 Q1097.48 66.3376 1102.14 66.3376 L1109.8 66.3376 L1109.8 72.576 L1102.14 72.576 Q1093.51 72.576 1090.23 69.3758 Q1086.95 66.1351 1086.95 57.6282 L1086.95 32.9987 L1081.48 32.9987 L1081.48 27.2059 L1086.95 27.2059 L1086.95 14.324 L1094.45 14.324 Z\" fill=\"#000000\" fill-rule=\"evenodd\" fill-opacity=\"1\" /><path clip-path=\"url(#clip480)\" d=\"M1140.22 49.7694 Q1131.19 49.7694 1127.7 51.8354 Q1124.22 53.9013 1124.22 58.8839 Q1124.22 62.8538 1126.81 65.2034 Q1129.45 67.5124 1133.94 67.5124 Q1140.14 67.5124 1143.87 63.1374 Q1147.63 58.7219 1147.63 51.4303 L1147.63 49.7694 L1140.22 49.7694 M1155.09 46.6907 L1155.09 72.576 L1147.63 72.576 L1147.63 65.6895 Q1145.08 69.8214 1141.27 71.8063 Q1137.47 73.7508 1131.96 73.7508 Q1124.99 73.7508 1120.86 69.8619 Q1116.77 65.9325 1116.77 59.3701 Q1116.77 51.7138 1121.87 47.825 Q1127.02 43.9361 1137.18 43.9361 L1147.63 43.9361 L1147.63 43.2069 Q1147.63 38.0623 1144.23 35.2672 Q1140.87 32.4315 1134.75 32.4315 Q1130.86 32.4315 1127.18 33.3632 Q1123.49 34.295 1120.09 36.1584 L1120.09 29.2718 Q1124.18 27.692 1128.03 26.9223 Q1131.88 26.1121 1135.52 26.1121 Q1145.37 26.1121 1150.23 31.2163 Q1155.09 36.3204 1155.09 46.6907 Z\" fill=\"#000000\" fill-rule=\"evenodd\" fill-opacity=\"1\" /><path clip-path=\"url(#clip480)\" d=\"M1259.76 14.0809 L1259.76 22.0612 Q1255.11 19.8332 1250.97 18.7395 Q1246.84 17.6457 1242.99 17.6457 Q1236.31 17.6457 1232.66 20.2383 Q1229.06 22.8309 1229.06 27.611 Q1229.06 31.6214 1231.45 33.6873 Q1233.88 35.7128 1240.6 36.9686 L1245.55 37.9813 Q1254.7 39.7232 1259.03 44.1387 Q1263.41 48.5136 1263.41 55.8863 Q1263.41 64.6767 1257.5 69.2137 Q1251.62 73.7508 1240.24 73.7508 Q1235.94 73.7508 1231.08 72.7785 Q1226.26 71.8063 1221.08 69.9024 L1221.08 61.4765 Q1226.06 64.2716 1230.84 65.6895 Q1235.62 67.1073 1240.24 67.1073 Q1247.25 67.1073 1251.05 64.3527 Q1254.86 61.598 1254.86 56.4939 Q1254.86 52.0379 1252.11 49.5264 Q1249.39 47.0148 1243.16 45.759 L1238.17 44.7868 Q1229.02 42.9639 1224.93 39.075 Q1220.83 35.1862 1220.83 28.2591 Q1220.83 20.2383 1226.47 15.6203 Q1232.14 11.0023 1242.06 11.0023 Q1246.31 11.0023 1250.73 11.7719 Q1255.15 12.5416 1259.76 14.0809 Z\" fill=\"#000000\" fill-rule=\"evenodd\" fill-opacity=\"1\" /><path clip-path=\"url(#clip480)\" d=\"M1308.5 28.9478 L1308.5 35.9153 Q1305.34 34.1734 1302.14 33.3227 Q1298.98 32.4315 1295.74 32.4315 Q1288.48 32.4315 1284.47 37.0496 Q1280.46 41.6271 1280.46 49.9314 Q1280.46 58.2358 1284.47 62.8538 Q1288.48 67.4314 1295.74 67.4314 Q1298.98 67.4314 1302.14 66.5807 Q1305.34 65.6895 1308.5 63.9476 L1308.5 70.8341 Q1305.38 72.2924 1302.01 73.0216 Q1298.69 73.7508 1294.93 73.7508 Q1284.68 73.7508 1278.64 67.3098 Q1272.61 60.8689 1272.61 49.9314 Q1272.61 38.832 1278.68 32.472 Q1284.8 26.1121 1295.41 26.1121 Q1298.86 26.1121 1302.14 26.8413 Q1305.42 27.5299 1308.5 28.9478 Z\" fill=\"#000000\" fill-rule=\"evenodd\" fill-opacity=\"1\" /><path clip-path=\"url(#clip480)\" d=\"M1342.08 49.7694 Q1333.04 49.7694 1329.56 51.8354 Q1326.08 53.9013 1326.08 58.8839 Q1326.08 62.8538 1328.67 65.2034 Q1331.3 67.5124 1335.8 67.5124 Q1342 67.5124 1345.72 63.1374 Q1349.49 58.7219 1349.49 51.4303 L1349.49 49.7694 L1342.08 49.7694 M1356.95 46.6907 L1356.95 72.576 L1349.49 72.576 L1349.49 65.6895 Q1346.94 69.8214 1343.13 71.8063 Q1339.32 73.7508 1333.81 73.7508 Q1326.85 73.7508 1322.71 69.8619 Q1318.62 65.9325 1318.62 59.3701 Q1318.62 51.7138 1323.73 47.825 Q1328.87 43.9361 1339.04 43.9361 L1349.49 43.9361 L1349.49 43.2069 Q1349.49 38.0623 1346.09 35.2672 Q1342.73 32.4315 1336.61 32.4315 Q1332.72 32.4315 1329.03 33.3632 Q1325.35 34.295 1321.95 36.1584 L1321.95 29.2718 Q1326.04 27.692 1329.89 26.9223 Q1333.73 26.1121 1337.38 26.1121 Q1347.22 26.1121 1352.08 31.2163 Q1356.95 36.3204 1356.95 46.6907 Z\" fill=\"#000000\" fill-rule=\"evenodd\" fill-opacity=\"1\" /><path clip-path=\"url(#clip480)\" d=\"M1379.67 14.324 L1379.67 27.2059 L1395.02 27.2059 L1395.02 32.9987 L1379.67 32.9987 L1379.67 57.6282 Q1379.67 63.1779 1381.17 64.7578 Q1382.71 66.3376 1387.37 66.3376 L1395.02 66.3376 L1395.02 72.576 L1387.37 72.576 Q1378.74 72.576 1375.46 69.3758 Q1372.18 66.1351 1372.18 57.6282 L1372.18 32.9987 L1366.71 32.9987 L1366.71 27.2059 L1372.18 27.2059 L1372.18 14.324 L1379.67 14.324 Z\" fill=\"#000000\" fill-rule=\"evenodd\" fill-opacity=\"1\" /><path clip-path=\"url(#clip480)\" d=\"M1412.2 14.324 L1412.2 27.2059 L1427.55 27.2059 L1427.55 32.9987 L1412.2 32.9987 L1412.2 57.6282 Q1412.2 63.1779 1413.7 64.7578 Q1415.24 66.3376 1419.9 66.3376 L1427.55 66.3376 L1427.55 72.576 L1419.9 72.576 Q1411.27 72.576 1407.99 69.3758 Q1404.71 66.1351 1404.71 57.6282 L1404.71 32.9987 L1399.24 32.9987 L1399.24 27.2059 L1404.71 27.2059 L1404.71 14.324 L1412.2 14.324 Z\" fill=\"#000000\" fill-rule=\"evenodd\" fill-opacity=\"1\" /><path clip-path=\"url(#clip480)\" d=\"M1476.16 48.0275 L1476.16 51.6733 L1441.89 51.6733 Q1442.38 59.3701 1446.51 63.421 Q1450.68 67.4314 1458.1 67.4314 Q1462.39 67.4314 1466.4 66.3781 Q1470.45 65.3249 1474.42 63.2184 L1474.42 70.267 Q1470.41 71.9684 1466.2 72.8596 Q1461.98 73.7508 1457.65 73.7508 Q1446.79 73.7508 1440.43 67.4314 Q1434.11 61.1119 1434.11 50.3365 Q1434.11 39.1965 1440.11 32.6746 Q1446.15 26.1121 1456.35 26.1121 Q1465.51 26.1121 1470.82 32.0264 Q1476.16 37.9003 1476.16 48.0275 M1468.71 45.84 Q1468.63 39.7232 1465.27 36.0774 Q1461.94 32.4315 1456.44 32.4315 Q1450.2 32.4315 1446.43 35.9558 Q1442.7 39.4801 1442.14 45.8805 L1468.71 45.84 Z\" fill=\"#000000\" fill-rule=\"evenodd\" fill-opacity=\"1\" /><path clip-path=\"url(#clip480)\" d=\"M1514.69 34.1734 Q1513.43 33.4443 1511.93 33.1202 Q1510.47 32.7556 1508.69 32.7556 Q1502.37 32.7556 1498.97 36.8875 Q1495.61 40.9789 1495.61 48.6757 L1495.61 72.576 L1488.11 72.576 L1488.11 27.2059 L1495.61 27.2059 L1495.61 34.2544 Q1497.96 30.1225 1501.72 28.1376 Q1505.49 26.1121 1510.88 26.1121 Q1511.65 26.1121 1512.58 26.2337 Q1513.51 26.3147 1514.65 26.5172 L1514.69 34.1734 Z\" fill=\"#000000\" fill-rule=\"evenodd\" fill-opacity=\"1\" /><path clip-path=\"url(#clip480)\" d=\"M1557.38 18.8205 L1557.38 41.5461 L1567.67 41.5461 Q1573.38 41.5461 1576.5 38.5889 Q1579.62 35.6318 1579.62 30.163 Q1579.62 24.7348 1576.5 21.7777 Q1573.38 18.8205 1567.67 18.8205 L1557.38 18.8205 M1549.2 12.096 L1567.67 12.096 Q1577.84 12.096 1583.03 16.714 Q1588.25 21.2916 1588.25 30.163 Q1588.25 39.1155 1583.03 43.6931 Q1577.84 48.2706 1567.67 48.2706 L1557.38 48.2706 L1557.38 72.576 L1549.2 72.576 L1549.2 12.096 Z\" fill=\"#000000\" fill-rule=\"evenodd\" fill-opacity=\"1\" /><path clip-path=\"url(#clip480)\" d=\"M1598.91 9.54393 L1606.36 9.54393 L1606.36 72.576 L1598.91 72.576 L1598.91 9.54393 Z\" fill=\"#000000\" fill-rule=\"evenodd\" fill-opacity=\"1\" /><path clip-path=\"url(#clip480)\" d=\"M1639.54 32.4315 Q1633.54 32.4315 1630.06 37.1306 Q1626.57 41.7891 1626.57 49.9314 Q1626.57 58.0738 1630.02 62.7728 Q1633.5 67.4314 1639.54 67.4314 Q1645.49 67.4314 1648.97 62.7323 Q1652.46 58.0333 1652.46 49.9314 Q1652.46 41.8701 1648.97 37.1711 Q1645.49 32.4315 1639.54 32.4315 M1639.54 26.1121 Q1649.26 26.1121 1654.81 32.4315 Q1660.36 38.7509 1660.36 49.9314 Q1660.36 61.0714 1654.81 67.4314 Q1649.26 73.7508 1639.54 73.7508 Q1629.77 73.7508 1624.22 67.4314 Q1618.71 61.0714 1618.71 49.9314 Q1618.71 38.7509 1624.22 32.4315 Q1629.77 26.1121 1639.54 26.1121 Z\" fill=\"#000000\" fill-rule=\"evenodd\" fill-opacity=\"1\" /><path clip-path=\"url(#clip480)\" d=\"M1680.09 14.324 L1680.09 27.2059 L1695.44 27.2059 L1695.44 32.9987 L1680.09 32.9987 L1680.09 57.6282 Q1680.09 63.1779 1681.58 64.7578 Q1683.12 66.3376 1687.78 66.3376 L1695.44 66.3376 L1695.44 72.576 L1687.78 72.576 Q1679.15 72.576 1675.87 69.3758 Q1672.59 66.1351 1672.59 57.6282 L1672.59 32.9987 L1667.12 32.9987 L1667.12 27.2059 L1672.59 27.2059 L1672.59 14.324 L1680.09 14.324 Z\" fill=\"#000000\" fill-rule=\"evenodd\" fill-opacity=\"1\" /><circle clip-path=\"url(#clip482)\" cx=\"263.042\" cy=\"1447.87\" r=\"14.4\" fill=\"#009af9\" fill-rule=\"evenodd\" fill-opacity=\"1\" stroke=\"#000000\" stroke-opacity=\"1\" stroke-width=\"3.2\"/>\n",
       "<circle clip-path=\"url(#clip482)\" cx=\"552.878\" cy=\"1447.71\" r=\"14.4\" fill=\"#009af9\" fill-rule=\"evenodd\" fill-opacity=\"1\" stroke=\"#000000\" stroke-opacity=\"1\" stroke-width=\"3.2\"/>\n",
       "<circle clip-path=\"url(#clip482)\" cx=\"1132.55\" cy=\"1447.4\" r=\"14.4\" fill=\"#009af9\" fill-rule=\"evenodd\" fill-opacity=\"1\" stroke=\"#000000\" stroke-opacity=\"1\" stroke-width=\"3.2\"/>\n",
       "<circle clip-path=\"url(#clip482)\" cx=\"1712.22\" cy=\"1446.92\" r=\"14.4\" fill=\"#009af9\" fill-rule=\"evenodd\" fill-opacity=\"1\" stroke=\"#000000\" stroke-opacity=\"1\" stroke-width=\"3.2\"/>\n",
       "<circle clip-path=\"url(#clip482)\" cx=\"2291.89\" cy=\"1446.13\" r=\"14.4\" fill=\"#009af9\" fill-rule=\"evenodd\" fill-opacity=\"1\" stroke=\"#000000\" stroke-opacity=\"1\" stroke-width=\"3.2\"/>\n",
       "<circle clip-path=\"url(#clip482)\" cx=\"263.042\" cy=\"1447.87\" r=\"14.4\" fill=\"#009af9\" fill-rule=\"evenodd\" fill-opacity=\"1\" stroke=\"#000000\" stroke-opacity=\"1\" stroke-width=\"3.2\"/>\n",
       "<polyline clip-path=\"url(#clip482)\" style=\"stroke:#e26f46; stroke-linecap:round; stroke-linejoin:round; stroke-width:4; stroke-opacity:1; fill:none\" points=\"\n",
       "  263.042,1447.34 276.251,1447.28 398.387,1446.64 471.785,1446.1 533.842,1445.52 601.254,1444.74 663.401,1443.84 730.03,1442.63 807.226,1440.84 875.829,1438.79 \n",
       "  935.987,1436.55 1001.58,1433.51 1067.55,1429.68 1140.5,1424.29 1209.91,1417.74 1282.08,1409.04 1342.83,1399.83 1379.91,1393.19 1417,1385.64 1450.97,1377.82 \n",
       "  1484.94,1369.03 1516.32,1359.94 1547.69,1349.82 1579.48,1338.38 1611.26,1325.62 1646.88,1309.55 1682.5,1291.37 1714.77,1272.86 1747.05,1252.17 1765.53,1239.25 \n",
       "  1784,1225.47 1802.48,1210.79 1820.96,1195.14 1838.07,1179.74 1855.18,1163.4 1872.28,1146.06 1889.39,1127.67 1906.26,1108.44 1923.13,1088.07 1939.99,1066.47 \n",
       "  1956.86,1043.58 1973.24,1020.04 1989.61,995.132 2005.99,968.777 2022.37,940.891 2039.15,910.621 2055.94,878.545 2072.73,844.557 2089.52,808.542 2107.91,766.614 \n",
       "  2126.3,721.938 2135.5,698.514 2144.7,674.335 2153.89,649.377 2163.09,623.613 2176.45,584.701 2189.81,543.954 2203.17,501.284 2216.53,456.602 2229.89,409.812 \n",
       "  2243.25,360.814 2256.61,309.506 2269.96,255.777 2275.45,233.005 2280.93,209.798 2286.41,186.148 2291.89,162.047 \n",
       "  \"/>\n",
       "</svg>\n"
      ]
     },
     "execution_count": 54,
     "metadata": {},
     "output_type": "execute_result"
    }
   ],
   "source": [
    "#Best Exponential Line Plotted\n",
    "n1 = plot(d1)\n",
    "plot!(x-> fit2[1] * exp(x*fit2[2]) + fit2[3])"
   ]
  },
  {
   "cell_type": "markdown",
   "id": "a5fc6fee-55de-4cbe-a649-b1e058de7e87",
   "metadata": {},
   "source": [
    "5. Develop a test suite for this module and test the different constructor methods as well as for any errors that\n",
    "may be thrown."
   ]
  },
  {
   "cell_type": "code",
   "execution_count": 25,
   "id": "b205ee82-b85b-402b-985c-81846fb01f2c",
   "metadata": {},
   "outputs": [],
   "source": [
    "using LinearAlgebra"
   ]
  },
  {
   "cell_type": "code",
   "execution_count": 45,
   "id": "3cba93ee-b3e0-4124-b7a2-a6014d5ce7b7",
   "metadata": {},
   "outputs": [],
   "source": [
    "using Revise"
   ]
  },
  {
   "cell_type": "code",
   "execution_count": 26,
   "id": "4774108a-9a17-4006-8368-a433822ae257",
   "metadata": {},
   "outputs": [
    {
     "name": "stdout",
     "output_type": "stream",
     "text": [
      "\u001b[0m\u001b[1mTest Summary: | \u001b[22m\u001b[32m\u001b[1mPass  \u001b[22m\u001b[39m\u001b[36m\u001b[1mTotal  \u001b[22m\u001b[39m\u001b[0m\u001b[1mTime\u001b[22m\n",
      "Legal Point2D | \u001b[32m   2  \u001b[39m\u001b[36m    2  \u001b[39m\u001b[0m0.5s\n",
      "\u001b[0m\u001b[1mTest Summary: | \u001b[22m\u001b[32m\u001b[1mPass  \u001b[22m\u001b[39m\u001b[36m\u001b[1mTotal  \u001b[22m\u001b[39m\u001b[0m\u001b[1mTime\u001b[22m\n",
      "Legal XYData  | \u001b[32m   2  \u001b[39m\u001b[36m    2  \u001b[39m\u001b[0m0.0s\n",
      "\u001b[0m\u001b[1mTest Summary:      | \u001b[22m\u001b[32m\u001b[1mPass  \u001b[22m\u001b[39m\u001b[36m\u001b[1mTotal  \u001b[22m\u001b[39m\u001b[0m\u001b[1mTime\u001b[22m\n",
      "legal XYData Tuple | \u001b[32m   1  \u001b[39m\u001b[36m    1  \u001b[39m\u001b[0m0.0s\n",
      "\u001b[0m\u001b[1mTest Summary:      | \u001b[22m\u001b[32m\u001b[1mPass  \u001b[22m\u001b[39m\u001b[36m\u001b[1mTotal  \u001b[22m\u001b[39m\u001b[0m\u001b[1mTime\u001b[22m\n",
      "Legal XYData Types | \u001b[32m   2  \u001b[39m\u001b[36m    2  \u001b[39m\u001b[0m0.1s\n"
     ]
    }
   ],
   "source": [
    "include(\"TestSuiteStage1.jl\");"
   ]
  },
  {
   "cell_type": "markdown",
   "id": "d6fef42a-13fa-4a9f-ae7b-74b97822ad6d",
   "metadata": {},
   "source": [
    "6. Add documentation for all constructors and functions in the module."
   ]
  },
  {
   "cell_type": "markdown",
   "id": "e1a141b3-8d84-43da-a95a-0145e06a7ca6",
   "metadata": {},
   "source": [
    "# Stage 2"
   ]
  },
  {
   "cell_type": "markdown",
   "id": "65981c4f-1f2c-455e-b50f-59a791d66b52",
   "metadata": {},
   "source": [
    "1. Enter the gradientDescentBB functions from the textbook. Add them to your module."
   ]
  },
  {
   "cell_type": "code",
   "execution_count": 47,
   "id": "9714da7b-65d2-4b71-8557-d0faa7cbed08",
   "metadata": {},
   "outputs": [
    {
     "data": {
      "text/plain": [
       "gradientDescentBB (generic function with 1 method)"
      ]
     },
     "execution_count": 47,
     "metadata": {},
     "output_type": "execute_result"
    }
   ],
   "source": [
    "function gradientDescentBB(f::Function,x₀::Vector; max_steps = 100)\n",
    "  local steps = 0\n",
    "  local ∇f₀ = ForwardDiff.gradient(f,x₀)\n",
    "  local x₁ = x₀ - 0.25 * ∇f₀ # need to start with a value for x₁\n",
    "  while norm(∇f₀)> 1e-4 && steps < max_steps\n",
    "    ∇f₁ = ForwardDiff.gradient(f,x₁)\n",
    "    Δ∇f = ∇f₁-∇f₀\n",
    "    x₂ = x₁ - abs(dot(x₁-x₀,Δ∇f))/norm(Δ∇f)^2*∇f₁\n",
    "    x₀ = x₁\n",
    "    x₁ = x₂\n",
    "    ∇f₀ = ∇f₁\n",
    "    steps += 1\n",
    "  end\n",
    "  @show steps\n",
    "  steps < max_steps || throw(ErrorException(\"The number of steps has exceeded $max_steps\"))\n",
    "  x₁\n",
    "end\n"
   ]
  },
  {
   "cell_type": "markdown",
   "id": "73662616-4fdb-4850-8dc0-b9204bde9cc9",
   "metadata": {},
   "source": [
    "2. Write a function called bestFitLine that minimizes equation (1) for a given set of data using the Barzilai–Borwein gradient descent code in problem #1. The only input should be a XYData object and should return a\n",
    "named tuple or a new datatype. Add the function to your module."
   ]
  },
  {
   "cell_type": "code",
   "execution_count": 48,
   "id": "17240bf5-8425-4444-8fe6-8143a569804e",
   "metadata": {},
   "outputs": [],
   "source": [
    "using ForwardDiff"
   ]
  },
  {
   "cell_type": "code",
   "execution_count": 27,
   "id": "2ac1ee8e-423c-4fa5-baa6-b0f988e902b5",
   "metadata": {},
   "outputs": [
    {
     "data": {
      "text/plain": [
       "f (generic function with 1 method)"
      ]
     },
     "execution_count": 27,
     "metadata": {},
     "output_type": "execute_result"
    }
   ],
   "source": [
    "f(x) = x[1]^2+x[2]^2"
   ]
  },
  {
   "cell_type": "code",
   "execution_count": 28,
   "id": "c6adbb71-5c44-4b90-871b-c38bd2e12c2c",
   "metadata": {},
   "outputs": [
    {
     "name": "stdout",
     "output_type": "stream",
     "text": [
      "steps = 2\n"
     ]
    },
    {
     "data": {
      "text/plain": [
       "2-element Vector{Float64}:\n",
       " 0.0\n",
       " 0.0"
      ]
     },
     "execution_count": 28,
     "metadata": {},
     "output_type": "execute_result"
    }
   ],
   "source": [
    "gradientDescentBB(f,[1,2])"
   ]
  },
  {
   "cell_type": "code",
   "execution_count": 29,
   "id": "dddb3ca2-1d52-45b6-b8b7-689aa0405baf",
   "metadata": {},
   "outputs": [
    {
     "data": {
      "text/plain": [
       "bestFitLine (generic function with 1 method)"
      ]
     },
     "execution_count": 29,
     "metadata": {},
     "output_type": "execute_result"
    }
   ],
   "source": [
    "function bestFitLine(data::XYData)\n",
    "    function S(c) \n",
    "        a=c[1]\n",
    "        b=c[2]\n",
    "        sum(pt->(a*pt.x+b-pt.y)^2,data.vertices)\n",
    "    end\n",
    "    gradientDescentBB(S,[1,2])\n",
    "end"
   ]
  },
  {
   "cell_type": "code",
   "execution_count": 30,
   "id": "be4d3a49-aed5-4692-b266-26230ce39096",
   "metadata": {},
   "outputs": [
    {
     "name": "stdout",
     "output_type": "stream",
     "text": [
      "steps = 5\n"
     ]
    },
    {
     "data": {
      "text/plain": [
       "2-element Vector{Float64}:\n",
       " 1.5182926751961423\n",
       " 0.3048780475772454"
      ]
     },
     "execution_count": 30,
     "metadata": {},
     "output_type": "execute_result"
    }
   ],
   "source": [
    "bestFitLine(d1)"
   ]
  },
  {
   "cell_type": "code",
   "execution_count": 28,
   "id": "f9fd2f63-e845-41df-8321-8fd770bc2ecd",
   "metadata": {},
   "outputs": [],
   "source": [
    "using JuMP, Ipopt"
   ]
  },
  {
   "cell_type": "code",
   "execution_count": 37,
   "id": "a5c8ccff-e0ed-4ded-b0be-96199e751ca0",
   "metadata": {},
   "outputs": [
    {
     "data": {
      "text/plain": [
       "bestExponentialFit (generic function with 1 method)"
      ]
     },
     "execution_count": 37,
     "metadata": {},
     "output_type": "execute_result"
    }
   ],
   "source": [
    "function bestExponentialFit(data::XYData)\n",
    "\n",
    "model = Model(Ipopt.Optimizer)\n",
    "set_optimizer_attribute(model,\"print_level\",5) # this can be level 1 through 12.  1 minimal.\n",
    "@variable(model, a, start = 0.0)\n",
    "@variable(model, b, start = 0.0)\n",
    "@variable(model, c, start = 0.0)\n",
    "\n",
    "@NLobjective(model, Min, (1 - a)^2 + 100 * (b - a^2)^2)\n",
    "\n",
    "optimize!(model)\n",
    "@show value(a),value(b), value(c)\n",
    "    \n",
    "#gradientDescentBB(S,[1,2,3])\n",
    "end"
   ]
  },
  {
   "cell_type": "code",
   "execution_count": 58,
   "id": "b76ae7c2-7c73-493c-8cdc-35f0a299dcbe",
   "metadata": {},
   "outputs": [
    {
     "name": "stdout",
     "output_type": "stream",
     "text": [
      "This is Ipopt version 3.14.4, running with linear solver MUMPS 5.4.1.\n",
      "\n",
      "Number of nonzeros in equality constraint Jacobian...:        0\n",
      "Number of nonzeros in inequality constraint Jacobian.:        0\n",
      "Number of nonzeros in Lagrangian Hessian.............:        3\n",
      "\n",
      "Total number of variables............................:        3\n",
      "                     variables with only lower bounds:        0\n",
      "                variables with lower and upper bounds:        0\n",
      "                     variables with only upper bounds:        0\n",
      "Total number of equality constraints.................:        0\n",
      "Total number of inequality constraints...............:        0\n",
      "        inequality constraints with only lower bounds:        0\n",
      "   inequality constraints with lower and upper bounds:        0\n",
      "        inequality constraints with only upper bounds:        0\n",
      "\n",
      "iter    objective    inf_pr   inf_du lg(mu)  ||d||  lg(rg) alpha_du alpha_pr  ls\n",
      "   0  1.0000000e+00 0.00e+00 2.00e+00  -1.0 0.00e+00    -  0.00e+00 0.00e+00   0\n",
      "   1  9.5306563e-01 0.00e+00 1.25e+01  -1.0 1.00e+00  -4.0 1.00e+00 2.50e-01f  3\n",
      "   2  4.8321520e-01 0.00e+00 1.01e+00  -1.0 9.03e-02  -4.5 1.00e+00 1.00e+00f  1\n",
      "   3  4.5704486e-01 0.00e+00 9.53e+00  -1.0 4.29e-01  -5.0 1.00e+00 5.00e-01f  2\n",
      "   4  1.8895564e-01 0.00e+00 4.16e-01  -1.0 9.51e-02  -5.4 1.00e+00 1.00e+00f  1\n",
      "   5  1.3918730e-01 0.00e+00 6.50e+00  -1.7 3.49e-01  -5.9 1.00e+00 5.00e-01f  2\n",
      "   6  5.4949330e-02 0.00e+00 4.51e-01  -1.7 9.29e-02  -6.4 1.00e+00 1.00e+00f  1\n",
      "   7  2.9150744e-02 0.00e+00 2.27e+00  -1.7 2.49e-01  -6.9 1.00e+00 5.00e-01f  2\n",
      "   8  9.8616289e-03 0.00e+00 1.16e+00  -1.7 1.10e-01  -7.3 1.00e+00 1.00e+00f  1\n",
      "   9  2.3246659e-03 0.00e+00 1.00e+00  -1.7 1.00e-01  -7.8 1.00e+00 1.00e+00f  1\n",
      "iter    objective    inf_pr   inf_du lg(mu)  ||d||  lg(rg) alpha_du alpha_pr  ls\n",
      "  10  2.3813894e-04 0.00e+00 2.19e-01  -1.7 5.09e-02  -8.3 1.00e+00 1.00e+00f  1\n",
      "  11  4.9331530e-06 0.00e+00 5.95e-02  -1.7 2.53e-02  -8.8 1.00e+00 1.00e+00f  1\n",
      "  12  2.8266021e-09 0.00e+00 8.33e-04  -2.5 3.20e-03  -9.2 1.00e+00 1.00e+00f  1\n",
      "  13  1.0150662e-15 0.00e+00 8.70e-07  -5.7 9.79e-05  -9.7 1.00e+00 1.00e+00f  1\n",
      "  14  1.4644463e-28 0.00e+00 2.46e-13  -8.6 4.67e-08 -10.2 1.00e+00 1.00e+00f  1\n",
      "\n",
      "Number of Iterations....: 14\n",
      "\n",
      "                                   (scaled)                 (unscaled)\n",
      "Objective...............:   1.4644463148329439e-28    1.4644463148329439e-28\n",
      "Dual infeasibility......:   2.4624746686185704e-13    2.4624746686185704e-13\n",
      "Constraint violation....:   0.0000000000000000e+00    0.0000000000000000e+00\n",
      "Variable bound violation:   0.0000000000000000e+00    0.0000000000000000e+00\n",
      "Complementarity.........:   0.0000000000000000e+00    0.0000000000000000e+00\n",
      "Overall NLP error.......:   2.4624746686185704e-13    2.4624746686185704e-13\n",
      "\n",
      "\n",
      "Number of objective function evaluations             = 36\n",
      "Number of objective gradient evaluations             = 15\n",
      "Number of equality constraint evaluations            = 0\n",
      "Number of inequality constraint evaluations          = 0\n",
      "Number of equality constraint Jacobian evaluations   = 0\n",
      "Number of inequality constraint Jacobian evaluations = 0\n",
      "Number of Lagrangian Hessian evaluations             = 14\n",
      "Total seconds in IPOPT                               = 0.012\n",
      "\n",
      "EXIT: Optimal Solution Found.\n",
      "(value(a), value(b), value(c)) = (0.9999999999999899, 0.9999999999999791, 0.0)\n"
     ]
    },
    {
     "data": {
      "text/plain": [
       "(0.9999999999999899, 0.9999999999999791, 0.0)"
      ]
     },
     "execution_count": 58,
     "metadata": {},
     "output_type": "execute_result"
    }
   ],
   "source": [
    "bestExponentialFit(d1)"
   ]
  },
  {
   "cell_type": "code",
   "execution_count": null,
   "id": "52a5fca2-3bf5-41e3-97d3-8ed3dcd0a036",
   "metadata": {},
   "outputs": [],
   "source": []
  }
 ],
 "metadata": {
  "kernelspec": {
   "display_name": "Julia 1.8.1",
   "language": "julia",
   "name": "julia-1.8"
  },
  "language_info": {
   "file_extension": ".jl",
   "mimetype": "application/julia",
   "name": "julia",
   "version": "1.8.1"
  }
 },
 "nbformat": 4,
 "nbformat_minor": 5
}
