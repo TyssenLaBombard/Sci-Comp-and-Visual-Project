{
 "cells": [
  {
   "cell_type": "markdown",
   "id": "0b66cebb-d62b-44a5-bbee-45052f884234",
   "metadata": {},
   "source": [
    "#### STAGE1 Project\n",
    "#### Alex Phoummalayvane\n",
    "#### Fitting Curves to Data Project"
   ]
  },
  {
   "cell_type": "markdown",
   "id": "e1c49b66-efe1-415e-b05a-3ccec1b1c5c4",
   "metadata": {},
   "source": [
    "1. Copy the Point2D struct from your homework and Chapter 17a into your module. This should be parametric\n",
    "like was discussed in Chapter 17a. That is it should have a single type and if the two points that are passed in\n",
    "are different types, you need to convert."
   ]
  },
  {
   "cell_type": "code",
   "execution_count": 320,
   "id": "3257afab-7de9-48aa-9c42-c0b1ce60e7bd",
   "metadata": {},
   "outputs": [],
   "source": [
    "mutable struct Point2D{T <: Real}\n",
    "    x::T\n",
    "    y::T\n",
    "end"
   ]
  },
  {
   "cell_type": "code",
   "execution_count": 321,
   "id": "b0db13eb-de36-40eb-a308-0b35a486cca6",
   "metadata": {},
   "outputs": [],
   "source": [
    "#method to write the point in standard form\n",
    "Base.show(io::IO, pt::Point2D) = print(io, string(\"(\", pt.x,\",\", pt.y, \")\"))"
   ]
  },
  {
   "cell_type": "code",
   "execution_count": 322,
   "id": "e2e9c328-2b1d-4047-937a-bee949ac5414",
   "metadata": {},
   "outputs": [
    {
     "data": {
      "text/plain": [
       "(1,4)"
      ]
     },
     "execution_count": 322,
     "metadata": {},
     "output_type": "execute_result"
    }
   ],
   "source": [
    "point2D_test = Point2D(1, 4)"
   ]
  },
  {
   "cell_type": "code",
   "execution_count": 323,
   "id": "e497e93b-6a74-4ea4-809a-d7a2d19c5552",
   "metadata": {},
   "outputs": [
    {
     "data": {
      "text/plain": [
       "Point2D"
      ]
     },
     "execution_count": 323,
     "metadata": {},
     "output_type": "execute_result"
    }
   ],
   "source": [
    "#this is to make x and y points of the Point2D object to be the same type if they are different\n",
    "Point2D(x::Real, y::Real) = Point2D(promote(x,y)...)"
   ]
  },
  {
   "cell_type": "code",
   "execution_count": 324,
   "id": "1291eae4-46b5-4714-9356-7f4c080be293",
   "metadata": {},
   "outputs": [
    {
     "data": {
      "text/plain": [
       "(1.0,4.0)"
      ]
     },
     "execution_count": 324,
     "metadata": {},
     "output_type": "execute_result"
    }
   ],
   "source": [
    "point2D_test = Point2D(1, 4.0)"
   ]
  },
  {
   "cell_type": "code",
   "execution_count": 259,
   "id": "409de866-c2aa-4dc2-896b-29ff087a7044",
   "metadata": {},
   "outputs": [
    {
     "data": {
      "text/plain": [
       "(1.4,4.0)"
      ]
     },
     "execution_count": 325,
     "metadata": {},
     "output_type": "execute_result"
    }
   ],
   "source": [
    "point2D_test = Point2D(1.4, 4.0)"
   ]
  },
  {
   "cell_type": "markdown",
   "id": "a464c192-c706-4e92-ab5a-49b07dc54099",
   "metadata": {},
   "source": [
    "2. Create a new data type called XYData that stores a vector Point2D objects from your homework. You should\n",
    "do this parametrically and the types of data for x and y should be the same and a subset of Real.\n"
   ]
  },
  {
   "cell_type": "code",
   "execution_count": 310,
   "id": "53e9714c-4f01-43d2-8165-e3628277cdea",
   "metadata": {
    "tags": []
   },
   "outputs": [
    {
     "ename": "LoadError",
     "evalue": "syntax: invalid identifier name \"...\"",
     "output_type": "error",
     "traceback": [
      "syntax: invalid identifier name \"...\"",
      "",
      "Stacktrace:",
      " [1] top-level scope",
      "   @ In[328]:15",
      " [2] eval",
      "   @ .\\boot.jl:368 [inlined]",
      " [3] include_string(mapexpr::typeof(REPL.softscope), mod::Module, code::String, filename::String)",
      "   @ Base .\\loading.jl:1428"
     ]
    }
   ],
   "source": [
    "mutable struct XYData\n",
    "    #stores vector of Point2D objects\n",
    "    vertices::Vector{Point2D{T}} where T <: Real\n",
    "    \n",
    "    #constructor to take vector of xpts and vector of ypts\n",
    "    function XYData(xpts::Vector{T}, ypts::Vector{T}) where T <: Real \n",
    "        #throws errow if xpts and ypts are diff size \n",
    "        length(xpts) == length(ypts)  || throw(ArgumentError(\"The x and y vectors are not the same size\"))\n",
    "        new(map((x,y) -> Point2D(x,y), xpts, ypts))\n",
    "    end \n",
    "    \n",
    "    #constructor to take vector of tuples\n",
    "    #stil trying to get this to work and tried alot. \n",
    "    function XYData(tups::Vector{Tuple{T,T}}) where T <: Real\n",
    "        new(map((Tuple) -> Point2D(Tuple{T,T}), tups))\n",
    "    end \n",
    "    \n",
    "    #Create a constructor that creates a new XYData object from two vectors of the same length but different types (like integers and floats).\n",
    "    function XYData(xpts::Vector{T}, ypts::Vector{S}) where {T <: Real, S <:Real}\n",
    "        \n",
    "    #throws errow if xpts and ypts are diff size \n",
    "    length(xpts) == length(ypts)  || throw(ArgumentError(\"The x and y vectors are not the same size\"))\n",
    "    new(map((x,y) -> Point2D(x,y), xpts, ypts))\n",
    "    end\n",
    "    \n",
    "\n",
    "     \n",
    "end\n",
    "\n",
    "\n",
    "\n",
    "#https://docs.julialang.org/en/v1/manual/constructors/\n",
    "    "
   ]
  },
  {
   "cell_type": "code",
   "execution_count": 312,
   "id": "a9bd77c0-ffd2-4b08-8b13-993bd4690e63",
   "metadata": {
    "tags": []
   },
   "outputs": [
    {
     "ename": "LoadError",
     "evalue": "TypeError: in Type{...} expression, expected UnionAll, got a value of type Tuple{Int64, Int64}",
     "output_type": "error",
     "traceback": [
      "TypeError: in Type{...} expression, expected UnionAll, got a value of type Tuple{Int64, Int64}",
      "",
      "Stacktrace:",
      " [1] (::var\"#468#471\"{Int64})(Tuple::Tuple{Int64, Int64})",
      "   @ Main .\\In[326]:15",
      " [2] iterate",
      "   @ .\\generator.jl:47 [inlined]",
      " [3] _collect",
      "   @ .\\array.jl:807 [inlined]",
      " [4] collect_similar",
      "   @ .\\array.jl:716 [inlined]",
      " [5] map",
      "   @ .\\abstractarray.jl:2933 [inlined]",
      " [6] XYData(tups::Vector{Tuple{Int64, Int64}})",
      "   @ Main .\\In[326]:15",
      " [7] top-level scope",
      "   @ In[329]:2",
      " [8] eval",
      "   @ .\\boot.jl:368 [inlined]",
      " [9] include_string(mapexpr::typeof(REPL.softscope), mod::Module, code::String, filename::String)",
      "   @ Base .\\loading.jl:1428"
     ]
    }
   ],
   "source": [
    "#this is working. Trying to  create vector of tuples and there is problem with the constructor\n",
    "test_vectorTuples = XYData([(1,2), (4,2), (6,7)])"
   ]
  },
  {
   "cell_type": "code",
   "execution_count": 158,
   "id": "3d635bf4-29b3-4821-a527-99719b267b14",
   "metadata": {},
   "outputs": [
    {
     "data": {
      "text/plain": [
       "4-element Vector{Float64}:\n",
       " 3.1\n",
       " 3.2\n",
       " 0.0\n",
       " 0.1"
      ]
     },
     "execution_count": 158,
     "metadata": {},
     "output_type": "execute_result"
    }
   ],
   "source": [
    "vector_ypts_floats = [3.1, 3.2, 0.0, 0.1]"
   ]
  },
  {
   "cell_type": "code",
   "execution_count": 157,
   "id": "0232f18a-1480-4bea-bfa8-55fc16c8101a",
   "metadata": {},
   "outputs": [
    {
     "data": {
      "text/plain": [
       "4-element Vector{Int64}:\n",
       " 0\n",
       " 4\n",
       " 4\n",
       " 0"
      ]
     },
     "execution_count": 157,
     "metadata": {},
     "output_type": "execute_result"
    }
   ],
   "source": [
    "vector_xpts_ints = [0, 4, 4, 0]"
   ]
  },
  {
   "cell_type": "code",
   "execution_count": 159,
   "id": "2d172e3e-7036-4315-a27d-3edaa0743013",
   "metadata": {},
   "outputs": [
    {
     "data": {
      "text/plain": [
       "[(0.0,3.1),(4.0,3.2),(4.0,0.0),(0.0,0.1)]"
      ]
     },
     "execution_count": 159,
     "metadata": {},
     "output_type": "execute_result"
    }
   ],
   "source": [
    "#test for constructing XYData object from two vectors of same length but diff type\n",
    "vector_diff_types = XYData(vector_xpts_ints, vector_ypts_floats)"
   ]
  },
  {
   "cell_type": "code",
   "execution_count": 38,
   "id": "e9e9a5fa-b368-448c-92f4-6562f0664f9b",
   "metadata": {},
   "outputs": [
    {
     "data": {
      "text/plain": [
       "3-element Vector{Int64}:\n",
       "  6\n",
       " 25\n",
       " 54"
      ]
     },
     "execution_count": 38,
     "metadata": {},
     "output_type": "execute_result"
    }
   ],
   "source": [
    "#example professor gave\n",
    "map((i,j)->i*j, [2, 5, 6], [3,5,9])"
   ]
  },
  {
   "cell_type": "code",
   "execution_count": 142,
   "id": "45ac5acd-13fa-449a-bb9a-da9fde21ce04",
   "metadata": {},
   "outputs": [
    {
     "data": {
      "text/plain": [
       "4-element Vector{Int64}:\n",
       " 0\n",
       " 4\n",
       " 4\n",
       " 0"
      ]
     },
     "execution_count": 142,
     "metadata": {},
     "output_type": "execute_result"
    }
   ],
   "source": [
    "vector_xpts = [0, 4, 4, 0]"
   ]
  },
  {
   "cell_type": "code",
   "execution_count": 143,
   "id": "159c3a5d-c05b-4bf7-b80a-9aba6a5e303c",
   "metadata": {},
   "outputs": [
    {
     "data": {
      "text/plain": [
       "4-element Vector{Int64}:\n",
       " 3\n",
       " 3\n",
       " 0\n",
       " 0"
      ]
     },
     "execution_count": 143,
     "metadata": {},
     "output_type": "execute_result"
    }
   ],
   "source": [
    "vector_ypts = [3, 3, 0, 0]"
   ]
  },
  {
   "cell_type": "code",
   "execution_count": 144,
   "id": "94a39467-cee7-43b5-8f8a-1a34c3e70a43",
   "metadata": {},
   "outputs": [
    {
     "data": {
      "text/plain": [
       "[(0,3),(4,3),(4,0),(0,0)]"
      ]
     },
     "execution_count": 144,
     "metadata": {},
     "output_type": "execute_result"
    }
   ],
   "source": [
    "plot_test = XYData(vector_xpts, vector_ypts)"
   ]
  },
  {
   "cell_type": "code",
   "execution_count": 26,
   "id": "44315045-5da0-4b15-8aa4-bb9a870e09ad",
   "metadata": {},
   "outputs": [],
   "source": [
    "using RecipesBase, Plots"
   ]
  },
  {
   "cell_type": "markdown",
   "id": "f71fc520-5c56-4049-9c11-dfd3cb362b91",
   "metadata": {},
   "source": [
    "2a. Create a default inner constructor that takes a vector of Point2D objects.\n"
   ]
  },
  {
   "cell_type": "markdown",
   "id": "addf077d-3e08-41b6-ab82-eea970176ac1",
   "metadata": {},
   "source": [
    "2b. Create a constructor that creates a new XYData object from two vectors of reals of the same length (each\n",
    "vector should be the same subtype of real)."
   ]
  },
  {
   "cell_type": "markdown",
   "id": "f77fa832-b9cc-4cf2-9e08-565d1f36c9dd",
   "metadata": {},
   "source": [
    "2c. Create a constructor that creates a new XYData object from a vector of tuples. Consider tuples of the\n",
    "same and different types.\n"
   ]
  },
  {
   "cell_type": "markdown",
   "id": "9d9169f8-aca0-44b4-bf6c-2e44a2788aa4",
   "metadata": {},
   "source": [
    "2d. Create a constructor that creates a new XYData object from two vectors of the same length but different\n",
    "types (like integers and floats)."
   ]
  },
  {
   "cell_type": "markdown",
   "id": "fee82093-8643-4ec0-aa30-0072a583c1b4",
   "metadata": {
    "tags": []
   },
   "source": [
    "2e. Create a Base.show function that prints out the XYData in a nice way."
   ]
  },
  {
   "cell_type": "code",
   "execution_count": 17,
   "id": "9449cb27-d842-442c-8ccb-e4754987a0ba",
   "metadata": {},
   "outputs": [],
   "source": [
    "Base.show(io::IO, n::XYData) = print(io, string(\"[\",join(n.vertices, \",\"),\"]\"))"
   ]
  },
  {
   "cell_type": "markdown",
   "id": "82696785-737a-4457-94cd-9d09f2f179a0",
   "metadata": {},
   "source": [
    "3.  Use a RecipesBase to develop a plot recipe for plotting XYData. Test it.\n"
   ]
  },
  {
   "cell_type": "code",
   "execution_count": 18,
   "id": "f42c0832-50ad-48b7-9058-35e60dd15f0b",
   "metadata": {},
   "outputs": [],
   "source": [
    "@recipe function f(n::XYData)\n",
    "    legend --> false\n",
    "    linecolor --> :orange \n",
    "    title --> \"XYData Plot\"\n",
    "    lw --> 3 #change line width\n",
    "    \n",
    "    xpts = map(pt->pt.x, n.vertices)\n",
    "    ypts = map(pt->pt.y, n.vertices)\n",
    "    \n",
    "    \n",
    "    push!(xpts, n.vertices[1].x)\n",
    "    push!(ypts, n.vertices[1].y)\n",
    "return \n",
    "    xpts, ypts\n",
    "end"
   ]
  },
  {
   "cell_type": "code",
   "execution_count": 19,
   "id": "d70673f7-3415-4f67-b828-4a67170e82fd",
   "metadata": {},
   "outputs": [
    {
     "data": {
      "image/svg+xml": [
       "<?xml version=\"1.0\" encoding=\"utf-8\"?>\n",
       "<svg xmlns=\"http://www.w3.org/2000/svg\" xmlns:xlink=\"http://www.w3.org/1999/xlink\" width=\"600\" height=\"400\" viewBox=\"0 0 2400 1600\">\n",
       "<defs>\n",
       "  <clipPath id=\"clip980\">\n",
       "    <rect x=\"0\" y=\"0\" width=\"2400\" height=\"1600\"/>\n",
       "  </clipPath>\n",
       "</defs>\n",
       "<path clip-path=\"url(#clip980)\" d=\"\n",
       "M0 1600 L2400 1600 L2400 0 L0 0  Z\n",
       "  \" fill=\"#ffffff\" fill-rule=\"evenodd\" fill-opacity=\"1\"/>\n",
       "<defs>\n",
       "  <clipPath id=\"clip981\">\n",
       "    <rect x=\"480\" y=\"0\" width=\"1681\" height=\"1600\"/>\n",
       "  </clipPath>\n",
       "</defs>\n",
       "<path clip-path=\"url(#clip980)\" d=\"\n",
       "M110.881 1486.45 L2352.76 1486.45 L2352.76 123.472 L110.881 123.472  Z\n",
       "  \" fill=\"#ffffff\" fill-rule=\"evenodd\" fill-opacity=\"1\"/>\n",
       "<defs>\n",
       "  <clipPath id=\"clip982\">\n",
       "    <rect x=\"110\" y=\"123\" width=\"2243\" height=\"1364\"/>\n",
       "  </clipPath>\n",
       "</defs>\n",
       "<polyline clip-path=\"url(#clip982)\" style=\"stroke:#000000; stroke-linecap:round; stroke-linejoin:round; stroke-width:2; stroke-opacity:0.1; fill:none\" points=\"\n",
       "  174.33,1486.45 174.33,123.472 \n",
       "  \"/>\n",
       "<polyline clip-path=\"url(#clip982)\" style=\"stroke:#000000; stroke-linecap:round; stroke-linejoin:round; stroke-width:2; stroke-opacity:0.1; fill:none\" points=\"\n",
       "  703.074,1486.45 703.074,123.472 \n",
       "  \"/>\n",
       "<polyline clip-path=\"url(#clip982)\" style=\"stroke:#000000; stroke-linecap:round; stroke-linejoin:round; stroke-width:2; stroke-opacity:0.1; fill:none\" points=\"\n",
       "  1231.82,1486.45 1231.82,123.472 \n",
       "  \"/>\n",
       "<polyline clip-path=\"url(#clip982)\" style=\"stroke:#000000; stroke-linecap:round; stroke-linejoin:round; stroke-width:2; stroke-opacity:0.1; fill:none\" points=\"\n",
       "  1760.56,1486.45 1760.56,123.472 \n",
       "  \"/>\n",
       "<polyline clip-path=\"url(#clip982)\" style=\"stroke:#000000; stroke-linecap:round; stroke-linejoin:round; stroke-width:2; stroke-opacity:0.1; fill:none\" points=\"\n",
       "  2289.31,1486.45 2289.31,123.472 \n",
       "  \"/>\n",
       "<polyline clip-path=\"url(#clip980)\" style=\"stroke:#000000; stroke-linecap:round; stroke-linejoin:round; stroke-width:4; stroke-opacity:1; fill:none\" points=\"\n",
       "  110.881,1486.45 2352.76,1486.45 \n",
       "  \"/>\n",
       "<polyline clip-path=\"url(#clip980)\" style=\"stroke:#000000; stroke-linecap:round; stroke-linejoin:round; stroke-width:4; stroke-opacity:1; fill:none\" points=\"\n",
       "  174.33,1486.45 174.33,1467.55 \n",
       "  \"/>\n",
       "<polyline clip-path=\"url(#clip980)\" style=\"stroke:#000000; stroke-linecap:round; stroke-linejoin:round; stroke-width:4; stroke-opacity:1; fill:none\" points=\"\n",
       "  703.074,1486.45 703.074,1467.55 \n",
       "  \"/>\n",
       "<polyline clip-path=\"url(#clip980)\" style=\"stroke:#000000; stroke-linecap:round; stroke-linejoin:round; stroke-width:4; stroke-opacity:1; fill:none\" points=\"\n",
       "  1231.82,1486.45 1231.82,1467.55 \n",
       "  \"/>\n",
       "<polyline clip-path=\"url(#clip980)\" style=\"stroke:#000000; stroke-linecap:round; stroke-linejoin:round; stroke-width:4; stroke-opacity:1; fill:none\" points=\"\n",
       "  1760.56,1486.45 1760.56,1467.55 \n",
       "  \"/>\n",
       "<polyline clip-path=\"url(#clip980)\" style=\"stroke:#000000; stroke-linecap:round; stroke-linejoin:round; stroke-width:4; stroke-opacity:1; fill:none\" points=\"\n",
       "  2289.31,1486.45 2289.31,1467.55 \n",
       "  \"/>\n",
       "<path clip-path=\"url(#clip980)\" d=\"M174.33 1517.37 Q170.719 1517.37 168.89 1520.93 Q167.085 1524.47 167.085 1531.6 Q167.085 1538.71 168.89 1542.27 Q170.719 1545.82 174.33 1545.82 Q177.964 1545.82 179.77 1542.27 Q181.599 1538.71 181.599 1531.6 Q181.599 1524.47 179.77 1520.93 Q177.964 1517.37 174.33 1517.37 M174.33 1513.66 Q180.14 1513.66 183.196 1518.27 Q186.275 1522.85 186.275 1531.6 Q186.275 1540.33 183.196 1544.94 Q180.14 1549.52 174.33 1549.52 Q168.52 1549.52 165.441 1544.94 Q162.386 1540.33 162.386 1531.6 Q162.386 1522.85 165.441 1518.27 Q168.52 1513.66 174.33 1513.66 Z\" fill=\"#000000\" fill-rule=\"evenodd\" fill-opacity=\"1\" /><path clip-path=\"url(#clip980)\" d=\"M693.456 1544.91 L701.095 1544.91 L701.095 1518.55 L692.785 1520.21 L692.785 1515.95 L701.049 1514.29 L705.725 1514.29 L705.725 1544.91 L713.364 1544.91 L713.364 1548.85 L693.456 1548.85 L693.456 1544.91 Z\" fill=\"#000000\" fill-rule=\"evenodd\" fill-opacity=\"1\" /><path clip-path=\"url(#clip980)\" d=\"M1226.47 1544.91 L1242.79 1544.91 L1242.79 1548.85 L1220.85 1548.85 L1220.85 1544.91 Q1223.51 1542.16 1228.09 1537.53 Q1232.7 1532.88 1233.88 1531.53 Q1236.12 1529.01 1237 1527.27 Q1237.91 1525.51 1237.91 1523.82 Q1237.91 1521.07 1235.96 1519.33 Q1234.04 1517.6 1230.94 1517.6 Q1228.74 1517.6 1226.29 1518.36 Q1223.86 1519.13 1221.08 1520.68 L1221.08 1515.95 Q1223.9 1514.82 1226.36 1514.24 Q1228.81 1513.66 1230.85 1513.66 Q1236.22 1513.66 1239.41 1516.35 Q1242.61 1519.03 1242.61 1523.52 Q1242.61 1525.65 1241.8 1527.57 Q1241.01 1529.47 1238.9 1532.07 Q1238.32 1532.74 1235.22 1535.95 Q1232.12 1539.15 1226.47 1544.91 Z\" fill=\"#000000\" fill-rule=\"evenodd\" fill-opacity=\"1\" /><path clip-path=\"url(#clip980)\" d=\"M1764.81 1530.21 Q1768.17 1530.93 1770.04 1533.2 Q1771.94 1535.47 1771.94 1538.8 Q1771.94 1543.92 1768.42 1546.72 Q1764.9 1549.52 1758.42 1549.52 Q1756.25 1549.52 1753.93 1549.08 Q1751.64 1548.66 1749.19 1547.81 L1749.19 1543.29 Q1751.13 1544.43 1753.44 1545.01 Q1755.76 1545.58 1758.28 1545.58 Q1762.68 1545.58 1764.97 1543.85 Q1767.29 1542.11 1767.29 1538.8 Q1767.29 1535.75 1765.13 1534.03 Q1763 1532.3 1759.19 1532.3 L1755.16 1532.3 L1755.16 1528.45 L1759.37 1528.45 Q1762.82 1528.45 1764.65 1527.09 Q1766.48 1525.7 1766.48 1523.11 Q1766.48 1520.45 1764.58 1519.03 Q1762.7 1517.6 1759.19 1517.6 Q1757.26 1517.6 1755.06 1518.01 Q1752.87 1518.43 1750.23 1519.31 L1750.23 1515.14 Q1752.89 1514.4 1755.2 1514.03 Q1757.54 1513.66 1759.6 1513.66 Q1764.93 1513.66 1768.03 1516.09 Q1771.13 1518.5 1771.13 1522.62 Q1771.13 1525.49 1769.49 1527.48 Q1767.84 1529.45 1764.81 1530.21 Z\" fill=\"#000000\" fill-rule=\"evenodd\" fill-opacity=\"1\" /><path clip-path=\"url(#clip980)\" d=\"M2292.32 1518.36 L2280.51 1536.81 L2292.32 1536.81 L2292.32 1518.36 M2291.09 1514.29 L2296.97 1514.29 L2296.97 1536.81 L2301.9 1536.81 L2301.9 1540.7 L2296.97 1540.7 L2296.97 1548.85 L2292.32 1548.85 L2292.32 1540.7 L2276.71 1540.7 L2276.71 1536.19 L2291.09 1514.29 Z\" fill=\"#000000\" fill-rule=\"evenodd\" fill-opacity=\"1\" /><polyline clip-path=\"url(#clip982)\" style=\"stroke:#000000; stroke-linecap:round; stroke-linejoin:round; stroke-width:2; stroke-opacity:0.1; fill:none\" points=\"\n",
       "  110.881,1447.87 2352.76,1447.87 \n",
       "  \"/>\n",
       "<polyline clip-path=\"url(#clip982)\" style=\"stroke:#000000; stroke-linecap:round; stroke-linejoin:round; stroke-width:2; stroke-opacity:0.1; fill:none\" points=\"\n",
       "  110.881,1019.26 2352.76,1019.26 \n",
       "  \"/>\n",
       "<polyline clip-path=\"url(#clip982)\" style=\"stroke:#000000; stroke-linecap:round; stroke-linejoin:round; stroke-width:2; stroke-opacity:0.1; fill:none\" points=\"\n",
       "  110.881,590.656 2352.76,590.656 \n",
       "  \"/>\n",
       "<polyline clip-path=\"url(#clip982)\" style=\"stroke:#000000; stroke-linecap:round; stroke-linejoin:round; stroke-width:2; stroke-opacity:0.1; fill:none\" points=\"\n",
       "  110.881,162.047 2352.76,162.047 \n",
       "  \"/>\n",
       "<polyline clip-path=\"url(#clip980)\" style=\"stroke:#000000; stroke-linecap:round; stroke-linejoin:round; stroke-width:4; stroke-opacity:1; fill:none\" points=\"\n",
       "  110.881,1486.45 110.881,123.472 \n",
       "  \"/>\n",
       "<polyline clip-path=\"url(#clip980)\" style=\"stroke:#000000; stroke-linecap:round; stroke-linejoin:round; stroke-width:4; stroke-opacity:1; fill:none\" points=\"\n",
       "  110.881,1447.87 129.779,1447.87 \n",
       "  \"/>\n",
       "<polyline clip-path=\"url(#clip980)\" style=\"stroke:#000000; stroke-linecap:round; stroke-linejoin:round; stroke-width:4; stroke-opacity:1; fill:none\" points=\"\n",
       "  110.881,1019.26 129.779,1019.26 \n",
       "  \"/>\n",
       "<polyline clip-path=\"url(#clip980)\" style=\"stroke:#000000; stroke-linecap:round; stroke-linejoin:round; stroke-width:4; stroke-opacity:1; fill:none\" points=\"\n",
       "  110.881,590.656 129.779,590.656 \n",
       "  \"/>\n",
       "<polyline clip-path=\"url(#clip980)\" style=\"stroke:#000000; stroke-linecap:round; stroke-linejoin:round; stroke-width:4; stroke-opacity:1; fill:none\" points=\"\n",
       "  110.881,162.047 129.779,162.047 \n",
       "  \"/>\n",
       "<path clip-path=\"url(#clip980)\" d=\"M62.9365 1433.67 Q59.3254 1433.67 57.4967 1437.24 Q55.6912 1440.78 55.6912 1447.91 Q55.6912 1455.01 57.4967 1458.58 Q59.3254 1462.12 62.9365 1462.12 Q66.5707 1462.12 68.3763 1458.58 Q70.205 1455.01 70.205 1447.91 Q70.205 1440.78 68.3763 1437.24 Q66.5707 1433.67 62.9365 1433.67 M62.9365 1429.97 Q68.7467 1429.97 71.8022 1434.57 Q74.8809 1439.16 74.8809 1447.91 Q74.8809 1456.63 71.8022 1461.24 Q68.7467 1465.82 62.9365 1465.82 Q57.1264 1465.82 54.0477 1461.24 Q50.9921 1456.63 50.9921 1447.91 Q50.9921 1439.16 54.0477 1434.57 Q57.1264 1429.97 62.9365 1429.97 Z\" fill=\"#000000\" fill-rule=\"evenodd\" fill-opacity=\"1\" /><path clip-path=\"url(#clip980)\" d=\"M54.9736 1032.61 L62.6124 1032.61 L62.6124 1006.24 L54.3023 1007.91 L54.3023 1003.65 L62.5661 1001.98 L67.242 1001.98 L67.242 1032.61 L74.8809 1032.61 L74.8809 1036.54 L54.9736 1036.54 L54.9736 1032.61 Z\" fill=\"#000000\" fill-rule=\"evenodd\" fill-opacity=\"1\" /><path clip-path=\"url(#clip980)\" d=\"M58.5615 604 L74.8809 604 L74.8809 607.936 L52.9366 607.936 L52.9366 604 Q55.5986 601.246 60.1819 596.616 Q64.7883 591.964 65.9689 590.621 Q68.2143 588.098 69.0939 586.362 Q69.9967 584.602 69.9967 582.913 Q69.9967 580.158 68.0522 578.422 Q66.1309 576.686 63.0291 576.686 Q60.83 576.686 58.3763 577.45 Q55.9458 578.214 53.168 579.764 L53.168 575.042 Q55.9921 573.908 58.4458 573.329 Q60.8995 572.751 62.9365 572.751 Q68.3068 572.751 71.5013 575.436 Q74.6957 578.121 74.6957 582.612 Q74.6957 584.741 73.8855 586.663 Q73.0985 588.561 70.992 591.153 Q70.4133 591.825 67.3115 595.042 Q64.2096 598.237 58.5615 604 Z\" fill=\"#000000\" fill-rule=\"evenodd\" fill-opacity=\"1\" /><path clip-path=\"url(#clip980)\" d=\"M67.7513 160.693 Q71.1078 161.41 72.9827 163.679 Q74.8809 165.947 74.8809 169.281 Q74.8809 174.396 71.3624 177.197 Q67.8439 179.998 61.3624 179.998 Q59.1865 179.998 56.8717 179.558 Q54.5801 179.142 52.1264 178.285 L52.1264 173.771 Q54.0708 174.906 56.3856 175.484 Q58.7004 176.063 61.2236 176.063 Q65.6217 176.063 67.9133 174.327 Q70.2281 172.591 70.2281 169.281 Q70.2281 166.225 68.0754 164.512 Q65.9457 162.776 62.1263 162.776 L58.0986 162.776 L58.0986 158.934 L62.3115 158.934 Q65.7606 158.934 67.5893 157.568 Q69.418 156.179 69.418 153.586 Q69.418 150.924 67.5198 149.512 Q65.6448 148.077 62.1263 148.077 Q60.205 148.077 58.006 148.494 Q55.8069 148.91 53.168 149.79 L53.168 145.623 Q55.8301 144.883 58.1449 144.512 Q60.4828 144.142 62.543 144.142 Q67.867 144.142 70.9689 146.572 Q74.0707 148.98 74.0707 153.1 Q74.0707 155.971 72.4272 157.961 Q70.7837 159.929 67.7513 160.693 Z\" fill=\"#000000\" fill-rule=\"evenodd\" fill-opacity=\"1\" /><path clip-path=\"url(#clip980)\" d=\"M992.633 12.096 L1001.42 12.096 L1016.45 34.5785 L1031.56 12.096 L1040.35 12.096 L1020.91 41.141 L1041.65 72.576 L1032.86 72.576 L1015.84 46.8528 L998.709 72.576 L989.878 72.576 L1011.47 40.2903 L992.633 12.096 Z\" fill=\"#000000\" fill-rule=\"evenodd\" fill-opacity=\"1\" /><path clip-path=\"url(#clip980)\" d=\"M1044.08 12.096 L1052.87 12.096 L1069.64 36.9686 L1086.29 12.096 L1095.08 12.096 L1073.69 43.7741 L1073.69 72.576 L1065.47 72.576 L1065.47 43.7741 L1044.08 12.096 Z\" fill=\"#000000\" fill-rule=\"evenodd\" fill-opacity=\"1\" /><path clip-path=\"url(#clip980)\" d=\"M1111.24 18.8205 L1111.24 65.8515 L1121.13 65.8515 Q1133.64 65.8515 1139.44 60.1802 Q1145.27 54.509 1145.27 42.2752 Q1145.27 30.1225 1139.44 24.4918 Q1133.64 18.8205 1121.13 18.8205 L1111.24 18.8205 M1103.06 12.096 L1119.87 12.096 Q1137.45 12.096 1145.68 19.4281 Q1153.9 26.7198 1153.9 42.2752 Q1153.9 57.9117 1145.64 65.2439 Q1137.37 72.576 1119.87 72.576 L1103.06 72.576 L1103.06 12.096 Z\" fill=\"#000000\" fill-rule=\"evenodd\" fill-opacity=\"1\" /><path clip-path=\"url(#clip980)\" d=\"M1187.24 49.7694 Q1178.2 49.7694 1174.72 51.8354 Q1171.24 53.9013 1171.24 58.8839 Q1171.24 62.8538 1173.83 65.2034 Q1176.46 67.5124 1180.96 67.5124 Q1187.16 67.5124 1190.88 63.1374 Q1194.65 58.7219 1194.65 51.4303 L1194.65 49.7694 L1187.24 49.7694 M1202.11 46.6907 L1202.11 72.576 L1194.65 72.576 L1194.65 65.6895 Q1192.1 69.8214 1188.29 71.8063 Q1184.48 73.7508 1178.97 73.7508 Q1172.01 73.7508 1167.87 69.8619 Q1163.78 65.9325 1163.78 59.3701 Q1163.78 51.7138 1168.89 47.825 Q1174.03 43.9361 1184.2 43.9361 L1194.65 43.9361 L1194.65 43.2069 Q1194.65 38.0623 1191.25 35.2672 Q1187.89 32.4315 1181.77 32.4315 Q1177.88 32.4315 1174.19 33.3632 Q1170.51 34.295 1167.11 36.1584 L1167.11 29.2718 Q1171.2 27.692 1175.04 26.9223 Q1178.89 26.1121 1182.54 26.1121 Q1192.38 26.1121 1197.24 31.2163 Q1202.11 36.3204 1202.11 46.6907 Z\" fill=\"#000000\" fill-rule=\"evenodd\" fill-opacity=\"1\" /><path clip-path=\"url(#clip980)\" d=\"M1224.83 14.324 L1224.83 27.2059 L1240.18 27.2059 L1240.18 32.9987 L1224.83 32.9987 L1224.83 57.6282 Q1224.83 63.1779 1226.33 64.7578 Q1227.87 66.3376 1232.53 66.3376 L1240.18 66.3376 L1240.18 72.576 L1232.53 72.576 Q1223.9 72.576 1220.62 69.3758 Q1217.34 66.1351 1217.34 57.6282 L1217.34 32.9987 L1211.87 32.9987 L1211.87 27.2059 L1217.34 27.2059 L1217.34 14.324 L1224.83 14.324 Z\" fill=\"#000000\" fill-rule=\"evenodd\" fill-opacity=\"1\" /><path clip-path=\"url(#clip980)\" d=\"M1270.61 49.7694 Q1261.57 49.7694 1258.09 51.8354 Q1254.6 53.9013 1254.6 58.8839 Q1254.6 62.8538 1257.2 65.2034 Q1259.83 67.5124 1264.33 67.5124 Q1270.52 67.5124 1274.25 63.1374 Q1278.02 58.7219 1278.02 51.4303 L1278.02 49.7694 L1270.61 49.7694 M1285.47 46.6907 L1285.47 72.576 L1278.02 72.576 L1278.02 65.6895 Q1275.47 69.8214 1271.66 71.8063 Q1267.85 73.7508 1262.34 73.7508 Q1255.37 73.7508 1251.24 69.8619 Q1247.15 65.9325 1247.15 59.3701 Q1247.15 51.7138 1252.26 47.825 Q1257.4 43.9361 1267.57 43.9361 L1278.02 43.9361 L1278.02 43.2069 Q1278.02 38.0623 1274.62 35.2672 Q1271.25 32.4315 1265.14 32.4315 Q1261.25 32.4315 1257.56 33.3632 Q1253.88 34.295 1250.47 36.1584 L1250.47 29.2718 Q1254.56 27.692 1258.41 26.9223 Q1262.26 26.1121 1265.91 26.1121 Q1275.75 26.1121 1280.61 31.2163 Q1285.47 36.3204 1285.47 46.6907 Z\" fill=\"#000000\" fill-rule=\"evenodd\" fill-opacity=\"1\" /><path clip-path=\"url(#clip980)\" d=\"M1335.7 18.8205 L1335.7 41.5461 L1345.99 41.5461 Q1351.7 41.5461 1354.82 38.5889 Q1357.94 35.6318 1357.94 30.163 Q1357.94 24.7348 1354.82 21.7777 Q1351.7 18.8205 1345.99 18.8205 L1335.7 18.8205 M1327.52 12.096 L1345.99 12.096 Q1356.16 12.096 1361.35 16.714 Q1366.57 21.2916 1366.57 30.163 Q1366.57 39.1155 1361.35 43.6931 Q1356.16 48.2706 1345.99 48.2706 L1335.7 48.2706 L1335.7 72.576 L1327.52 72.576 L1327.52 12.096 Z\" fill=\"#000000\" fill-rule=\"evenodd\" fill-opacity=\"1\" /><path clip-path=\"url(#clip980)\" d=\"M1377.23 9.54393 L1384.68 9.54393 L1384.68 72.576 L1377.23 72.576 L1377.23 9.54393 Z\" fill=\"#000000\" fill-rule=\"evenodd\" fill-opacity=\"1\" /><path clip-path=\"url(#clip980)\" d=\"M1417.86 32.4315 Q1411.86 32.4315 1408.38 37.1306 Q1404.89 41.7891 1404.89 49.9314 Q1404.89 58.0738 1408.34 62.7728 Q1411.82 67.4314 1417.86 67.4314 Q1423.81 67.4314 1427.29 62.7323 Q1430.78 58.0333 1430.78 49.9314 Q1430.78 41.8701 1427.29 37.1711 Q1423.81 32.4315 1417.86 32.4315 M1417.86 26.1121 Q1427.58 26.1121 1433.13 32.4315 Q1438.68 38.7509 1438.68 49.9314 Q1438.68 61.0714 1433.13 67.4314 Q1427.58 73.7508 1417.86 73.7508 Q1408.09 73.7508 1402.54 67.4314 Q1397.03 61.0714 1397.03 49.9314 Q1397.03 38.7509 1402.54 32.4315 Q1408.09 26.1121 1417.86 26.1121 Z\" fill=\"#000000\" fill-rule=\"evenodd\" fill-opacity=\"1\" /><path clip-path=\"url(#clip980)\" d=\"M1458.41 14.324 L1458.41 27.2059 L1473.76 27.2059 L1473.76 32.9987 L1458.41 32.9987 L1458.41 57.6282 Q1458.41 63.1779 1459.9 64.7578 Q1461.44 66.3376 1466.1 66.3376 L1473.76 66.3376 L1473.76 72.576 L1466.1 72.576 Q1457.47 72.576 1454.19 69.3758 Q1450.91 66.1351 1450.91 57.6282 L1450.91 32.9987 L1445.44 32.9987 L1445.44 27.2059 L1450.91 27.2059 L1450.91 14.324 L1458.41 14.324 Z\" fill=\"#000000\" fill-rule=\"evenodd\" fill-opacity=\"1\" /><polyline clip-path=\"url(#clip982)\" style=\"stroke:#ffa500; stroke-linecap:round; stroke-linejoin:round; stroke-width:12; stroke-opacity:1; fill:none\" points=\"\n",
       "  174.33,162.047 2289.31,162.047 2289.31,1447.87 174.33,1447.87 174.33,162.047 \n",
       "  \"/>\n",
       "</svg>\n"
      ]
     },
     "execution_count": 19,
     "metadata": {},
     "output_type": "execute_result"
    }
   ],
   "source": [
    "plot(plot_test)"
   ]
  },
  {
   "cell_type": "markdown",
   "id": "e2d310f8-3dcb-4d2f-9e3f-9c2b09a8b8c5",
   "metadata": {},
   "source": [
    "4. Write a function called linearRegression that passes in a XYData object and return the least-squares line\n",
    "(formulas in the Background section above) as either a named tuple or a new datatype."
   ]
  },
  {
   "cell_type": "code",
   "execution_count": 313,
   "id": "b792decb-78b7-47b6-9372-aac60283334b",
   "metadata": {
    "tags": []
   },
   "outputs": [
    {
     "data": {
      "text/plain": [
       "linearRegression (generic function with 1 method)"
      ]
     },
     "execution_count": 313,
     "metadata": {},
     "output_type": "execute_result"
    }
   ],
   "source": [
    "function linearRegression(Data::XYData)\n",
    "    m = Data.vertices[1].x\n",
    "end"
   ]
  },
  {
   "cell_type": "code",
   "execution_count": 314,
   "id": "a2db1a9f-ceb8-42bf-8fb7-10b3f1ffc9da",
   "metadata": {},
   "outputs": [
    {
     "ename": "LoadError",
     "evalue": "UndefVarError: Data not defined",
     "output_type": "error",
     "traceback": [
      "UndefVarError: Data not defined",
      "",
      "Stacktrace:",
      " [1] top-level scope",
      "   @ In[314]:1",
      " [2] eval",
      "   @ .\\boot.jl:368 [inlined]",
      " [3] include_string(mapexpr::typeof(REPL.softscope), mod::Module, code::String, filename::String)",
      "   @ Base .\\loading.jl:1428"
     ]
    }
   ],
   "source": [
    "m=(length(Data)*sum(Data.x*Data.y) - sum(Data.x)*sum(Data.y))/(length(Data.y)*sum(Data.x^2)*(sum(Data.x)^2))\n",
    "#this is essentially the code for the slope portion, but I can't figure out how to access only the x points or only the y points\n",
    "#it should be Data.vertices.something else or something along those lines, but I've tried a million combinations, and nothing has worked thus far"
   ]
  },
  {
   "cell_type": "code",
   "execution_count": 319,
   "id": "5fafa858-7838-4056-919d-1a69375c571d",
   "metadata": {},
   "outputs": [
    {
     "ename": "LoadError",
     "evalue": "UndefVarError: Data not defined",
     "output_type": "error",
     "traceback": [
      "UndefVarError: Data not defined",
      "",
      "Stacktrace:",
      " [1] top-level scope",
      "   @ In[319]:1",
      " [2] eval",
      "   @ .\\boot.jl:368 [inlined]",
      " [3] include_string(mapexpr::typeof(REPL.softscope), mod::Module, code::String, filename::String)",
      "   @ Base .\\loading.jl:1428"
     ]
    }
   ],
   "source": [
    "b=(sum(Data.vertices.y)-m*sum(Data.vertices.x))/length(Data)\n",
    "#this will essentially be the intercept portion of our regression, but without being able to access individual x and y I can't check it"
   ]
  },
  {
   "cell_type": "code",
   "execution_count": 315,
   "id": "95480cf8-f7ee-4ec8-a31d-20a94a2b1e3b",
   "metadata": {},
   "outputs": [
    {
     "data": {
      "text/plain": [
       "5-element Vector{Int64}:\n",
       " 2\n",
       " 3\n",
       " 5\n",
       " 7\n",
       " 9"
      ]
     },
     "execution_count": 315,
     "metadata": {},
     "output_type": "execute_result"
    }
   ],
   "source": [
    "v1 = [2,3,5,7,9]"
   ]
  },
  {
   "cell_type": "code",
   "execution_count": 316,
   "id": "9a1edd70-54e9-43a4-9a93-43dc200fd310",
   "metadata": {},
   "outputs": [
    {
     "data": {
      "text/plain": [
       "5-element Vector{Int64}:\n",
       "  4\n",
       "  5\n",
       "  7\n",
       " 10\n",
       " 15"
      ]
     },
     "execution_count": 316,
     "metadata": {},
     "output_type": "execute_result"
    }
   ],
   "source": [
    "v2 = [4,5,7,10,15]"
   ]
  },
  {
   "cell_type": "code",
   "execution_count": 317,
   "id": "2b6e8d07-8c9f-4f9f-9ca3-b8d2e09bfcd7",
   "metadata": {},
   "outputs": [
    {
     "data": {
      "text/plain": [
       "[(2,4),(3,5),(5,7),(7,10),(9,15)]"
      ]
     },
     "execution_count": 317,
     "metadata": {},
     "output_type": "execute_result"
    }
   ],
   "source": [
    "d1 = XYData(v1,v2)"
   ]
  },
  {
   "cell_type": "code",
   "execution_count": 318,
   "id": "9f40a470-98e8-434f-9773-5ff3cb186d26",
   "metadata": {},
   "outputs": [
    {
     "data": {
      "text/plain": [
       "2"
      ]
     },
     "execution_count": 318,
     "metadata": {},
     "output_type": "execute_result"
    }
   ],
   "source": [
    "linearRegression(d1)"
   ]
  },
  {
   "cell_type": "markdown",
   "id": "a5fc6fee-55de-4cbe-a649-b1e058de7e87",
   "metadata": {},
   "source": [
    "5. Develop a test suite for this module and test the different constructor methods as well as for any errors that\n",
    "may be thrown."
   ]
  },
  {
   "cell_type": "markdown",
   "id": "d6fef42a-13fa-4a9f-ae7b-74b97822ad6d",
   "metadata": {},
   "source": [
    "6. Add documentation for all constructors and functions in the module."
   ]
  }
 ],
 "metadata": {
  "kernelspec": {
   "display_name": "Julia 1.8.1",
   "language": "julia",
   "name": "julia-1.8"
  },
  "language_info": {
   "file_extension": ".jl",
   "mimetype": "application/julia",
   "name": "julia",
   "version": "1.8.1"
  }
 },
 "nbformat": 4,
 "nbformat_minor": 5
}
