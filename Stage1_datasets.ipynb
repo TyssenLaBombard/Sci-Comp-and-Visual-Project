{
 "cells": [
  {
   "cell_type": "markdown",
   "id": "0b66cebb-d62b-44a5-bbee-45052f884234",
   "metadata": {},
   "source": [
    "#### STAGE1 Project\n",
    "#### Alex Phoummalayvane\n",
    "#### Fitting Curves to Data Project"
   ]
  },
  {
   "cell_type": "markdown",
   "id": "e1c49b66-efe1-415e-b05a-3ccec1b1c5c4",
   "metadata": {},
   "source": [
    "1. Copy the Point2D struct from your homework and Chapter 17a into your module. This should be parametric\n",
    "like was discussed in Chapter 17a. That is it should have a single type and if the two points that are passed in\n",
    "are different types, you need to convert."
   ]
  },
  {
   "cell_type": "code",
   "execution_count": 12,
   "id": "3257afab-7de9-48aa-9c42-c0b1ce60e7bd",
   "metadata": {},
   "outputs": [],
   "source": [
    "mutable struct Point2D{T <: Real}\n",
    "    x::T\n",
    "    y::T\n",
    "end"
   ]
  },
  {
   "cell_type": "markdown",
   "id": "a464c192-c706-4e92-ab5a-49b07dc54099",
   "metadata": {},
   "source": [
    "2. Create a new data type called XYData that stores a vector Point2D objects from your homework. You should\n",
    "do this parametrically and the types of data for x and y should be the same and a subset of Real.\n"
   ]
  },
  {
   "cell_type": "code",
   "execution_count": 14,
   "id": "0463cb21-515d-452d-ab23-965ffef7586d",
   "metadata": {
    "tags": []
   },
   "outputs": [
    {
     "ename": "LoadError",
     "evalue": "MethodError: no method matching XYData(::Vector{Tuple{Int64, Int64}})",
     "output_type": "error",
     "traceback": [
      "MethodError: no method matching XYData(::Vector{Tuple{Int64, Int64}})",
      "",
      "Stacktrace:",
      " [1] top-level scope",
      "   @ In[14]:1",
      " [2] eval",
      "   @ .\\boot.jl:368 [inlined]",
      " [3] include_string(mapexpr::typeof(REPL.softscope), mod::Module, code::String, filename::String)",
      "   @ Base .\\loading.jl:1428"
     ]
    }
   ],
   "source": [
    "v = XYData([(1,2), (2,3), (4,6)]) "
   ]
  },
  {
   "cell_type": "code",
   "execution_count": 13,
   "id": "53e9714c-4f01-43d2-8165-e3628277cdea",
   "metadata": {},
   "outputs": [],
   "source": [
    "mutable struct XYData{v <: Point2D} \n",
    "    #stores vector of Point2D objects\n",
    "    vertices::Vector{Point2D}\n",
    "end\n",
    "    #default inner constructor that takes vector of Point2D objects \n",
    "    # function XYData(v::Vector{Point2D})\n",
    "    #     new(v) \n",
    "    # XYData(v) = v.x > v.y ? error(\"X and Y points out of order\") : new(v)\n",
    "\n",
    "\n",
    "\n",
    "#https://docs.julialang.org/en/v1/manual/constructors/\n",
    "    "
   ]
  },
  {
   "cell_type": "code",
   "execution_count": null,
   "id": "d70673f7-3415-4f67-b828-4a67170e82fd",
   "metadata": {},
   "outputs": [],
   "source": []
  },
  {
   "cell_type": "markdown",
   "id": "f71fc520-5c56-4049-9c11-dfd3cb362b91",
   "metadata": {},
   "source": [
    "2a. Create a default inner constructor that takes a vector of Point2D objects.\n"
   ]
  },
  {
   "cell_type": "markdown",
   "id": "addf077d-3e08-41b6-ab82-eea970176ac1",
   "metadata": {},
   "source": [
    "2b. Create a constructor that creates a new XYData object from two vectors of reals of the same length (each\n",
    "vector should be the same subtype of real)."
   ]
  },
  {
   "cell_type": "markdown",
   "id": "f77fa832-b9cc-4cf2-9e08-565d1f36c9dd",
   "metadata": {},
   "source": [
    "2c. Create a constructor that creates a new XYData object from a vector of tuples. Consider tuples of the\n",
    "same and different types.\n"
   ]
  },
  {
   "cell_type": "markdown",
   "id": "9d9169f8-aca0-44b4-bf6c-2e44a2788aa4",
   "metadata": {},
   "source": [
    "2d. Create a constructor that creates a new XYData object from two vectors of the same length but different\n",
    "types (like integers and floats)."
   ]
  },
  {
   "cell_type": "markdown",
   "id": "fee82093-8643-4ec0-aa30-0072a583c1b4",
   "metadata": {
    "tags": []
   },
   "source": [
    "2e. Create a Base.show function that prints out the XYData in a nice way."
   ]
  },
  {
   "cell_type": "code",
   "execution_count": null,
   "id": "bf7ca5e4-60c1-4d17-b86f-6220200a8fe3",
   "metadata": {},
   "outputs": [],
   "source": [
    "#Base.show method to make the XYData nicer to print\n",
    "#Base.show(io::IO, pts::XYData) = print(io, string(r.a, \"x^2 + \", r.b, \"x + \", r.c))"
   ]
  },
  {
   "cell_type": "code",
   "execution_count": null,
   "id": "fc0059d0-1caa-4c90-b6a9-01f0fcb3dc35",
   "metadata": {},
   "outputs": [],
   "source": [
    "Base.show(io::IO, n::XYData) = print(io, string(\"[\",join(n.vertices, \",\"),\"]\"))"
   ]
  },
  {
   "cell_type": "markdown",
   "id": "82696785-737a-4457-94cd-9d09f2f179a0",
   "metadata": {},
   "source": [
    "3.  Use a RecipesBase to develop a plot recipe for plotting XYData. Test it.\n"
   ]
  },
  {
   "cell_type": "markdown",
   "id": "e2d310f8-3dcb-4d2f-9e3f-9c2b09a8b8c5",
   "metadata": {},
   "source": [
    "4. Write a function called linearRegression that passes in a XYData object and return the least-squares line\n",
    "(formulas in the Background section above) as either a named tuple or a new datatype."
   ]
  },
  {
   "cell_type": "markdown",
   "id": "a5fc6fee-55de-4cbe-a649-b1e058de7e87",
   "metadata": {},
   "source": [
    "5. Develop a test suite for this module and test the different constructor methods as well as for any errors that\n",
    "may be thrown."
   ]
  },
  {
   "cell_type": "markdown",
   "id": "d6fef42a-13fa-4a9f-ae7b-74b97822ad6d",
   "metadata": {},
   "source": [
    "6. Add documentation for all constructors and functions in the module."
   ]
  },
  {
   "cell_type": "code",
   "execution_count": null,
   "id": "282aecd7-3e32-40e6-8292-290140b6654c",
   "metadata": {},
   "outputs": [],
   "source": []
  }
 ],
 "metadata": {
  "kernelspec": {
   "display_name": "Julia 1.8.1",
   "language": "julia",
   "name": "julia-1.8"
  },
  "language_info": {
   "file_extension": ".jl",
   "mimetype": "application/julia",
   "name": "julia",
   "version": "1.8.1"
  }
 },
 "nbformat": 4,
 "nbformat_minor": 5
}
